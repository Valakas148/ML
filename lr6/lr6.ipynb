{
 "cells": [
  {
   "cell_type": "code",
   "execution_count": 3,
   "id": "initial_id",
   "metadata": {
    "collapsed": true,
    "ExecuteTime": {
     "end_time": "2024-05-01T19:42:40.042262400Z",
     "start_time": "2024-05-01T19:42:31.470070400Z"
    }
   },
   "outputs": [],
   "source": [
    "import numpy as np\n",
    "import pandas as pd\n",
    "import matplotlib.pyplot as plt\n",
    "import seaborn as sns\n",
    "from sklearn.model_selection import train_test_split\n",
    "from sklearn.preprocessing import StandardScaler, OneHotEncoder\n",
    "from sklearn_pandas import DataFrameMapper\n",
    "from sklearn.impute import SimpleImputer\n",
    "from sklearn.pipeline import Pipeline\n",
    "from sklearn_pandas import gen_features\n",
    "\n",
    "from sklearn.decomposition import PCA\n",
    "from sklearn.metrics import accuracy_score, precision_score, recall_score, f1_score, roc_auc_score, classification_report, log_loss\n",
    "from sklearn.metrics import confusion_matrix\n",
    "from sklearn.manifold import TSNE\n",
    "import umap\n",
    "from sklearn.linear_model import LogisticRegression\n",
    "from sklearn.model_selection import GridSearchCV"
   ]
  },
  {
   "cell_type": "code",
   "outputs": [
    {
     "ename": "NameError",
     "evalue": "name 'pd' is not defined",
     "output_type": "error",
     "traceback": [
      "\u001B[1;31m---------------------------------------------------------------------------\u001B[0m",
      "\u001B[1;31mNameError\u001B[0m                                 Traceback (most recent call last)",
      "Cell \u001B[1;32mIn[2], line 1\u001B[0m\n\u001B[1;32m----> 1\u001B[0m df \u001B[38;5;241m=\u001B[39m \u001B[43mpd\u001B[49m\u001B[38;5;241m.\u001B[39mread_csv(\u001B[38;5;124m\"\u001B[39m\u001B[38;5;124mhypertension_data.csv\u001B[39m\u001B[38;5;124m\"\u001B[39m)\n",
      "\u001B[1;31mNameError\u001B[0m: name 'pd' is not defined"
     ]
    }
   ],
   "source": [
    "df = pd.read_csv(\"hypertension_data.csv\")"
   ],
   "metadata": {
    "collapsed": false,
    "ExecuteTime": {
     "end_time": "2024-05-01T19:42:28.944963500Z",
     "start_time": "2024-05-01T19:42:28.923258Z"
    }
   },
   "id": "79cf212d8ae37b0c",
   "execution_count": 2
  },
  {
   "cell_type": "code",
   "outputs": [],
   "source": [],
   "metadata": {
    "collapsed": false,
    "ExecuteTime": {
     "start_time": "2024-05-01T19:41:24.012225Z"
    }
   },
   "id": "6038b0e9a7e1eb9d",
   "execution_count": null
  },
  {
   "cell_type": "code",
   "outputs": [],
   "source": [
    "X = df.drop('target', axis=1)\n",
    "y = df['target']\n",
    "\n",
    "X_train, X_test, y_train, y_test = train_test_split(X, y, test_size=0.4, random_state=42, stratify=y)\n",
    "\n",
    "numeric_features = ['age', 'trestbps', 'chol', 'thalach', 'oldpeak']\n",
    "categorical_features = ['slope' , 'ca' , 'thal' , 'restecg' , 'cp']\n",
    "bin = ['sex', 'fbs', 'exang']\n",
    "\n",
    "numeric_transformations = gen_features(\n",
    "    columns=[[col] for col in numeric_features],\n",
    "    classes=[\n",
    "        {'class': SimpleImputer, 'strategy': 'median'},\n",
    "        {'class': StandardScaler}\n",
    "    ]\n",
    ")\n",
    "\n",
    "categorical_transformations = gen_features(\n",
    "    columns=[[col] for col in categorical_features],\n",
    "        classes=[\n",
    "        {'class': SimpleImputer, 'strategy': 'most_frequent'},\n",
    "        {'class': OneHotEncoder}\n",
    "    ]\n",
    ")\n",
    "bin_trans = gen_features(\n",
    "    columns=[[col] for col in bin],\n",
    "        classes=[\n",
    "        {'class': SimpleImputer, 'strategy': 'median'},\n",
    "    ]\n",
    ")\n",
    "\n",
    "preprocessor = DataFrameMapper(\n",
    "    numeric_transformations + categorical_transformations + bin_trans,\n",
    "    df_out=True, default=False\n",
    ")\n",
    "\n",
    "X_train_prepr = preprocessor.fit_transform(X_train)\n",
    "X_test_prepr = preprocessor.transform(X_test)"
   ],
   "metadata": {
    "collapsed": false,
    "ExecuteTime": {
     "end_time": "2024-04-30T18:30:25.783309700Z",
     "start_time": "2024-04-30T18:30:25.675711100Z"
    }
   },
   "id": "6c91eea871ff556c",
   "execution_count": 3
  },
  {
   "cell_type": "code",
   "outputs": [
    {
     "ename": "NameError",
     "evalue": "name 'X_train_prepr' is not defined",
     "output_type": "error",
     "traceback": [
      "\u001B[1;31m---------------------------------------------------------------------------\u001B[0m",
      "\u001B[1;31mNameError\u001B[0m                                 Traceback (most recent call last)",
      "Cell \u001B[1;32mIn[1], line 1\u001B[0m\n\u001B[1;32m----> 1\u001B[0m \u001B[43mX_train_prepr\u001B[49m\n",
      "\u001B[1;31mNameError\u001B[0m: name 'X_train_prepr' is not defined"
     ]
    }
   ],
   "source": [
    "X_train_prepr"
   ],
   "metadata": {
    "collapsed": false,
    "ExecuteTime": {
     "end_time": "2024-05-01T19:41:23.992669300Z",
     "start_time": "2024-05-01T19:41:23.615801400Z"
    }
   },
   "id": "74b0fd95fb6991bf",
   "execution_count": 1
  },
  {
   "cell_type": "code",
   "outputs": [],
   "source": [],
   "metadata": {
    "collapsed": false,
    "ExecuteTime": {
     "start_time": "2024-05-01T19:41:23.991675900Z"
    }
   },
   "id": "743aa7802a63393",
   "execution_count": null
  },
  {
   "cell_type": "markdown",
   "source": [
    "# Побудувати модель зменшення вимірності PCA "
   ],
   "metadata": {
    "collapsed": false
   },
   "id": "f09b00dc94dc9779"
  },
  {
   "cell_type": "code",
   "outputs": [],
   "source": [
    "pca = PCA(n_components=X_train_prepr.shape[1])\n",
    "pca.fit(X_train_prepr)\n",
    "\n",
    "X_train_pca = pca.transform(X_train_prepr)\n",
    "X_test_pca = pca.transform(X_test_prepr)"
   ],
   "metadata": {
    "collapsed": false,
    "ExecuteTime": {
     "end_time": "2024-05-01T19:41:23.993667700Z",
     "start_time": "2024-05-01T19:41:23.992669300Z"
    }
   },
   "id": "57d8e0597660be5b",
   "execution_count": null
  },
  {
   "cell_type": "markdown",
   "source": [
    "Провести аналіз explained variance для кожної компоненти та кумулятивно, оцінити оптимальну кількість компонент;"
   ],
   "metadata": {
    "collapsed": false
   },
   "id": "72b7763972532a3e"
  },
  {
   "cell_type": "code",
   "outputs": [],
   "source": [
    "# Аналіз explained variance для кожної компоненти\n",
    "explained_variance = pca.explained_variance_ratio_\n",
    "cumulative_variance = np.cumsum(explained_variance)\n",
    "\n",
    "# Візуалізація explained variance\n",
    "plt.figure(figsize=(10, 6))\n",
    "plt.bar(range(1, len(explained_variance) + 1), explained_variance, alpha=0.5, align='center',\n",
    "        label='Explained Variance by Component')\n",
    "plt.step(range(1, len(cumulative_variance) + 1), cumulative_variance, where='mid',\n",
    "         label='Cumulative Explained Variance')\n",
    "plt.xlabel('Principal Components')\n",
    "plt.ylabel('Explained Variance Ratio')\n",
    "plt.title('Explained Variance by Principal Components')\n",
    "plt.legend(loc='best')\n",
    "plt.tight_layout()\n",
    "plt.show()"
   ],
   "metadata": {
    "collapsed": false,
    "ExecuteTime": {
     "end_time": "2024-05-01T19:41:23.999706Z",
     "start_time": "2024-05-01T19:41:23.993667700Z"
    }
   },
   "id": "71ebbe8ef943f73b",
   "execution_count": null
  },
  {
   "cell_type": "code",
   "outputs": [],
   "source": [],
   "metadata": {
    "collapsed": false,
    "ExecuteTime": {
     "start_time": "2024-05-01T19:41:23.995666100Z"
    }
   },
   "id": "8053f53f8b2b9727",
   "execution_count": null
  },
  {
   "cell_type": "code",
   "outputs": [],
   "source": [],
   "metadata": {
    "collapsed": false,
    "ExecuteTime": {
     "start_time": "2024-05-01T19:41:23.996667300Z"
    }
   },
   "id": "d521133a3ec06137",
   "execution_count": null
  },
  {
   "cell_type": "markdown",
   "source": [
    "Зменшити вимірність до двох компонент (або вибрати перші дві компоненти з вже навченого PCA) та побудувати візуалізацію об’єктів у новому просторі (колір точки повинен залежати від таргет-змінної);"
   ],
   "metadata": {
    "collapsed": false
   },
   "id": "c1e725402f7c6eff"
  },
  {
   "cell_type": "code",
   "outputs": [],
   "source": [
    "# Зменшення вимірності до двох компонент\n",
    "pca_2d = PCA(n_components=2)\n",
    "X_train_pca_2d = pca_2d.fit_transform(X_train_prepr)\n",
    "\n",
    "# Візуалізація об'єктів у новому просторі\n",
    "plt.figure(figsize=(10, 6))\n",
    "plt.scatter(X_train_pca_2d[:, 0], X_train_pca_2d[:, 1], c=y_train, cmap='viridis')\n",
    "plt.title('Objects in 2D PCA Space (Colored by Target Variable)')\n",
    "plt.xlabel('Principal Component 1')\n",
    "plt.ylabel('Principal Component 2')\n",
    "plt.colorbar(label='Target')\n",
    "plt.show()\n"
   ],
   "metadata": {
    "collapsed": false,
    "ExecuteTime": {
     "start_time": "2024-05-01T19:41:23.997699800Z"
    }
   },
   "id": "58f25417b2d077df",
   "execution_count": null
  },
  {
   "cell_type": "code",
   "outputs": [],
   "source": [],
   "metadata": {
    "collapsed": false,
    "ExecuteTime": {
     "start_time": "2024-05-01T19:41:23.999706Z"
    }
   },
   "id": "c1da83b9aabcd804",
   "execution_count": null
  },
  {
   "cell_type": "markdown",
   "source": [
    "# Обрати дві моделі нелінійного зменшення вимірності на базі многовидів [API: 3, 4]:\n"
   ],
   "metadata": {
    "collapsed": false
   },
   "id": "8e2d7c9412283bdb"
  },
  {
   "cell_type": "code",
   "outputs": [],
   "source": [
    "# Ініціалізуємо модель t-SNE з 2 компонентами\n",
    "tsne = TSNE(n_components=2, random_state=42)\n",
    "\n",
    "# Зменшення вимірності та візуалізація результату\n",
    "X_train_tsne = tsne.fit_transform(X_train_prepr)\n",
    "plt.figure(figsize=(10, 6))\n",
    "plt.scatter(X_train_tsne[:, 0], X_train_tsne[:, 1], c=y_train, cmap='viridis')\n",
    "plt.title('t-SNE Visualization (Colored by Target Variable)')\n",
    "plt.xlabel('t-SNE Component 1')\n",
    "plt.ylabel('t-SNE Component 2')\n",
    "plt.colorbar(label='Target')\n",
    "plt.show()"
   ],
   "metadata": {
    "collapsed": false,
    "ExecuteTime": {
     "end_time": "2024-05-01T19:41:24.005707200Z",
     "start_time": "2024-05-01T19:41:24.000706700Z"
    }
   },
   "id": "238e9edad7e3fb3b",
   "execution_count": null
  },
  {
   "cell_type": "code",
   "outputs": [],
   "source": [
    "\n",
    "# Значення параметрів perplexity, які будемо тестувати\n",
    "perplexity_values = [5, 30, 50]\n",
    "\n",
    "# Побудова та візуалізація результатів для кожного значення perplexity\n",
    "plt.figure(figsize=(15, 10))\n",
    "for i, perplexity in enumerate(perplexity_values, 1):\n",
    "    # Ініціалізація моделі t-SNE з відповідним значенням perplexity\n",
    "    tsne_model = TSNE(n_components=2, perplexity=perplexity, random_state=42)\n",
    "    \n",
    "    # Зменшення вимірності та візуалізація результату\n",
    "    X_train_tsne = tsne_model.fit_transform(X_train_prepr)\n",
    "    \n",
    "    plt.subplot(2, 3, i)\n",
    "    plt.scatter(X_train_tsne[:, 0], X_train_tsne[:, 1], c=y_train, cmap='viridis')\n",
    "    plt.title(f't-SNE (perplexity={perplexity})')\n",
    "    plt.xlabel('t-SNE Component 1')\n",
    "    plt.ylabel('t-SNE Component 2')\n",
    "    plt.colorbar(label='Target')\n",
    "\n",
    "plt.tight_layout()\n",
    "plt.show()"
   ],
   "metadata": {
    "collapsed": false,
    "ExecuteTime": {
     "start_time": "2024-05-01T19:41:24.001708400Z"
    }
   },
   "id": "3da1c558d2b0015f",
   "execution_count": null
  },
  {
   "cell_type": "code",
   "outputs": [],
   "source": [
    "# Ініціалізуємо модель UMAP з 2 компонентами\n",
    "umap_model = umap.UMAP(n_components=2, random_state=42)\n",
    "\n",
    "# Зменшення вимірності та візуалізація результату\n",
    "X_train_umap = umap_model.fit_transform(X_train_prepr)\n",
    "plt.figure(figsize=(10, 6))\n",
    "plt.scatter(X_train_umap[:, 0], X_train_umap[:, 1], c=y_train, cmap='viridis')\n",
    "plt.title('UMAP Visualization (Colored by Target Variable)')\n",
    "plt.xlabel('UMAP Component 1')\n",
    "plt.ylabel('UMAP Component 2')\n",
    "plt.colorbar(label='Target')\n",
    "plt.show()"
   ],
   "metadata": {
    "collapsed": false,
    "ExecuteTime": {
     "start_time": "2024-05-01T19:41:24.003706400Z"
    }
   },
   "id": "56b17604bb2bb46f",
   "execution_count": null
  },
  {
   "cell_type": "code",
   "outputs": [],
   "source": [
    "# Список значень n_neighbors, які ви бажаєте перевірити\n",
    "n_neighbors_values = [5, 10, 15, 20]\n",
    "\n",
    "# Побудова UMAP та візуалізація для кожного значення n_neighbors\n",
    "for n_neighbors in n_neighbors_values:\n",
    "    umap_model = umap.UMAP(n_components=2, n_neighbors=n_neighbors, random_state=42)\n",
    "    X_train_umap = umap_model.fit_transform(X_train_prepr)\n",
    "    \n",
    "    plt.figure(figsize=(10, 6))\n",
    "    plt.scatter(X_train_umap[:, 0], X_train_umap[:, 1], c=y_train, cmap='viridis')\n",
    "    plt.title(f'UMAP Visualization (n_neighbors={n_neighbors})')\n",
    "    plt.xlabel('UMAP Component 1')\n",
    "    plt.ylabel('UMAP Component 2')\n",
    "    plt.colorbar(label='Target')\n",
    "    plt.show()"
   ],
   "metadata": {
    "collapsed": false,
    "ExecuteTime": {
     "start_time": "2024-05-01T19:41:24.004705900Z"
    }
   },
   "id": "de98ce039e56171f",
   "execution_count": null
  },
  {
   "cell_type": "markdown",
   "source": [
    "ф"
   ],
   "metadata": {
    "collapsed": false
   },
   "id": "a4d791395438d7cc"
  },
  {
   "cell_type": "code",
   "outputs": [],
   "source": [
    "\n",
    "# Список значень n_neighbors для UMAP та perplexity для t-SNE\n",
    "umap_n_neighbors_values = [5, 10, 15, 20]\n",
    "tsne_perplexity_values = [30, 50, 70, 100]\n",
    "\n",
    "fig, axs = plt.subplots(len(umap_n_neighbors_values) + len(tsne_perplexity_values), 2, figsize=(10, 6 * (len(umap_n_neighbors_values) + len(tsne_perplexity_values))))\n",
    "\n",
    "# Побудова UMAP та візуалізація для кожного значення n_neighbors\n",
    "for i, n_neighbors in enumerate(umap_n_neighbors_values):\n",
    "    umap_model = umap.UMAP(n_components=2, n_neighbors=n_neighbors, random_state=42)\n",
    "    X_train_umap = umap_model.fit_transform(X_train_prepr)\n",
    "    \n",
    "    axs[i, 0].scatter(X_train_umap[:, 0], X_train_umap[:, 1], c=y_train, cmap='viridis')\n",
    "    axs[i, 0].set_title(f'UMAP Visualization (n_neighbors={n_neighbors})')\n",
    "    axs[i, 0].set_xlabel('UMAP Component 1')\n",
    "    axs[i, 0].set_ylabel('UMAP Component 2')\n",
    "    fig.colorbar(axs[i, 0].collections[0], ax=axs[i, 0], label='Target')\n",
    "\n",
    "# Побудова t-SNE та візуалізація для кожного значення perplexity\n",
    "for i, perplexity in enumerate(tsne_perplexity_values):\n",
    "    tsne_model = TSNE(n_components=2, perplexity=perplexity, random_state=42)\n",
    "    X_train_tsne = tsne_model.fit_transform(X_train_prepr)\n",
    "    \n",
    "    axs[i + len(umap_n_neighbors_values), 1].scatter(X_train_tsne[:, 0], X_train_tsne[:, 1], c=y_train, cmap='viridis')\n",
    "    axs[i + len(umap_n_neighbors_values), 1].set_title(f't-SNE Visualization (perplexity={perplexity})')\n",
    "    axs[i + len(umap_n_neighbors_values), 1].set_xlabel('t-SNE Component 1')\n",
    "    axs[i + len(umap_n_neighbors_values), 1].set_ylabel('t-SNE Component 2')\n",
    "    fig.colorbar(axs[i + len(umap_n_neighbors_values), 1].collections[0], ax=axs[i + len(umap_n_neighbors_values), 1], label='Target')\n",
    "\n",
    "plt.tight_layout()\n",
    "plt.show()"
   ],
   "metadata": {
    "collapsed": false,
    "ExecuteTime": {
     "end_time": "2024-05-01T19:41:24.008219600Z",
     "start_time": "2024-05-01T19:41:24.005707200Z"
    }
   },
   "id": "3779e4543a224be1",
   "execution_count": null
  },
  {
   "cell_type": "markdown",
   "source": [
    "# Побудувати модель бінарної класифікації (лог. регресію) зі зменшенням вимірності:\n"
   ],
   "metadata": {
    "collapsed": false
   },
   "id": "5a3c3640a34b8d64"
  },
  {
   "cell_type": "code",
   "outputs": [],
   "source": [
    "# Створення пайплайну зі зменшенням вимірності PCA та логістичною регресією\n",
    "pipeline = Pipeline([\n",
    "    ('pca', pca),  # Використовуємо вже навчений PCA\n",
    "    ('clf', LogisticRegression(random_state=42))\n",
    "])\n",
    "\n",
    "# Параметри, які будемо тюнити\n",
    "parameters = {\n",
    "    'clf__C': [0.001, 0.01, 0.1, 1, 10, 100]  # Регуляризаційний параметр логістичної регресії\n",
    "}\n",
    "\n",
    "# GridSearchCV для налаштування пайплайну\n",
    "grid_search = GridSearchCV(pipeline, parameters, cv=5)\n",
    "grid_search.fit(X_train_prepr, y_train)\n",
    "\n",
    "# Найкращі параметри та результати\n",
    "best_params = grid_search.best_params_\n",
    "best_score = grid_search.best_score_\n",
    "print(f'Найкращі параметри: {best_params}')\n",
    "print(f'Найкращий результат: {best_score}')\n",
    "\n",
    "# Отримання оптимального пайплайну\n",
    "optimal_pipeline = grid_search.best_estimator_"
   ],
   "metadata": {
    "collapsed": false,
    "ExecuteTime": {
     "start_time": "2024-05-01T19:41:24.007212600Z"
    }
   },
   "id": "4a118ec85493d7fe",
   "execution_count": null
  },
  {
   "cell_type": "code",
   "outputs": [],
   "source": [
    "# Отримання прогнозів на тестовому наборі\n",
    "y_pred = optimal_pipeline.predict(X_test_prepr)\n",
    "y_pred_proba = optimal_pipeline.predict_proba(X_test_prepr)[:, 1]\n",
    "\n",
    "# Обчислення метрик\n",
    "binary_crossentropy = log_loss(y_test, y_pred_proba)\n",
    "accuracy = accuracy_score(y_test, y_pred)\n",
    "precision = precision_score(y_test, y_pred)\n",
    "recall = recall_score(y_test, y_pred)\n",
    "f1 = f1_score(y_test, y_pred)\n",
    "roc_auc = roc_auc_score(y_test, y_pred_proba)\n",
    "\n",
    "# Виведення результатів\n",
    "print(f'Binary Crossentropy: {binary_crossentropy:.4f}')\n",
    "print(f'Accuracy: {accuracy:.4f}')\n",
    "print(f'Precision: {precision:.4f}')\n",
    "print(f'Recall: {recall:.4f}')\n",
    "print(f'F₁ Score: {f1:.4f}')\n",
    "print(f'ROC AUC: {roc_auc:.4f}')"
   ],
   "metadata": {
    "collapsed": false,
    "ExecuteTime": {
     "start_time": "2024-05-01T19:41:24.008219600Z"
    }
   },
   "id": "b94e9401e05a178b",
   "execution_count": null
  },
  {
   "cell_type": "code",
   "outputs": [],
   "source": [],
   "metadata": {
    "collapsed": false,
    "ExecuteTime": {
     "end_time": "2024-05-01T19:41:24.009226400Z",
     "start_time": "2024-05-01T19:41:24.009226400Z"
    }
   },
   "id": "bad70455611c3df0",
   "execution_count": null
  }
 ],
 "metadata": {
  "kernelspec": {
   "display_name": "Python 3",
   "language": "python",
   "name": "python3"
  },
  "language_info": {
   "codemirror_mode": {
    "name": "ipython",
    "version": 2
   },
   "file_extension": ".py",
   "mimetype": "text/x-python",
   "name": "python",
   "nbconvert_exporter": "python",
   "pygments_lexer": "ipython2",
   "version": "2.7.6"
  }
 },
 "nbformat": 4,
 "nbformat_minor": 5
}
