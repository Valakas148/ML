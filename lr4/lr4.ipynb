{
 "cells": [
  {
   "cell_type": "code",
   "execution_count": 659,
   "id": "initial_id",
   "metadata": {
    "collapsed": true,
    "ExecuteTime": {
     "end_time": "2024-04-16T18:23:28.981997800Z",
     "start_time": "2024-04-16T18:23:28.861504100Z"
    }
   },
   "outputs": [],
   "source": [
    "import numpy as np\n",
    "import pandas as pd\n",
    "import matplotlib.pyplot as plt\n",
    "import seaborn as sns\n",
    "\n",
    "from sklearn import preprocessing\n",
    "from sklearn.model_selection import train_test_split\n",
    "from sklearn.preprocessing import StandardScaler, OneHotEncoder\n",
    "from sklearn_pandas import DataFrameMapper\n",
    "from sklearn.compose import ColumnTransformer\n",
    "from sklearn.impute import SimpleImputer\n",
    "from sklearn.pipeline import Pipeline\n",
    "from sklearn.neighbors import KNeighborsClassifier\n",
    "from sklearn.linear_model import SGDClassifier\n",
    "from sklearn.model_selection import GridSearchCV\n",
    "from sklearn_pandas import gen_features\n",
    "from sklearn.metrics import accuracy_score, precision_recall_fscore_support, classification_report , confusion_matrix\n",
    "from sklearn.metrics import precision_score, recall_score, f1_score\n",
    "from sklearn.tree import DecisionTreeClassifier\n"
   ]
  },
  {
   "cell_type": "code",
   "outputs": [],
   "source": [
    "df = pd.read_csv(\"chocolate_bars.csv\")"
   ],
   "metadata": {
    "collapsed": false,
    "ExecuteTime": {
     "end_time": "2024-04-16T18:20:56.674175400Z",
     "start_time": "2024-04-16T18:20:56.633400600Z"
    }
   },
   "id": "aed1869c82495cc9",
   "execution_count": 634
  },
  {
   "cell_type": "code",
   "outputs": [
    {
     "data": {
      "text/plain": "     id manufacturer company_location  year_reviewed         bean_origin  \\\n0  2454         5150           U.S.A.           2019            Tanzania   \n1  2458         5150           U.S.A.           2019  Dominican Republic   \n2  2454         5150           U.S.A.           2019          Madagascar   \n3  2542         5150           U.S.A.           2021                Fiji   \n4  2546         5150           U.S.A.           2021           Venezuela   \n5  2546         5150           U.S.A.           2021              Uganda   \n6  2542         5150           U.S.A.           2021               India   \n7   797     A. Morin           France           2012             Bolivia   \n8   797     A. Morin           France           2012                Peru   \n9  1011     A. Morin           France           2013              Panama   \n\n                   bar_name  cocoa_percent  num_ingredients ingredients  \\\n0     Kokoa Kamili, batch 1           76.0              3.0       B,S,C   \n1           Zorzal, batch 1           76.0              3.0       B,S,C   \n2    Bejofo Estate, batch 1           76.0              3.0       B,S,C   \n3     Matasawalevu, batch 1           68.0              3.0       B,S,C   \n4     Sur del Lago, batch 1           72.0              3.0       B,S,C   \n5  Semuliki Forest, batch 1           80.0              3.0       B,S,C   \n6         Anamalai, batch 1           68.0              3.0       B,S,C   \n7                   Bolivia           70.0              4.0     B,S,C,L   \n8                      Peru           63.0              4.0     B,S,C,L   \n9                    Panama           70.0              4.0     B,S,C,L   \n\n                              review  rating  \n0          rich cocoa, fatty, bready    3.25  \n1             cocoa, vegetal, savory    3.50  \n2       cocoa, blackberry, full body    3.75  \n3                chewy, off, rubbery    3.00  \n4  fatty, earthy, moss, nutty,chalky    3.00  \n5  mildly bitter, basic cocoa, fatty    3.25  \n6      milk brownie, macadamia,chewy    3.50  \n7                     vegetal, nutty    3.50  \n8              fruity, melon, roasty    3.75  \n9    brief fruit note, earthy, nutty    2.75  ",
      "text/html": "<div>\n<style scoped>\n    .dataframe tbody tr th:only-of-type {\n        vertical-align: middle;\n    }\n\n    .dataframe tbody tr th {\n        vertical-align: top;\n    }\n\n    .dataframe thead th {\n        text-align: right;\n    }\n</style>\n<table border=\"1\" class=\"dataframe\">\n  <thead>\n    <tr style=\"text-align: right;\">\n      <th></th>\n      <th>id</th>\n      <th>manufacturer</th>\n      <th>company_location</th>\n      <th>year_reviewed</th>\n      <th>bean_origin</th>\n      <th>bar_name</th>\n      <th>cocoa_percent</th>\n      <th>num_ingredients</th>\n      <th>ingredients</th>\n      <th>review</th>\n      <th>rating</th>\n    </tr>\n  </thead>\n  <tbody>\n    <tr>\n      <th>0</th>\n      <td>2454</td>\n      <td>5150</td>\n      <td>U.S.A.</td>\n      <td>2019</td>\n      <td>Tanzania</td>\n      <td>Kokoa Kamili, batch 1</td>\n      <td>76.0</td>\n      <td>3.0</td>\n      <td>B,S,C</td>\n      <td>rich cocoa, fatty, bready</td>\n      <td>3.25</td>\n    </tr>\n    <tr>\n      <th>1</th>\n      <td>2458</td>\n      <td>5150</td>\n      <td>U.S.A.</td>\n      <td>2019</td>\n      <td>Dominican Republic</td>\n      <td>Zorzal, batch 1</td>\n      <td>76.0</td>\n      <td>3.0</td>\n      <td>B,S,C</td>\n      <td>cocoa, vegetal, savory</td>\n      <td>3.50</td>\n    </tr>\n    <tr>\n      <th>2</th>\n      <td>2454</td>\n      <td>5150</td>\n      <td>U.S.A.</td>\n      <td>2019</td>\n      <td>Madagascar</td>\n      <td>Bejofo Estate, batch 1</td>\n      <td>76.0</td>\n      <td>3.0</td>\n      <td>B,S,C</td>\n      <td>cocoa, blackberry, full body</td>\n      <td>3.75</td>\n    </tr>\n    <tr>\n      <th>3</th>\n      <td>2542</td>\n      <td>5150</td>\n      <td>U.S.A.</td>\n      <td>2021</td>\n      <td>Fiji</td>\n      <td>Matasawalevu, batch 1</td>\n      <td>68.0</td>\n      <td>3.0</td>\n      <td>B,S,C</td>\n      <td>chewy, off, rubbery</td>\n      <td>3.00</td>\n    </tr>\n    <tr>\n      <th>4</th>\n      <td>2546</td>\n      <td>5150</td>\n      <td>U.S.A.</td>\n      <td>2021</td>\n      <td>Venezuela</td>\n      <td>Sur del Lago, batch 1</td>\n      <td>72.0</td>\n      <td>3.0</td>\n      <td>B,S,C</td>\n      <td>fatty, earthy, moss, nutty,chalky</td>\n      <td>3.00</td>\n    </tr>\n    <tr>\n      <th>5</th>\n      <td>2546</td>\n      <td>5150</td>\n      <td>U.S.A.</td>\n      <td>2021</td>\n      <td>Uganda</td>\n      <td>Semuliki Forest, batch 1</td>\n      <td>80.0</td>\n      <td>3.0</td>\n      <td>B,S,C</td>\n      <td>mildly bitter, basic cocoa, fatty</td>\n      <td>3.25</td>\n    </tr>\n    <tr>\n      <th>6</th>\n      <td>2542</td>\n      <td>5150</td>\n      <td>U.S.A.</td>\n      <td>2021</td>\n      <td>India</td>\n      <td>Anamalai, batch 1</td>\n      <td>68.0</td>\n      <td>3.0</td>\n      <td>B,S,C</td>\n      <td>milk brownie, macadamia,chewy</td>\n      <td>3.50</td>\n    </tr>\n    <tr>\n      <th>7</th>\n      <td>797</td>\n      <td>A. Morin</td>\n      <td>France</td>\n      <td>2012</td>\n      <td>Bolivia</td>\n      <td>Bolivia</td>\n      <td>70.0</td>\n      <td>4.0</td>\n      <td>B,S,C,L</td>\n      <td>vegetal, nutty</td>\n      <td>3.50</td>\n    </tr>\n    <tr>\n      <th>8</th>\n      <td>797</td>\n      <td>A. Morin</td>\n      <td>France</td>\n      <td>2012</td>\n      <td>Peru</td>\n      <td>Peru</td>\n      <td>63.0</td>\n      <td>4.0</td>\n      <td>B,S,C,L</td>\n      <td>fruity, melon, roasty</td>\n      <td>3.75</td>\n    </tr>\n    <tr>\n      <th>9</th>\n      <td>1011</td>\n      <td>A. Morin</td>\n      <td>France</td>\n      <td>2013</td>\n      <td>Panama</td>\n      <td>Panama</td>\n      <td>70.0</td>\n      <td>4.0</td>\n      <td>B,S,C,L</td>\n      <td>brief fruit note, earthy, nutty</td>\n      <td>2.75</td>\n    </tr>\n  </tbody>\n</table>\n</div>"
     },
     "execution_count": 635,
     "metadata": {},
     "output_type": "execute_result"
    }
   ],
   "source": [
    "df.head(10)"
   ],
   "metadata": {
    "collapsed": false,
    "ExecuteTime": {
     "end_time": "2024-04-16T18:20:56.703719900Z",
     "start_time": "2024-04-16T18:20:56.676282800Z"
    }
   },
   "id": "3ae263940981272a",
   "execution_count": 635
  },
  {
   "cell_type": "code",
   "outputs": [
    {
     "name": "stdout",
     "output_type": "stream",
     "text": [
      "<class 'pandas.core.frame.DataFrame'>\n",
      "RangeIndex: 2530 entries, 0 to 2529\n",
      "Data columns (total 11 columns):\n",
      " #   Column            Non-Null Count  Dtype  \n",
      "---  ------            --------------  -----  \n",
      " 0   id                2530 non-null   int64  \n",
      " 1   manufacturer      2530 non-null   object \n",
      " 2   company_location  2530 non-null   object \n",
      " 3   year_reviewed     2530 non-null   int64  \n",
      " 4   bean_origin       2530 non-null   object \n",
      " 5   bar_name          2530 non-null   object \n",
      " 6   cocoa_percent     2530 non-null   float64\n",
      " 7   num_ingredients   2443 non-null   float64\n",
      " 8   ingredients       2443 non-null   object \n",
      " 9   review            2530 non-null   object \n",
      " 10  rating            2530 non-null   float64\n",
      "dtypes: float64(3), int64(2), object(6)\n",
      "memory usage: 217.6+ KB\n"
     ]
    }
   ],
   "source": [
    "df.info()"
   ],
   "metadata": {
    "collapsed": false,
    "ExecuteTime": {
     "end_time": "2024-04-16T18:20:56.769415300Z",
     "start_time": "2024-04-16T18:20:56.706105500Z"
    }
   },
   "id": "95cf19d7f634d462",
   "execution_count": 636
  },
  {
   "cell_type": "code",
   "outputs": [
    {
     "data": {
      "text/plain": "                id  year_reviewed  cocoa_percent  num_ingredients       rating\ncount  2530.000000    2530.000000    2530.000000      2443.000000  2530.000000\nmean   1429.800791    2014.374308      71.639723         3.041343     3.196344\nstd     757.648556       3.968267       5.616724         0.913728     0.445321\nmin       5.000000    2006.000000      42.000000         1.000000     1.000000\n25%     802.000000    2012.000000      70.000000         2.000000     3.000000\n50%    1454.000000    2015.000000      70.000000         3.000000     3.250000\n75%    2079.000000    2018.000000      74.000000         4.000000     3.500000\nmax    2712.000000    2021.000000     100.000000         6.000000     4.000000",
      "text/html": "<div>\n<style scoped>\n    .dataframe tbody tr th:only-of-type {\n        vertical-align: middle;\n    }\n\n    .dataframe tbody tr th {\n        vertical-align: top;\n    }\n\n    .dataframe thead th {\n        text-align: right;\n    }\n</style>\n<table border=\"1\" class=\"dataframe\">\n  <thead>\n    <tr style=\"text-align: right;\">\n      <th></th>\n      <th>id</th>\n      <th>year_reviewed</th>\n      <th>cocoa_percent</th>\n      <th>num_ingredients</th>\n      <th>rating</th>\n    </tr>\n  </thead>\n  <tbody>\n    <tr>\n      <th>count</th>\n      <td>2530.000000</td>\n      <td>2530.000000</td>\n      <td>2530.000000</td>\n      <td>2443.000000</td>\n      <td>2530.000000</td>\n    </tr>\n    <tr>\n      <th>mean</th>\n      <td>1429.800791</td>\n      <td>2014.374308</td>\n      <td>71.639723</td>\n      <td>3.041343</td>\n      <td>3.196344</td>\n    </tr>\n    <tr>\n      <th>std</th>\n      <td>757.648556</td>\n      <td>3.968267</td>\n      <td>5.616724</td>\n      <td>0.913728</td>\n      <td>0.445321</td>\n    </tr>\n    <tr>\n      <th>min</th>\n      <td>5.000000</td>\n      <td>2006.000000</td>\n      <td>42.000000</td>\n      <td>1.000000</td>\n      <td>1.000000</td>\n    </tr>\n    <tr>\n      <th>25%</th>\n      <td>802.000000</td>\n      <td>2012.000000</td>\n      <td>70.000000</td>\n      <td>2.000000</td>\n      <td>3.000000</td>\n    </tr>\n    <tr>\n      <th>50%</th>\n      <td>1454.000000</td>\n      <td>2015.000000</td>\n      <td>70.000000</td>\n      <td>3.000000</td>\n      <td>3.250000</td>\n    </tr>\n    <tr>\n      <th>75%</th>\n      <td>2079.000000</td>\n      <td>2018.000000</td>\n      <td>74.000000</td>\n      <td>4.000000</td>\n      <td>3.500000</td>\n    </tr>\n    <tr>\n      <th>max</th>\n      <td>2712.000000</td>\n      <td>2021.000000</td>\n      <td>100.000000</td>\n      <td>6.000000</td>\n      <td>4.000000</td>\n    </tr>\n  </tbody>\n</table>\n</div>"
     },
     "execution_count": 637,
     "metadata": {},
     "output_type": "execute_result"
    }
   ],
   "source": [
    "df.describe()"
   ],
   "metadata": {
    "collapsed": false,
    "ExecuteTime": {
     "end_time": "2024-04-16T18:20:56.872575500Z",
     "start_time": "2024-04-16T18:20:56.731850600Z"
    }
   },
   "id": "aa1e99006e3f96e8",
   "execution_count": 637
  },
  {
   "cell_type": "code",
   "outputs": [
    {
     "data": {
      "text/plain": "id                   0\nmanufacturer         0\ncompany_location     0\nyear_reviewed        0\nbean_origin          0\nbar_name             0\ncocoa_percent        0\nnum_ingredients     87\ningredients         87\nreview               0\nrating               0\ndtype: int64"
     },
     "execution_count": 638,
     "metadata": {},
     "output_type": "execute_result"
    }
   ],
   "source": [
    "df.isna().sum()"
   ],
   "metadata": {
    "collapsed": false,
    "ExecuteTime": {
     "end_time": "2024-04-16T18:20:56.876149900Z",
     "start_time": "2024-04-16T18:20:56.778067300Z"
    }
   },
   "id": "88a0160276b1b7a5",
   "execution_count": 638
  },
  {
   "cell_type": "code",
   "outputs": [
    {
     "name": "stdout",
     "output_type": "stream",
     "text": [
      "Унікальні значення для стовбця \"id\": [2454 2458 2542 2546  797 1011 1015 1019 1315 1319 1676 1680 1704 1876\n",
      " 2206 2648 1462 1470 2462 2470  705 2438 2442  370  316  502  508  636\n",
      " 1061 1173 1215 1992 1944 1125 1133 1129 1732 1728 2044  147  129  175\n",
      "  304  363  544  470  725  327  464  322 1964 1145 1494 1498   75  123\n",
      "  170  979 2088 2092 2434  572 1065 1259 1852 2586 1379 1375 1602 1534\n",
      " 1598 1904 1928 1724 1900 1908 1924 2020 2028 2024 2068 2254 2450 2330\n",
      " 2166 2162  300  355  486  600  531  745  729  947 1193 1181 2562 2566\n",
      "  141  331  647  661 1780 2056 2672  999  995 1474 2146 1454 2290 2294\n",
      "  983 1295 1554 1980  955 1880 1840 1868 2374 1948 1784 1788  586 1804\n",
      " 1800 1864 2190 1768 2246  773  757 1141 1482 1486 2084  233  256  414\n",
      "  423  431  558  565  478  963 2108 2114 2422 2574 1331 2590 1046  911\n",
      " 1752 1756 1740 1996   81   24   32   48  199  336  395  761  629  672\n",
      " 1042 1038 1418 1339 1912 2250 2554  341 1267 1271 2194 2096 1255 1355\n",
      " 1984 1518 1514 1149 1235 1231 1638 2052 1323 1299 1303 2314 2274 2266\n",
      " 1606 1716 2226 2230 1391 1395 1668 1692 1688 2238 2278 2076 1434 1430\n",
      " 1662 1816 1860  641  991  346  537  523 2510 1684 2610 2614  259  245\n",
      "  237  296  749  765  809 1185 1442 1808 2558  266  269 1263 2626 2630\n",
      "  845  841 1586 1582 1884 1888 2154 2394 2402 1105 1153 1101 1109 1407\n",
      " 1347 1371 1570 1574 1956 2354 2688 1247 1251  404 1426 2676  252 2202\n",
      " 2668 1696 2298 1772 1760 1764 1530  919 1121 2700 2134 1219 2080  682\n",
      " 1832 2594 2598  117  209  439 1522  377 2534 2514 2638 2310 2306  666\n",
      "  445  227 2474 2606  292  579 1630 1916 2684  196  220  451  817  813\n",
      "  959  821 1169  971  975 1283 1335 1736 2466 2502 2656 2526 2522 2622\n",
      "  785 1654 1666 1610 2064  805  915 1026 1085 1387 1446 2178 2386 2602\n",
      " 2550  654  987 1223 1920 2342 1550 1708  907 1093  180  263 2222  166\n",
      "  241  769  895 1034 1634 1952 1972 2016 2258 2270 2406  311   63   87\n",
      "  135  192  111  272  693  863 1672 2040 2696 2390  516  697  623  923\n",
      " 2100 2366 1506 1626 1343 1812 2358  709  206 2382 1137 1450 2118 2198\n",
      " 2350 1209 1205  903 2570 1275 2142 2664  105   56  494 1287 2482 2478\n",
      " 2486 2398 2150 1776 2072 2430 2712 2318 2322 2326 2122 1351 1542 1538\n",
      "  781  887  883 1940  688  642  931  899  927 1030 1081 1117 1383 2174\n",
      " 2708 2642 2644 2704 2000 2126 2130  753 1359 1367 1642 1646 2012 2282\n",
      " 1848 2032 2446  741 2692   15 1896 2060   99   93  276  387  552 1053\n",
      " 1197 1201 1327  701 1700 2378 2302 1748 1243 1239 1744 1458 1546 1712\n",
      " 2426 1466 1872 1113 1097 1307 1311  737  733 2008  943 1279    5 1976\n",
      " 2104 2218 2214 1069 1073 2498 2338 2334  837  248 1968 2286 1422 1363\n",
      "  597  576  891 1892 2138  230 1189  721  713 2186 2182 1438 1590 1594\n",
      "  833  853 2048 2262 1566 1562 1856  855  157 2538 1049 1502 2518 2506\n",
      "  284  288  607 1089  308  184 1007 1003  871  875 1844 1478 2158  849\n",
      " 1650 1836  777 1177 1291 2362 2170 2210 1490 2112  825 2346 1960 2370\n",
      " 2652 1618 1614 2680 1658 2490  867 1399 2418 1403 1526 1022  935 1558\n",
      " 1411 2494 2582  457 2036 1161 1165  859  224 1415 2234 1720 1510 2530\n",
      "  829  789 1820   40  162  280  202  717 2410 2414 1227 1988 1057 1796\n",
      " 2618  967  213  793 2004 2660  615  188 1622 1792 1157  676  951 1077\n",
      " 1828 2242 1932 1936  939 2634  801  153 1211 2578  593 1578 1824  879]\n",
      "Унікальні значення для стовбця \"manufacturer\": ['5150' 'A. Morin' 'Acalli' 'Adi aka Fijiana (Easy In Ltd)' 'Aelan'\n",
      " 'Aequare (Gianduja)' 'Ah Cacao' \"Akesson's (Pralus)\" 'Alain Ducasse'\n",
      " 'Alexandre' 'Altus aka Cao Artisan' 'Amano' 'Amatller (Simon Coll)'\n",
      " 'Amazing Cacao' 'Amazona' 'Ambrosia' 'Amedei' 'AMMA' 'Anahata' 'Animas'\n",
      " 'Ara' 'Arete' 'Argencove' 'Artisan du Chocolat'\n",
      " 'Artisan du Chocolat (Casa Luker)' 'Aruntam' 'Askinosie' 'Atypic' 'Auro'\n",
      " 'Avanaa' 'Bahen & Co.' 'Baiani' 'Bakau' 'Bankston' 'Bar Au Chocolat'\n",
      " \"Baravelli's\" 'Batch' 'Bean' 'Beau Cacao' 'Beehive' 'Belcolade'\n",
      " 'Bellflower' 'Belvie' 'Belyzium' 'Benns' 'Benoit Nihant' 'Bernachon'\n",
      " 'Beschle (Felchlin)' 'Bisou' 'Bitacora' 'Bittersweet Origins' 'Bixby'\n",
      " 'Black Mountain' 'Black River (A. Morin)' 'Black Sheep' 'Blanxart'\n",
      " 'Blue Bandana' 'Boho' 'Bonaterra' 'Bonnat' 'Bouga Cacao (Tulicorp)'\n",
      " 'Bowler Man' 'Brasstown' \"Brasstown aka It's Chocolate\" 'Brazen'\n",
      " 'Breeze Mill' 'Bright' 'Britarev' 'Bronx Grrl Chocolate' 'Bullion'\n",
      " 'Burnt Fork Bend' 'By Cacao' 'Cacai Cacao' 'Cacao 70' 'Cacao Arabuco'\n",
      " 'Cacao Atlanta' 'Cacao Barry' 'Cacao Betulia' 'Cacao de Origen'\n",
      " 'Cacao Gonzales' 'Cacao Hunters' 'Cacao Market' 'Cacao Prieto'\n",
      " 'Cacao Sampaka' 'Cacao Santa Fe (Art of Chocolate)' 'Cacao Store'\n",
      " 'Cacaodada' 'Cacaosuyo' 'Cacaoyere (Ecuatoriana)' 'Callebaut' 'C-Amaro'\n",
      " 'Cao' 'Caofiori' 'Caoni (Tulicorp)' 'Captain Pembleton' 'CAR Artisan'\n",
      " 'Caribeans' 'Carlotta Chocolat' 'Casa' 'Casa Lasevicius' 'Castronovo'\n",
      " 'Cello' 'Cemoi' 'Chaleur B' 'Chapon' 'Charm School'\n",
      " 'Chchukululu (Tulicorp)' 'Chequessett' 'Chloe Chocolat' 'Chocablog'\n",
      " 'Choco Del Sol' 'Choco Dong' 'Chococard (Lapos)' 'Chocolarder'\n",
      " \"Chocola'te\" 'Chocolate Alchemist-Philly' 'Chocolate Con Amor'\n",
      " 'Chocolate Conspiracy' 'Chocolate Makers' 'Chocolate Tree'\n",
      " 'Chocolates by Josh (Box Chocolate)' 'Chocolatoa' 'Chocolats Privilege'\n",
      " 'Chocolibrium' 'ChocoReko' 'Chocosol' 'Chocotenango' 'Chocovic'\n",
      " 'Chocovivo' 'Choklat' 'Chokola' 'Chokolat Elot (Girard)'\n",
      " 'Christophe Toury' 'Christopher Elbow' 'Christopher Morel (Felchlin)'\n",
      " 'Chuao Chocolatier' 'Chuao Chocolatier (Pralus)' 'Claudio Corallo'\n",
      " 'Cleveland Chocolate Company' 'Cloudforest' 'Coco' 'Cocoa Carib'\n",
      " 'Cocoa Forge' 'Compania de Chocolate (Salgado)' 'Condor' 'Confluence'\n",
      " 'Conjure' 'Coppeneur' \"Cote d' Or (Kraft)\" 'Cravve' 'Creo'\n",
      " 'Crow and Moss' 'Cultura' 'Cuna de Piedra' 'Daintree' 'Dalloway' 'Damson'\n",
      " 'Dancing Lion' 'Dandelion' 'Dandelion (aka Brower Ave)'\n",
      " 'Dandelion (Japan)' 'Danta' 'DAR' 'Darcis' 'Dark Forest' 'Davis'\n",
      " 'De Mendes' 'De Villiers' 'Dean and Deluca (Belcolade)'\n",
      " 'Debauve & Gallais (Michel Cluizel)' 'Definite' 'Desbarres' 'DeVries'\n",
      " 'Dick Taylor' 'Diogo Vaz' 'Doble & Bignall' 'Dole (Guittard)'\n",
      " 'Dolfin (Belcolade)' 'Domori' 'Dormouse' 'Double Spiral' \"Duffy's\"\n",
      " 'Dulcinea' 'Durand' 'Durci' 'East Van Roasters' 'Eau de Rose'\n",
      " 'Eclat (Felchlin)' 'Eclat (Fruition)' 'Edelmond' 'El Buen' 'El Ceibo'\n",
      " 'El Rey' 'Eldora' 'Emerald Estate' \"Emily's\" 'Encuentro' 'ENNA'\n",
      " 'Enric Rovira (Claudio Corallo)' 'Erithaj (A. Morin)' 'Escazu'\n",
      " \"Ethel's Artisan (Mars)\" 'Ethereal' 'Exquisito' 'Fearless (AMMA)'\n",
      " 'Feitoria Cacao' 'Felchlin' 'Finca' 'Finnia' 'Firetree' 'Five (5)Mile'\n",
      " 'FJAK' 'Forever Cacao' 'Forteza (Cortes)' 'Fossa' 'Foundry' 'Franceschi'\n",
      " 'Frederic Blondeel' 'French Broad' 'Fresco' 'Fresh Coast'\n",
      " 'Fresh Coast aka Just Good Choc.' 'Friis Holm' 'Friis Holm (Bonnat)'\n",
      " 'Fruition' 'Fu Wan' 'Garden Island' 'Georgia Ramon' 'Glennmade'\n",
      " 'Goodnow Farms' 'Gotham' 'Grand Place' 'Great Lakes'\n",
      " \"Green & Black's (ICAM)\" 'Green Bean to Bar' 'Green Door'\n",
      " 'Grenada Chocolate Co.' 'Guido Castagna' 'Guittard' 'Habitual' 'Hachez'\n",
      " 'Hacienda El Castillo' 'Haigh' 'Harper Macaw' 'Harris & James'\n",
      " 'Hazel Hill' 'Hecho' 'Heilemann' 'Heinde & Verre'\n",
      " 'Heirloom Cacao Preservation (Brasstown)'\n",
      " 'Heirloom Cacao Preservation (Fruition)'\n",
      " 'Heirloom Cacao Preservation (Guittard)'\n",
      " 'Heirloom Cacao Preservation (Manoa)'\n",
      " 'Heirloom Cacao Preservation (Millcreek)'\n",
      " 'Heirloom Cacao Preservation (Mindo)'\n",
      " 'Heirloom Cacao Preservation (Zokoko)' 'hello cocoa (now Markham & Fitz)'\n",
      " 'Hemisphere' 'hexx' 'Hogarth' 'Hoja Verde (Tulicorp)' 'Holy Cacao'\n",
      " 'Honest' 'Hotel Chocolat' 'Hotel Chocolat (Coppeneur)' 'Hummingbird'\n",
      " 'Idilio (Felchlin)' 'Indah' 'Indi' 'iQ Chocolate' 'Isidro'\n",
      " 'Islands Chocolate' 'Izard' 'Jacque Torres' 'Jean Marie Auboine'\n",
      " 'Johnny Iuzzini' 'Jordis' 'Kad Kokoa' 'Kah Kow' 'Kah Kow - USA' 'Kaitxo'\n",
      " 'Kakao' 'Kallari (Ecuatoriana)' 'Kaoka (Cemoi)' 'Kasama' 'Kerchner'\n",
      " \"Ki' Xocolatl\" 'Kin + Pod' 'Kiskadee' 'Krak' 'Kto' \"K'ul\" 'Kyya'\n",
      " 'L.A. Burdick (Felchlin)' 'La Cascade du Chocolat'\n",
      " 'La Chocolaterie Nanairo' 'La Chorena' 'La Feverie (Hasnaa)'\n",
      " 'La Maison du Chocolat (Valrhona)' 'La Oroquidea' 'La Pepa de Oro'\n",
      " 'La Rifa' 'Laia aka Chat-Noir' 'Lajedo do Ouro'\n",
      " 'Lake Champlain (Callebaut)' \"L'Amourette\" 'Land' 'Landmark (Amano)'\n",
      " 'Legast' 'Letterpress' 'Levy' 'Lilla' 'Lillie Belle' 'Lindt & Sprungli'\n",
      " 'Lirio' 'Loiza' 'Lonohana' 'Loon' 'Love Bar' 'Love Brown' 'Luisa Abram'\n",
      " \"Luisa's Vegan\" 'Luker' 'Lumineux' 'Machu Picchu Trading Co.'\n",
      " 'MaDe Atlantic City Chocolate Bar' 'Madecasse (Cinagra)' 'Madhu' 'Madre'\n",
      " 'Maglio' 'Majani' 'Malagasy (Chocolaterie Robert)' 'Malagos' 'Malai'\n",
      " 'Malie Kai (Guittard)' 'Malmo' 'Mana' 'Manifesto Cacao' 'Manoa'\n",
      " 'Manufaktura Czekolady' 'Map Chocolate' 'Marana' 'Maribea'\n",
      " \"Marigold's Finest\" 'Markham & Fitz' 'Marou' 'Mars' 'Marsatta'\n",
      " 'Martin Mayer' 'Mast Brothers' 'Matale' 'Maui Kuia' 'Maverick' 'Mayacama'\n",
      " 'McGuire' 'Meadowlands' 'Mellow' 'Menakao (aka Cinagra)' 'Mesocacao'\n",
      " 'Mestico' 'Metiisto' 'Metropolitan' 'Meybol' 'Michel Cluizel'\n",
      " 'Middlebury' 'Mike & Becky' 'Millcreek Cacao Roasters' 'Millesime'\n",
      " 'Milton' 'Mindo' 'Minimal' 'Mirzam' 'Misina' 'Mission' 'Mita' 'Moho'\n",
      " 'Moka Origins' 'Moku' 'Molucca' 'Momotombo' 'Monarque' 'Monsieur Truffe'\n",
      " 'Monsoon' 'Montecristi' 'MUCHO' 'Muchomas (Mesocacao)'\n",
      " 'Musee du Chocolat Theobroma' 'Mutari' 'Nahua' 'Naive' 'Nanea'\n",
      " 'Nathan Miller' 'Nearynogs' 'Neuhaus (Callebaut)' 'Nibble' 'Night Owl'\n",
      " 'Nikoa' 'Nina' 'Ninth (9th) & Larkin' 'Noble Bean aka Jerjobo'\n",
      " \"Noir d' Ebine\" 'Nova Monda' 'Nuance' 'Nugali' 'Oakland Chocolate Co.'\n",
      " 'Obolo' 'Ocelot' 'Ocho' 'Odyssey' 'Ohiyo' 'Oialla by Bojessen (Malmo)'\n",
      " 'Olive and Sinclair' 'Olivia' 'Omanhene' 'Omnom' 'Or Dubh' 'Orfeve'\n",
      " 'organicfair' 'Original Beans (Felchlin)'\n",
      " 'Original Hawaiin Chocolate Factory' 'Orquidea' 'Pacari' \"Palet D'Or\"\n",
      " 'Palette de Bine' 'Pangea' 'Park 75' 'Parliament' 'Parre Chocolat'\n",
      " 'Pascha' 'Patric' 'Paul Young' 'Peppalo' 'Perrenial' 'Petite Patrie'\n",
      " 'Pierre Marcolini' 'Piety and Desire' 'Pinellas' 'Pitch Dark'\n",
      " 'Pollinator' 'Pomm (aka Dead Dog)' 'Poppy and Peep' 'Potomac' 'Pralus'\n",
      " 'Primo Botanica' 'Public Chocolatory' 'Pump Street Bakery' 'Pura Delizia'\n",
      " 'Q Chocolate' 'Qantu' 'Quetzalli (Wolter)' 'Raaka' 'Rain Republic'\n",
      " 'Rancho San Jacinto' 'Ranger' 'Raoul Boulanger' 'Raphio' 'Raw Cocoa'\n",
      " 'Republica del Cacao (aka Confecta)' 'Ritual' 'River-Sea'\n",
      " 'Roasting Masters' 'Robert (aka Chocolaterie Robert)'\n",
      " 'Rococo (Grenada Chocolate Co.)' 'Rogue' 'Rozsavolgyi' 'Ruket' 'S.A.I.D.'\n",
      " 'Sacred' 'Salgado' 'San Jose' 'Santander (Compania Nacional)' 'Santome'\n",
      " 'Scharffen Berger' 'Seaforth' 'Seahorse' 'Shane Chocolate Works'\n",
      " 'Shark Mountain' \"Shark's\" 'Shattell' 'Sibu' 'Sibu Sura' 'Silvio Bessone'\n",
      " 'Sirene' 'Sjolinds' 'Smooth Chocolator, The' 'Snake & Butterfly' 'Soeka'\n",
      " 'Soklet' 'Sol Cacao' 'Solkiki' 'Solomons Gold' 'Solstice' 'Soma'\n",
      " 'Somerville' 'Soul' 'Spagnvola' 'Spencer' 'Spinnaker'\n",
      " 'Sprungli (Felchlin)' 'SRSLY' 'Starchild' 'Stella (aka Bernrain)'\n",
      " 'Stone Grindz' 'StRita Supreme' 'Sublime Origins' 'Summerbird'\n",
      " 'Suruca Chocolate' 'Svenska Kakaobolaget' 'sweet beans' 'Sweet Escalier'\n",
      " 'Sweetness' 'Szanto Tibor' 'Tabal' 'Tablette (aka Vanillabeans)' 'Tala'\n",
      " 'Tan Ban Skrati' 'Taste Artisan' 'Taste Artisan aka Coleman and Davis'\n",
      " 'Taucherli' 'Taylor Made' 'Taza' 'TCHO' 'Tejas' 'Terroir' 'The Barn'\n",
      " 'Theo' 'Theobroma' 'Thistle & Rose aka Aggie USU' 'Tibito'\n",
      " 'Timo A. Meyer' 'Tiny House' \"To'ak\" \"To'ak (Ecuatoriana)\"\n",
      " 'Tobago Estate (Pralus)' 'Tocoti' 'Tosier' 'Tree to Bar' 'Treehouse'\n",
      " 'Treehouse aka Indaphoria' 'Triangle Roasters' 'Tribar' 'Tribe'\n",
      " 'Tsara (Cinagra)' 'twenty-four blackbirds' 'Two Ravens'\n",
      " 'Un Dimanche A Paris' 'Uncouth' 'Undone' 'Upchurch' 'Urzi' 'Utopick'\n",
      " 'Vaka' 'Valrhona' 'Vanleer (Barry Callebaut)'\n",
      " 'Vao Vao (Chocolaterie Robert)' 'Vicuna' 'Videri' 'Vietcacao (A. Morin)'\n",
      " 'Vintage Plantations' 'Vintage Plantations (Tulicorp)' 'Violet Sky'\n",
      " 'Vivra' 'Wellington Chocolate Factory' 'White Label aka Mutari'\n",
      " 'Whittakers' \"Wilkie's Organic\" \"Willie's Cacao\" 'Wm' 'Woodblock'\n",
      " 'Xocolat' 'Xocolatisimo' 'Xocolatl' 'Xocolla' 'Zac Squared' 'Zacharias'\n",
      " \"Zak's\" 'Zart Pralinen' 'Zokoko' 'Zoto (Chocolatoa)' 'Zotter']\n",
      "Унікальні значення для стовбця \"company_location\": ['U.S.A.' 'France' 'Fiji' 'Vanuatu' 'Ecuador' 'Mexico' 'U.K.'\n",
      " 'Netherlands' 'Spain' 'Russia' 'Peru' 'Canada' 'Italy' 'Brazil'\n",
      " 'Nicaragua' 'Australia' 'Philippines' 'Wales' 'Belgium' 'Vietnam'\n",
      " 'Germany' 'Singapore' 'Switzerland' 'Venezuela' 'Malaysia' 'South Korea'\n",
      " 'Taiwan' 'Puerto Rico' 'Colombia' 'Japan' 'New Zealand' 'Costa Rica'\n",
      " 'Hungary' 'Amsterdam' 'Scotland' 'Martinique' 'Sao Tome' 'St. Lucia'\n",
      " 'Argentina' 'Guatemala' 'South Africa' 'Dominican Republic'\n",
      " 'Sao Tome & Principe' 'Bolivia' 'Portugal' 'Norway' 'Denmark' 'Grenada'\n",
      " 'Israel' 'India' 'St.Vincent-Grenadines' 'Czech Republic' 'Thailand'\n",
      " 'Finland' 'Madagascar' 'Sweden' 'Poland' 'Austria' 'Honduras' 'U.A.E.'\n",
      " 'Lithuania' 'Ireland' 'Chile' 'Ghana' 'Iceland' 'Suriname' 'El Salvador']\n",
      "Унікальні значення для стовбця \"year_reviewed\": [2019 2021 2012 2013 2014 2015 2016 2018 2020 2011 2009 2010 2017 2007\n",
      " 2008 2006]\n",
      "Унікальні значення для стовбця \"bean_origin\": ['Tanzania' 'Dominican Republic' 'Madagascar' 'Fiji' 'Venezuela' 'Uganda'\n",
      " 'India' 'Bolivia' 'Peru' 'Panama' 'Colombia' 'Burma' 'Brazil'\n",
      " 'Papua New Guinea' 'Ecuador' 'Cuba' 'Togo' 'Sao Tome' 'Mexico' 'Vanuatu'\n",
      " 'Indonesia' 'Trinidad' 'Vietnam' 'Nicaragua' 'Ghana' 'Belize' 'Blend'\n",
      " 'Jamaica' 'Grenada' 'Guatemala' 'Honduras' 'Costa Rica' 'Haiti' 'Congo'\n",
      " 'Philippines' 'Solomon Islands' 'Malaysia' 'Sri Lanka' 'Ivory Coast'\n",
      " 'Gabon' 'Taiwan' 'Puerto Rico' 'Martinique' 'St. Lucia' 'Australia'\n",
      " 'Liberia' 'Sierra Leone' 'U.S.A.' 'Nigeria' 'St.Vincent-Grenadines'\n",
      " 'Thailand' 'Tobago' 'Sao Tome & Principe' 'Sumatra' 'El Salvador'\n",
      " 'Cameroon' 'Samoa' 'China' 'Principe' 'Sulawesi' 'Suriname' 'DR Congo']\n",
      "Унікальні значення для стовбця \"bar_name\": ['Kokoa Kamili, batch 1' 'Zorzal, batch 1' 'Bejofo Estate, batch 1' ...\n",
      " 'APROCAFA, Acandi' 'Dry Aged, 30 yr Anniversary bar'\n",
      " 'Mountains of the Moon']\n",
      "Унікальні значення для стовбця \"cocoa_percent\": [ 76.   68.   72.   80.   70.   63.   74.   60.   88.   55.   75.   65.\n",
      "  85.   73.   64.   66.   50.  100.   77.   82.   90.   71.   83.   78.\n",
      "  86.   62.   69.   91.   67.   42.   61.   73.5  79.   58.   71.5  60.5\n",
      "  81.   57.   72.5  56.   46.   89.   99.   84.   53.   87. ]\n",
      "Унікальні значення для стовбця \"num_ingredients\": [ 3.  4.  2.  5.  6. nan  1.]\n",
      "Унікальні значення для стовбця \"ingredients\": ['B,S,C' 'B,S,C,L' 'B,S' 'B,S,C,V' 'B,S,C,V,L' 'B,S,C,V,L,Sa' 'B,S,C,V,Sa'\n",
      " nan 'B,S,V,L' 'B,S*' 'B' 'B,S*,C' 'B,S,L' 'B,S,V' 'B,S*,C,L' 'B,S*,C,Sa'\n",
      " 'B,S*,Sa' 'B,S,C,Sa' 'B,S*,V,L' 'B,C' 'B,S*,C,V' 'B,S,C,L,Sa']\n",
      "Унікальні значення для стовбця \"review\": ['rich cocoa, fatty, bready' 'cocoa, vegetal, savory'\n",
      " 'cocoa, blackberry, full body' ... 'fatty, earthy, cocoa'\n",
      " 'fatty, mild nuts, mild fruit' 'muted, roasty, accessible']\n",
      "Унікальні значення для стовбця \"rating\": [3.25 3.5  3.75 3.   2.75 4.   2.5  1.75 2.25 1.5  2.   1.  ]\n"
     ]
    }
   ],
   "source": [
    "for column in df.columns:\n",
    "    unique_values = df[column].unique()\n",
    "    print(f'Унікальні значення для стовбця \"{column}\": {unique_values}')"
   ],
   "metadata": {
    "collapsed": false,
    "ExecuteTime": {
     "end_time": "2024-04-16T18:20:56.933222400Z",
     "start_time": "2024-04-16T18:20:56.879402900Z"
    }
   },
   "id": "1d2bc9b1347f79f2",
   "execution_count": 639
  },
  {
   "cell_type": "markdown",
   "source": [
    "B (Beans), S (Sugar), S* (Sweetener other than sugar or beet sugar), C (Cocoa Butter), (V) Vanilla, (L) Lecithin, Sa (Salt)"
   ],
   "metadata": {
    "collapsed": false
   },
   "id": "329e7500a08cdb95"
  },
  {
   "cell_type": "code",
   "outputs": [
    {
     "data": {
      "text/plain": "     id manufacturer company_location  year_reviewed         bean_origin  \\\n0  2454         5150           U.S.A.           2019            Tanzania   \n1  2458         5150           U.S.A.           2019  Dominican Republic   \n2  2454         5150           U.S.A.           2019          Madagascar   \n3  2542         5150           U.S.A.           2021                Fiji   \n4  2546         5150           U.S.A.           2021           Venezuela   \n\n                 bar_name  cocoa_percent  num_ingredients ingredients  \\\n0   Kokoa Kamili, batch 1           76.0              3.0       B,S,C   \n1         Zorzal, batch 1           76.0              3.0       B,S,C   \n2  Bejofo Estate, batch 1           76.0              3.0       B,S,C   \n3   Matasawalevu, batch 1           68.0              3.0       B,S,C   \n4   Sur del Lago, batch 1           72.0              3.0       B,S,C   \n\n                              review  rating  Beans  Sugar  Sweetener  \\\n0          rich cocoa, fatty, bready    3.25      1      1          1   \n1             cocoa, vegetal, savory    3.50      1      1          1   \n2       cocoa, blackberry, full body    3.75      1      1          1   \n3                chewy, off, rubbery    3.00      1      1          1   \n4  fatty, earthy, moss, nutty,chalky    3.00      1      1          1   \n\n   Cocoa Butter  Vanilla  Lecithin  Salt  \n0             1        0         0     0  \n1             1        0         0     0  \n2             1        0         0     0  \n3             1        0         0     0  \n4             1        0         0     0  ",
      "text/html": "<div>\n<style scoped>\n    .dataframe tbody tr th:only-of-type {\n        vertical-align: middle;\n    }\n\n    .dataframe tbody tr th {\n        vertical-align: top;\n    }\n\n    .dataframe thead th {\n        text-align: right;\n    }\n</style>\n<table border=\"1\" class=\"dataframe\">\n  <thead>\n    <tr style=\"text-align: right;\">\n      <th></th>\n      <th>id</th>\n      <th>manufacturer</th>\n      <th>company_location</th>\n      <th>year_reviewed</th>\n      <th>bean_origin</th>\n      <th>bar_name</th>\n      <th>cocoa_percent</th>\n      <th>num_ingredients</th>\n      <th>ingredients</th>\n      <th>review</th>\n      <th>rating</th>\n      <th>Beans</th>\n      <th>Sugar</th>\n      <th>Sweetener</th>\n      <th>Cocoa Butter</th>\n      <th>Vanilla</th>\n      <th>Lecithin</th>\n      <th>Salt</th>\n    </tr>\n  </thead>\n  <tbody>\n    <tr>\n      <th>0</th>\n      <td>2454</td>\n      <td>5150</td>\n      <td>U.S.A.</td>\n      <td>2019</td>\n      <td>Tanzania</td>\n      <td>Kokoa Kamili, batch 1</td>\n      <td>76.0</td>\n      <td>3.0</td>\n      <td>B,S,C</td>\n      <td>rich cocoa, fatty, bready</td>\n      <td>3.25</td>\n      <td>1</td>\n      <td>1</td>\n      <td>1</td>\n      <td>1</td>\n      <td>0</td>\n      <td>0</td>\n      <td>0</td>\n    </tr>\n    <tr>\n      <th>1</th>\n      <td>2458</td>\n      <td>5150</td>\n      <td>U.S.A.</td>\n      <td>2019</td>\n      <td>Dominican Republic</td>\n      <td>Zorzal, batch 1</td>\n      <td>76.0</td>\n      <td>3.0</td>\n      <td>B,S,C</td>\n      <td>cocoa, vegetal, savory</td>\n      <td>3.50</td>\n      <td>1</td>\n      <td>1</td>\n      <td>1</td>\n      <td>1</td>\n      <td>0</td>\n      <td>0</td>\n      <td>0</td>\n    </tr>\n    <tr>\n      <th>2</th>\n      <td>2454</td>\n      <td>5150</td>\n      <td>U.S.A.</td>\n      <td>2019</td>\n      <td>Madagascar</td>\n      <td>Bejofo Estate, batch 1</td>\n      <td>76.0</td>\n      <td>3.0</td>\n      <td>B,S,C</td>\n      <td>cocoa, blackberry, full body</td>\n      <td>3.75</td>\n      <td>1</td>\n      <td>1</td>\n      <td>1</td>\n      <td>1</td>\n      <td>0</td>\n      <td>0</td>\n      <td>0</td>\n    </tr>\n    <tr>\n      <th>3</th>\n      <td>2542</td>\n      <td>5150</td>\n      <td>U.S.A.</td>\n      <td>2021</td>\n      <td>Fiji</td>\n      <td>Matasawalevu, batch 1</td>\n      <td>68.0</td>\n      <td>3.0</td>\n      <td>B,S,C</td>\n      <td>chewy, off, rubbery</td>\n      <td>3.00</td>\n      <td>1</td>\n      <td>1</td>\n      <td>1</td>\n      <td>1</td>\n      <td>0</td>\n      <td>0</td>\n      <td>0</td>\n    </tr>\n    <tr>\n      <th>4</th>\n      <td>2546</td>\n      <td>5150</td>\n      <td>U.S.A.</td>\n      <td>2021</td>\n      <td>Venezuela</td>\n      <td>Sur del Lago, batch 1</td>\n      <td>72.0</td>\n      <td>3.0</td>\n      <td>B,S,C</td>\n      <td>fatty, earthy, moss, nutty,chalky</td>\n      <td>3.00</td>\n      <td>1</td>\n      <td>1</td>\n      <td>1</td>\n      <td>1</td>\n      <td>0</td>\n      <td>0</td>\n      <td>0</td>\n    </tr>\n  </tbody>\n</table>\n</div>"
     },
     "execution_count": 640,
     "metadata": {},
     "output_type": "execute_result"
    }
   ],
   "source": [
    "Ingredients = {\n",
    "    \"Beans\": \"B\",\n",
    "    \"Sugar\": \"S\",\n",
    "    \"Sweetener\": \"S*\",\n",
    "    \"Cocoa Butter\": \"C\",\n",
    "    \"Vanilla\": \"V\",\n",
    "    \"Lecithin\": \"L\",\n",
    "    \"Salt\": \"Sa\"\n",
    "}\n",
    "\n",
    "for key in Ingredients:\n",
    "    df[key] = np.where(df['ingredients'].str.contains(Ingredients[key],case=True), 1, 0)\n",
    "\n",
    "df.head() "
   ],
   "metadata": {
    "collapsed": false,
    "ExecuteTime": {
     "end_time": "2024-04-16T18:20:57.009570900Z",
     "start_time": "2024-04-16T18:20:56.897301Z"
    }
   },
   "id": "bafe5af119d90ad6",
   "execution_count": 640
  },
  {
   "cell_type": "code",
   "outputs": [
    {
     "name": "stdout",
     "output_type": "stream",
     "text": [
      "Унікальні значення для стовбця \"id\": [2454 2458 2542 2546  797 1011 1015 1019 1315 1319 1676 1680 1704 1876\n",
      " 2206 2648 1462 1470 2462 2470  705 2438 2442  370  316  502  508  636\n",
      " 1061 1173 1215 1992 1944 1125 1133 1129 1732 1728 2044  147  129  175\n",
      "  304  363  544  470  725  327  464  322 1964 1145 1494 1498   75  123\n",
      "  170  979 2088 2092 2434  572 1065 1259 1852 2586 1379 1375 1602 1534\n",
      " 1598 1904 1928 1724 1900 1908 1924 2020 2028 2024 2068 2254 2450 2330\n",
      " 2166 2162  300  355  486  600  531  745  729  947 1193 1181 2562 2566\n",
      "  141  331  647  661 1780 2056 2672  999  995 1474 2146 1454 2290 2294\n",
      "  983 1295 1554 1980  955 1880 1840 1868 2374 1948 1784 1788  586 1804\n",
      " 1800 1864 2190 1768 2246  773  757 1141 1482 1486 2084  233  256  414\n",
      "  423  431  558  565  478  963 2108 2114 2422 2574 1331 2590 1046  911\n",
      " 1752 1756 1740 1996   81   24   32   48  199  336  395  761  629  672\n",
      " 1042 1038 1418 1339 1912 2250 2554  341 1267 1271 2194 2096 1255 1355\n",
      " 1984 1518 1514 1149 1235 1231 1638 2052 1323 1299 1303 2314 2274 2266\n",
      " 1606 1716 2226 2230 1391 1395 1668 1692 1688 2238 2278 2076 1434 1430\n",
      " 1662 1816 1860  641  991  346  537  523 2510 1684 2610 2614  259  245\n",
      "  237  296  749  765  809 1185 1442 1808 2558  266  269 1263 2626 2630\n",
      "  845  841 1586 1582 1884 1888 2154 2394 2402 1105 1153 1101 1109 1407\n",
      " 1347 1371 1570 1574 1956 2354 2688 1247 1251  404 1426 2676  252 2202\n",
      " 2668 1696 2298 1772 1760 1764 1530  919 1121 2700 2134 1219 2080  682\n",
      " 1832 2594 2598  117  209  439 1522  377 2534 2514 2638 2310 2306  666\n",
      "  445  227 2474 2606  292  579 1630 1916 2684  196  220  451  817  813\n",
      "  959  821 1169  971  975 1283 1335 1736 2466 2502 2656 2526 2522 2622\n",
      "  785 1654 1666 1610 2064  805  915 1026 1085 1387 1446 2178 2386 2602\n",
      " 2550  654  987 1223 1920 2342 1550 1708  907 1093  180  263 2222  166\n",
      "  241  769  895 1034 1634 1952 1972 2016 2258 2270 2406  311   63   87\n",
      "  135  192  111  272  693  863 1672 2040 2696 2390  516  697  623  923\n",
      " 2100 2366 1506 1626 1343 1812 2358  709  206 2382 1137 1450 2118 2198\n",
      " 2350 1209 1205  903 2570 1275 2142 2664  105   56  494 1287 2482 2478\n",
      " 2486 2398 2150 1776 2072 2430 2712 2318 2322 2326 2122 1351 1542 1538\n",
      "  781  887  883 1940  688  642  931  899  927 1030 1081 1117 1383 2174\n",
      " 2708 2642 2644 2704 2000 2126 2130  753 1359 1367 1642 1646 2012 2282\n",
      " 1848 2032 2446  741 2692   15 1896 2060   99   93  276  387  552 1053\n",
      " 1197 1201 1327  701 1700 2378 2302 1748 1243 1239 1744 1458 1546 1712\n",
      " 2426 1466 1872 1113 1097 1307 1311  737  733 2008  943 1279    5 1976\n",
      " 2104 2218 2214 1069 1073 2498 2338 2334  837  248 1968 2286 1422 1363\n",
      "  597  576  891 1892 2138  230 1189  721  713 2186 2182 1438 1590 1594\n",
      "  833  853 2048 2262 1566 1562 1856  855  157 2538 1049 1502 2518 2506\n",
      "  284  288  607 1089  308  184 1007 1003  871  875 1844 1478 2158  849\n",
      " 1650 1836  777 1177 1291 2362 2170 2210 1490 2112  825 2346 1960 2370\n",
      " 2652 1618 1614 2680 1658 2490  867 1399 2418 1403 1526 1022  935 1558\n",
      " 1411 2494 2582  457 2036 1161 1165  859  224 1415 2234 1720 1510 2530\n",
      "  829  789 1820   40  162  280  202  717 2410 2414 1227 1988 1057 1796\n",
      " 2618  967  213  793 2004 2660  615  188 1622 1792 1157  676  951 1077\n",
      " 1828 2242 1932 1936  939 2634  801  153 1211 2578  593 1578 1824  879]\n",
      "Унікальні значення для стовбця \"manufacturer\": ['5150' 'A. Morin' 'Acalli' 'Adi aka Fijiana (Easy In Ltd)' 'Aelan'\n",
      " 'Aequare (Gianduja)' 'Ah Cacao' \"Akesson's (Pralus)\" 'Alain Ducasse'\n",
      " 'Alexandre' 'Altus aka Cao Artisan' 'Amano' 'Amatller (Simon Coll)'\n",
      " 'Amazing Cacao' 'Amazona' 'Ambrosia' 'Amedei' 'AMMA' 'Anahata' 'Animas'\n",
      " 'Ara' 'Arete' 'Argencove' 'Artisan du Chocolat'\n",
      " 'Artisan du Chocolat (Casa Luker)' 'Aruntam' 'Askinosie' 'Atypic' 'Auro'\n",
      " 'Avanaa' 'Bahen & Co.' 'Baiani' 'Bakau' 'Bankston' 'Bar Au Chocolat'\n",
      " \"Baravelli's\" 'Batch' 'Bean' 'Beau Cacao' 'Beehive' 'Belcolade'\n",
      " 'Bellflower' 'Belvie' 'Belyzium' 'Benns' 'Benoit Nihant' 'Bernachon'\n",
      " 'Beschle (Felchlin)' 'Bisou' 'Bitacora' 'Bittersweet Origins' 'Bixby'\n",
      " 'Black Mountain' 'Black River (A. Morin)' 'Black Sheep' 'Blanxart'\n",
      " 'Blue Bandana' 'Boho' 'Bonaterra' 'Bonnat' 'Bouga Cacao (Tulicorp)'\n",
      " 'Bowler Man' 'Brasstown' \"Brasstown aka It's Chocolate\" 'Brazen'\n",
      " 'Breeze Mill' 'Bright' 'Britarev' 'Bronx Grrl Chocolate' 'Bullion'\n",
      " 'Burnt Fork Bend' 'By Cacao' 'Cacai Cacao' 'Cacao 70' 'Cacao Arabuco'\n",
      " 'Cacao Atlanta' 'Cacao Barry' 'Cacao Betulia' 'Cacao de Origen'\n",
      " 'Cacao Gonzales' 'Cacao Hunters' 'Cacao Market' 'Cacao Prieto'\n",
      " 'Cacao Sampaka' 'Cacao Santa Fe (Art of Chocolate)' 'Cacao Store'\n",
      " 'Cacaodada' 'Cacaosuyo' 'Cacaoyere (Ecuatoriana)' 'Callebaut' 'C-Amaro'\n",
      " 'Cao' 'Caofiori' 'Caoni (Tulicorp)' 'Captain Pembleton' 'CAR Artisan'\n",
      " 'Caribeans' 'Carlotta Chocolat' 'Casa' 'Casa Lasevicius' 'Castronovo'\n",
      " 'Cello' 'Cemoi' 'Chaleur B' 'Chapon' 'Charm School'\n",
      " 'Chchukululu (Tulicorp)' 'Chequessett' 'Chloe Chocolat' 'Chocablog'\n",
      " 'Choco Del Sol' 'Choco Dong' 'Chococard (Lapos)' 'Chocolarder'\n",
      " \"Chocola'te\" 'Chocolate Alchemist-Philly' 'Chocolate Con Amor'\n",
      " 'Chocolate Conspiracy' 'Chocolate Makers' 'Chocolate Tree'\n",
      " 'Chocolates by Josh (Box Chocolate)' 'Chocolatoa' 'Chocolats Privilege'\n",
      " 'Chocolibrium' 'ChocoReko' 'Chocosol' 'Chocotenango' 'Chocovic'\n",
      " 'Chocovivo' 'Choklat' 'Chokola' 'Chokolat Elot (Girard)'\n",
      " 'Christophe Toury' 'Christopher Elbow' 'Christopher Morel (Felchlin)'\n",
      " 'Chuao Chocolatier' 'Chuao Chocolatier (Pralus)' 'Claudio Corallo'\n",
      " 'Cleveland Chocolate Company' 'Cloudforest' 'Coco' 'Cocoa Carib'\n",
      " 'Cocoa Forge' 'Compania de Chocolate (Salgado)' 'Condor' 'Confluence'\n",
      " 'Conjure' 'Coppeneur' \"Cote d' Or (Kraft)\" 'Cravve' 'Creo'\n",
      " 'Crow and Moss' 'Cultura' 'Cuna de Piedra' 'Daintree' 'Dalloway' 'Damson'\n",
      " 'Dancing Lion' 'Dandelion' 'Dandelion (aka Brower Ave)'\n",
      " 'Dandelion (Japan)' 'Danta' 'DAR' 'Darcis' 'Dark Forest' 'Davis'\n",
      " 'De Mendes' 'De Villiers' 'Dean and Deluca (Belcolade)'\n",
      " 'Debauve & Gallais (Michel Cluizel)' 'Definite' 'Desbarres' 'DeVries'\n",
      " 'Dick Taylor' 'Diogo Vaz' 'Doble & Bignall' 'Dole (Guittard)'\n",
      " 'Dolfin (Belcolade)' 'Domori' 'Dormouse' 'Double Spiral' \"Duffy's\"\n",
      " 'Dulcinea' 'Durand' 'Durci' 'East Van Roasters' 'Eau de Rose'\n",
      " 'Eclat (Felchlin)' 'Eclat (Fruition)' 'Edelmond' 'El Buen' 'El Ceibo'\n",
      " 'El Rey' 'Eldora' 'Emerald Estate' \"Emily's\" 'Encuentro' 'ENNA'\n",
      " 'Enric Rovira (Claudio Corallo)' 'Erithaj (A. Morin)' 'Escazu'\n",
      " \"Ethel's Artisan (Mars)\" 'Ethereal' 'Exquisito' 'Fearless (AMMA)'\n",
      " 'Feitoria Cacao' 'Felchlin' 'Finca' 'Finnia' 'Firetree' 'Five (5)Mile'\n",
      " 'FJAK' 'Forever Cacao' 'Forteza (Cortes)' 'Fossa' 'Foundry' 'Franceschi'\n",
      " 'Frederic Blondeel' 'French Broad' 'Fresco' 'Fresh Coast'\n",
      " 'Fresh Coast aka Just Good Choc.' 'Friis Holm' 'Friis Holm (Bonnat)'\n",
      " 'Fruition' 'Fu Wan' 'Garden Island' 'Georgia Ramon' 'Glennmade'\n",
      " 'Goodnow Farms' 'Gotham' 'Grand Place' 'Great Lakes'\n",
      " \"Green & Black's (ICAM)\" 'Green Bean to Bar' 'Green Door'\n",
      " 'Grenada Chocolate Co.' 'Guido Castagna' 'Guittard' 'Habitual' 'Hachez'\n",
      " 'Hacienda El Castillo' 'Haigh' 'Harper Macaw' 'Harris & James'\n",
      " 'Hazel Hill' 'Hecho' 'Heilemann' 'Heinde & Verre'\n",
      " 'Heirloom Cacao Preservation (Brasstown)'\n",
      " 'Heirloom Cacao Preservation (Fruition)'\n",
      " 'Heirloom Cacao Preservation (Guittard)'\n",
      " 'Heirloom Cacao Preservation (Manoa)'\n",
      " 'Heirloom Cacao Preservation (Millcreek)'\n",
      " 'Heirloom Cacao Preservation (Mindo)'\n",
      " 'Heirloom Cacao Preservation (Zokoko)' 'hello cocoa (now Markham & Fitz)'\n",
      " 'Hemisphere' 'hexx' 'Hogarth' 'Hoja Verde (Tulicorp)' 'Holy Cacao'\n",
      " 'Honest' 'Hotel Chocolat' 'Hotel Chocolat (Coppeneur)' 'Hummingbird'\n",
      " 'Idilio (Felchlin)' 'Indah' 'Indi' 'iQ Chocolate' 'Isidro'\n",
      " 'Islands Chocolate' 'Izard' 'Jacque Torres' 'Jean Marie Auboine'\n",
      " 'Johnny Iuzzini' 'Jordis' 'Kad Kokoa' 'Kah Kow' 'Kah Kow - USA' 'Kaitxo'\n",
      " 'Kakao' 'Kallari (Ecuatoriana)' 'Kaoka (Cemoi)' 'Kasama' 'Kerchner'\n",
      " \"Ki' Xocolatl\" 'Kin + Pod' 'Kiskadee' 'Krak' 'Kto' \"K'ul\" 'Kyya'\n",
      " 'L.A. Burdick (Felchlin)' 'La Cascade du Chocolat'\n",
      " 'La Chocolaterie Nanairo' 'La Chorena' 'La Feverie (Hasnaa)'\n",
      " 'La Maison du Chocolat (Valrhona)' 'La Oroquidea' 'La Pepa de Oro'\n",
      " 'La Rifa' 'Laia aka Chat-Noir' 'Lajedo do Ouro'\n",
      " 'Lake Champlain (Callebaut)' \"L'Amourette\" 'Land' 'Landmark (Amano)'\n",
      " 'Legast' 'Letterpress' 'Levy' 'Lilla' 'Lillie Belle' 'Lindt & Sprungli'\n",
      " 'Lirio' 'Loiza' 'Lonohana' 'Loon' 'Love Bar' 'Love Brown' 'Luisa Abram'\n",
      " \"Luisa's Vegan\" 'Luker' 'Lumineux' 'Machu Picchu Trading Co.'\n",
      " 'MaDe Atlantic City Chocolate Bar' 'Madecasse (Cinagra)' 'Madhu' 'Madre'\n",
      " 'Maglio' 'Majani' 'Malagasy (Chocolaterie Robert)' 'Malagos' 'Malai'\n",
      " 'Malie Kai (Guittard)' 'Malmo' 'Mana' 'Manifesto Cacao' 'Manoa'\n",
      " 'Manufaktura Czekolady' 'Map Chocolate' 'Marana' 'Maribea'\n",
      " \"Marigold's Finest\" 'Markham & Fitz' 'Marou' 'Mars' 'Marsatta'\n",
      " 'Martin Mayer' 'Mast Brothers' 'Matale' 'Maui Kuia' 'Maverick' 'Mayacama'\n",
      " 'McGuire' 'Meadowlands' 'Mellow' 'Menakao (aka Cinagra)' 'Mesocacao'\n",
      " 'Mestico' 'Metiisto' 'Metropolitan' 'Meybol' 'Michel Cluizel'\n",
      " 'Middlebury' 'Mike & Becky' 'Millcreek Cacao Roasters' 'Millesime'\n",
      " 'Milton' 'Mindo' 'Minimal' 'Mirzam' 'Misina' 'Mission' 'Mita' 'Moho'\n",
      " 'Moka Origins' 'Moku' 'Molucca' 'Momotombo' 'Monarque' 'Monsieur Truffe'\n",
      " 'Monsoon' 'Montecristi' 'MUCHO' 'Muchomas (Mesocacao)'\n",
      " 'Musee du Chocolat Theobroma' 'Mutari' 'Nahua' 'Naive' 'Nanea'\n",
      " 'Nathan Miller' 'Nearynogs' 'Neuhaus (Callebaut)' 'Nibble' 'Night Owl'\n",
      " 'Nikoa' 'Nina' 'Ninth (9th) & Larkin' 'Noble Bean aka Jerjobo'\n",
      " \"Noir d' Ebine\" 'Nova Monda' 'Nuance' 'Nugali' 'Oakland Chocolate Co.'\n",
      " 'Obolo' 'Ocelot' 'Ocho' 'Odyssey' 'Ohiyo' 'Oialla by Bojessen (Malmo)'\n",
      " 'Olive and Sinclair' 'Olivia' 'Omanhene' 'Omnom' 'Or Dubh' 'Orfeve'\n",
      " 'organicfair' 'Original Beans (Felchlin)'\n",
      " 'Original Hawaiin Chocolate Factory' 'Orquidea' 'Pacari' \"Palet D'Or\"\n",
      " 'Palette de Bine' 'Pangea' 'Park 75' 'Parliament' 'Parre Chocolat'\n",
      " 'Pascha' 'Patric' 'Paul Young' 'Peppalo' 'Perrenial' 'Petite Patrie'\n",
      " 'Pierre Marcolini' 'Piety and Desire' 'Pinellas' 'Pitch Dark'\n",
      " 'Pollinator' 'Pomm (aka Dead Dog)' 'Poppy and Peep' 'Potomac' 'Pralus'\n",
      " 'Primo Botanica' 'Public Chocolatory' 'Pump Street Bakery' 'Pura Delizia'\n",
      " 'Q Chocolate' 'Qantu' 'Quetzalli (Wolter)' 'Raaka' 'Rain Republic'\n",
      " 'Rancho San Jacinto' 'Ranger' 'Raoul Boulanger' 'Raphio' 'Raw Cocoa'\n",
      " 'Republica del Cacao (aka Confecta)' 'Ritual' 'River-Sea'\n",
      " 'Roasting Masters' 'Robert (aka Chocolaterie Robert)'\n",
      " 'Rococo (Grenada Chocolate Co.)' 'Rogue' 'Rozsavolgyi' 'Ruket' 'S.A.I.D.'\n",
      " 'Sacred' 'Salgado' 'San Jose' 'Santander (Compania Nacional)' 'Santome'\n",
      " 'Scharffen Berger' 'Seaforth' 'Seahorse' 'Shane Chocolate Works'\n",
      " 'Shark Mountain' \"Shark's\" 'Shattell' 'Sibu' 'Sibu Sura' 'Silvio Bessone'\n",
      " 'Sirene' 'Sjolinds' 'Smooth Chocolator, The' 'Snake & Butterfly' 'Soeka'\n",
      " 'Soklet' 'Sol Cacao' 'Solkiki' 'Solomons Gold' 'Solstice' 'Soma'\n",
      " 'Somerville' 'Soul' 'Spagnvola' 'Spencer' 'Spinnaker'\n",
      " 'Sprungli (Felchlin)' 'SRSLY' 'Starchild' 'Stella (aka Bernrain)'\n",
      " 'Stone Grindz' 'StRita Supreme' 'Sublime Origins' 'Summerbird'\n",
      " 'Suruca Chocolate' 'Svenska Kakaobolaget' 'sweet beans' 'Sweet Escalier'\n",
      " 'Sweetness' 'Szanto Tibor' 'Tabal' 'Tablette (aka Vanillabeans)' 'Tala'\n",
      " 'Tan Ban Skrati' 'Taste Artisan' 'Taste Artisan aka Coleman and Davis'\n",
      " 'Taucherli' 'Taylor Made' 'Taza' 'TCHO' 'Tejas' 'Terroir' 'The Barn'\n",
      " 'Theo' 'Theobroma' 'Thistle & Rose aka Aggie USU' 'Tibito'\n",
      " 'Timo A. Meyer' 'Tiny House' \"To'ak\" \"To'ak (Ecuatoriana)\"\n",
      " 'Tobago Estate (Pralus)' 'Tocoti' 'Tosier' 'Tree to Bar' 'Treehouse'\n",
      " 'Treehouse aka Indaphoria' 'Triangle Roasters' 'Tribar' 'Tribe'\n",
      " 'Tsara (Cinagra)' 'twenty-four blackbirds' 'Two Ravens'\n",
      " 'Un Dimanche A Paris' 'Uncouth' 'Undone' 'Upchurch' 'Urzi' 'Utopick'\n",
      " 'Vaka' 'Valrhona' 'Vanleer (Barry Callebaut)'\n",
      " 'Vao Vao (Chocolaterie Robert)' 'Vicuna' 'Videri' 'Vietcacao (A. Morin)'\n",
      " 'Vintage Plantations' 'Vintage Plantations (Tulicorp)' 'Violet Sky'\n",
      " 'Vivra' 'Wellington Chocolate Factory' 'White Label aka Mutari'\n",
      " 'Whittakers' \"Wilkie's Organic\" \"Willie's Cacao\" 'Wm' 'Woodblock'\n",
      " 'Xocolat' 'Xocolatisimo' 'Xocolatl' 'Xocolla' 'Zac Squared' 'Zacharias'\n",
      " \"Zak's\" 'Zart Pralinen' 'Zokoko' 'Zoto (Chocolatoa)' 'Zotter']\n",
      "Унікальні значення для стовбця \"company_location\": ['U.S.A.' 'France' 'Fiji' 'Vanuatu' 'Ecuador' 'Mexico' 'U.K.'\n",
      " 'Netherlands' 'Spain' 'Russia' 'Peru' 'Canada' 'Italy' 'Brazil'\n",
      " 'Nicaragua' 'Australia' 'Philippines' 'Wales' 'Belgium' 'Vietnam'\n",
      " 'Germany' 'Singapore' 'Switzerland' 'Venezuela' 'Malaysia' 'South Korea'\n",
      " 'Taiwan' 'Puerto Rico' 'Colombia' 'Japan' 'New Zealand' 'Costa Rica'\n",
      " 'Hungary' 'Amsterdam' 'Scotland' 'Martinique' 'Sao Tome' 'St. Lucia'\n",
      " 'Argentina' 'Guatemala' 'South Africa' 'Dominican Republic'\n",
      " 'Sao Tome & Principe' 'Bolivia' 'Portugal' 'Norway' 'Denmark' 'Grenada'\n",
      " 'Israel' 'India' 'St.Vincent-Grenadines' 'Czech Republic' 'Thailand'\n",
      " 'Finland' 'Madagascar' 'Sweden' 'Poland' 'Austria' 'Honduras' 'U.A.E.'\n",
      " 'Lithuania' 'Ireland' 'Chile' 'Ghana' 'Iceland' 'Suriname' 'El Salvador']\n",
      "Унікальні значення для стовбця \"year_reviewed\": [2019 2021 2012 2013 2014 2015 2016 2018 2020 2011 2009 2010 2017 2007\n",
      " 2008 2006]\n",
      "Унікальні значення для стовбця \"bean_origin\": ['Tanzania' 'Dominican Republic' 'Madagascar' 'Fiji' 'Venezuela' 'Uganda'\n",
      " 'India' 'Bolivia' 'Peru' 'Panama' 'Colombia' 'Burma' 'Brazil'\n",
      " 'Papua New Guinea' 'Ecuador' 'Cuba' 'Togo' 'Sao Tome' 'Mexico' 'Vanuatu'\n",
      " 'Indonesia' 'Trinidad' 'Vietnam' 'Nicaragua' 'Ghana' 'Belize' 'Blend'\n",
      " 'Jamaica' 'Grenada' 'Guatemala' 'Honduras' 'Costa Rica' 'Haiti' 'Congo'\n",
      " 'Philippines' 'Solomon Islands' 'Malaysia' 'Sri Lanka' 'Ivory Coast'\n",
      " 'Gabon' 'Taiwan' 'Puerto Rico' 'Martinique' 'St. Lucia' 'Australia'\n",
      " 'Liberia' 'Sierra Leone' 'U.S.A.' 'Nigeria' 'St.Vincent-Grenadines'\n",
      " 'Thailand' 'Tobago' 'Sao Tome & Principe' 'Sumatra' 'El Salvador'\n",
      " 'Cameroon' 'Samoa' 'China' 'Principe' 'Sulawesi' 'Suriname' 'DR Congo']\n",
      "Унікальні значення для стовбця \"bar_name\": ['Kokoa Kamili, batch 1' 'Zorzal, batch 1' 'Bejofo Estate, batch 1' ...\n",
      " 'APROCAFA, Acandi' 'Dry Aged, 30 yr Anniversary bar'\n",
      " 'Mountains of the Moon']\n",
      "Унікальні значення для стовбця \"cocoa_percent\": [ 76.   68.   72.   80.   70.   63.   74.   60.   88.   55.   75.   65.\n",
      "  85.   73.   64.   66.   50.  100.   77.   82.   90.   71.   83.   78.\n",
      "  86.   62.   69.   91.   67.   42.   61.   73.5  79.   58.   71.5  60.5\n",
      "  81.   57.   72.5  56.   46.   89.   99.   84.   53.   87. ]\n",
      "Унікальні значення для стовбця \"num_ingredients\": [ 3.  4.  2.  5.  6. nan  1.]\n",
      "Унікальні значення для стовбця \"ingredients\": ['B,S,C' 'B,S,C,L' 'B,S' 'B,S,C,V' 'B,S,C,V,L' 'B,S,C,V,L,Sa' 'B,S,C,V,Sa'\n",
      " nan 'B,S,V,L' 'B,S*' 'B' 'B,S*,C' 'B,S,L' 'B,S,V' 'B,S*,C,L' 'B,S*,C,Sa'\n",
      " 'B,S*,Sa' 'B,S,C,Sa' 'B,S*,V,L' 'B,C' 'B,S*,C,V' 'B,S,C,L,Sa']\n",
      "Унікальні значення для стовбця \"review\": ['rich cocoa, fatty, bready' 'cocoa, vegetal, savory'\n",
      " 'cocoa, blackberry, full body' ... 'fatty, earthy, cocoa'\n",
      " 'fatty, mild nuts, mild fruit' 'muted, roasty, accessible']\n",
      "Унікальні значення для стовбця \"rating\": [3.25 3.5  3.75 3.   2.75 4.   2.5  1.75 2.25 1.5  2.   1.  ]\n",
      "Унікальні значення для стовбця \"Beans\": [1]\n",
      "Унікальні значення для стовбця \"Sugar\": [1 0]\n",
      "Унікальні значення для стовбця \"Sweetener\": [1]\n",
      "Унікальні значення для стовбця \"Cocoa Butter\": [1 0]\n",
      "Унікальні значення для стовбця \"Vanilla\": [0 1]\n",
      "Унікальні значення для стовбця \"Lecithin\": [0 1]\n",
      "Унікальні значення для стовбця \"Salt\": [0 1]\n"
     ]
    }
   ],
   "source": [
    "for column in df.columns:\n",
    "    unique_values = df[column].unique()\n",
    "    print(f'Унікальні значення для стовбця \"{column}\": {unique_values}')"
   ],
   "metadata": {
    "collapsed": false,
    "ExecuteTime": {
     "end_time": "2024-04-16T18:20:57.013174700Z",
     "start_time": "2024-04-16T18:20:56.939803400Z"
    }
   },
   "id": "fe813a777eb2b292",
   "execution_count": 641
  },
  {
   "cell_type": "code",
   "outputs": [
    {
     "data": {
      "text/plain": "id                   0\nmanufacturer         0\ncompany_location     0\nyear_reviewed        0\nbean_origin          0\nbar_name             0\ncocoa_percent        0\nnum_ingredients     87\ningredients         87\nreview               0\nrating               0\nBeans                0\nSugar                0\nSweetener            0\nCocoa Butter         0\nVanilla              0\nLecithin             0\nSalt                 0\ndtype: int64"
     },
     "execution_count": 642,
     "metadata": {},
     "output_type": "execute_result"
    }
   ],
   "source": [
    "df.isna().sum()"
   ],
   "metadata": {
    "collapsed": false,
    "ExecuteTime": {
     "end_time": "2024-04-16T18:20:57.028038400Z",
     "start_time": "2024-04-16T18:20:57.015416800Z"
    }
   },
   "id": "f6096179ff2b4715",
   "execution_count": 642
  },
  {
   "cell_type": "code",
   "outputs": [],
   "source": [
    "asia = ['Vietnam', 'Indonesia', 'Sri Lanka', 'Malaysia', 'Philippines', 'India', 'Taiwan', 'Thailand', 'Sumatra', 'Sulawesi']\n",
    "africa = ['Tanzania', 'Madagascar', 'Fiji', 'Uganda', 'Burma', 'Ghana', 'Nigeria', 'Liberia', 'Sierra Leone', 'Ivory Coast', 'Gabon', 'Sao Tome', 'Sao Tome & Principe', 'Cameroon', 'Sao Tome & Principe', 'DR Congo']\n",
    "america = ['Dominican Republic', 'Venezuela', 'Peru', 'Bolivia', 'Panama', 'Colombia', 'Brazil', 'Ecuador', 'Cuba', 'Mexico', 'Nicaragua', 'Belize', 'Jamaica', 'Grenada', 'Guatemala', 'Honduras', 'Costa Rica', 'Haiti', 'Puerto Rico', 'Martinique', 'St. Lucia', 'St.Vincent-Grenadines', 'El Salvador', 'Suriname', 'DR Congo']\n",
    "oceania = ['Vanuatu', 'Papua New Guinea', 'Solomon Islands', 'Samoa', 'Australia']"
   ],
   "metadata": {
    "collapsed": false,
    "ExecuteTime": {
     "end_time": "2024-04-16T18:20:57.114159500Z",
     "start_time": "2024-04-16T18:20:57.030562300Z"
    }
   },
   "id": "9ffef9544e25274f",
   "execution_count": 643
  },
  {
   "cell_type": "code",
   "outputs": [],
   "source": [
    "df['asia'] = df['bean_origin'].apply(lambda x: 1 if x in asia else 0)\n",
    "df['africa'] =  df['bean_origin'].apply(lambda x: 1 if x in africa else 0)\n",
    "df['america'] =  df['bean_origin'].apply(lambda x: 1 if x in america else 0)\n",
    "df['oceania'] =  df['bean_origin'].apply(lambda x: 1 if x in oceania else 0)\n",
    "\n",
    "df['dark_choc'] = df['cocoa_percent'].apply(lambda x: 1 if x > 60 else 0)\n",
    "df['milk_choc'] = df['cocoa_percent'].apply(lambda x: 1 if x <= 60 else 0)"
   ],
   "metadata": {
    "collapsed": false,
    "ExecuteTime": {
     "end_time": "2024-04-16T18:20:57.153008400Z",
     "start_time": "2024-04-16T18:20:57.058952400Z"
    }
   },
   "id": "4b695894ba94c542",
   "execution_count": 644
  },
  {
   "cell_type": "code",
   "outputs": [
    {
     "data": {
      "text/plain": "rating\n3.50    565\n3.00    523\n3.25    464\n2.75    333\n3.75    300\n2.50    166\n4.00    112\n2.00     33\n2.25     17\n1.50     10\n1.00      4\n1.75      3\nName: count, dtype: int64"
     },
     "execution_count": 645,
     "metadata": {},
     "output_type": "execute_result"
    }
   ],
   "source": [
    "df['rating'].value_counts()\n"
   ],
   "metadata": {
    "collapsed": false,
    "ExecuteTime": {
     "end_time": "2024-04-16T18:20:57.213756900Z",
     "start_time": "2024-04-16T18:20:57.155042700Z"
    }
   },
   "id": "96ce610388dbf",
   "execution_count": 645
  },
  {
   "cell_type": "code",
   "outputs": [
    {
     "data": {
      "text/plain": "\"\\ndf['rating_category'] = np.select(\\n    [df['rating'].between(1, 2.50), df['rating'].between(2.75, 3.25), df['rating'].between(3.5, 4)],\\n    ['1', '2', '3'],\\n    default='Unknown'\\n)\\n\""
     },
     "execution_count": 646,
     "metadata": {},
     "output_type": "execute_result"
    }
   ],
   "source": [
    "df['rating_category'] = pd.cut(df['rating'], [1.9, 2.9, 3.49, 3.9, 5.0], labels=False)\n",
    "df['rating_category'] = df['rating_category'].fillna(0)\n",
    "\n",
    "# 1 - low\n",
    "# 2 - med\n",
    "# 3 - high\n",
    "\n",
    "# мій спосіб\n",
    "\"\"\"\n",
    "df['rating_category'] = np.select(\n",
    "    [df['rating'].between(1, 2.50), df['rating'].between(2.75, 3.25), df['rating'].between(3.5, 4)],\n",
    "    ['1', '2', '3'],\n",
    "    default='Unknown'\n",
    ")\n",
    "\"\"\""
   ],
   "metadata": {
    "collapsed": false,
    "ExecuteTime": {
     "end_time": "2024-04-16T18:20:57.262686400Z",
     "start_time": "2024-04-16T18:20:57.178048700Z"
    }
   },
   "id": "fda63a717045c905",
   "execution_count": 646
  },
  {
   "cell_type": "code",
   "outputs": [
    {
     "data": {
      "text/plain": "id                   0\nmanufacturer         0\ncompany_location     0\nyear_reviewed        0\nbean_origin          0\nbar_name             0\ncocoa_percent        0\nnum_ingredients     87\ningredients         87\nreview               0\nrating               0\nBeans                0\nSugar                0\nSweetener            0\nCocoa Butter         0\nVanilla              0\nLecithin             0\nSalt                 0\nasia                 0\nafrica               0\namerica              0\noceania              0\ndark_choc            0\nmilk_choc            0\nrating_category      0\ndtype: int64"
     },
     "execution_count": 647,
     "metadata": {},
     "output_type": "execute_result"
    }
   ],
   "source": [
    "df.isna().sum()"
   ],
   "metadata": {
    "collapsed": false,
    "ExecuteTime": {
     "end_time": "2024-04-16T18:20:57.283080400Z",
     "start_time": "2024-04-16T18:20:57.232658700Z"
    }
   },
   "id": "44ac9d842b2fcc40",
   "execution_count": 647
  },
  {
   "cell_type": "code",
   "outputs": [
    {
     "data": {
      "text/plain": "rating_category\n1.0    987\n2.0    865\n0.0    566\n3.0    112\nName: count, dtype: int64"
     },
     "execution_count": 648,
     "metadata": {},
     "output_type": "execute_result"
    }
   ],
   "source": [
    "df['rating_category'].value_counts()\n"
   ],
   "metadata": {
    "collapsed": false,
    "ExecuteTime": {
     "end_time": "2024-04-16T18:20:57.320939400Z",
     "start_time": "2024-04-16T18:20:57.271146100Z"
    }
   },
   "id": "f60e2e5aa88af739",
   "execution_count": 648
  },
  {
   "cell_type": "code",
   "outputs": [
    {
     "data": {
      "text/plain": "     id manufacturer company_location  year_reviewed         bean_origin  \\\n0  2454         5150           U.S.A.           2019            Tanzania   \n1  2458         5150           U.S.A.           2019  Dominican Republic   \n2  2454         5150           U.S.A.           2019          Madagascar   \n3  2542         5150           U.S.A.           2021                Fiji   \n4  2546         5150           U.S.A.           2021           Venezuela   \n\n                 bar_name  cocoa_percent  num_ingredients ingredients  \\\n0   Kokoa Kamili, batch 1           76.0              3.0       B,S,C   \n1         Zorzal, batch 1           76.0              3.0       B,S,C   \n2  Bejofo Estate, batch 1           76.0              3.0       B,S,C   \n3   Matasawalevu, batch 1           68.0              3.0       B,S,C   \n4   Sur del Lago, batch 1           72.0              3.0       B,S,C   \n\n                              review  ...  Vanilla  Lecithin  Salt  asia  \\\n0          rich cocoa, fatty, bready  ...        0         0     0     0   \n1             cocoa, vegetal, savory  ...        0         0     0     0   \n2       cocoa, blackberry, full body  ...        0         0     0     0   \n3                chewy, off, rubbery  ...        0         0     0     0   \n4  fatty, earthy, moss, nutty,chalky  ...        0         0     0     0   \n\n   africa  america  oceania  dark_choc  milk_choc  rating_category  \n0       1        0        0          1          0              1.0  \n1       0        1        0          1          0              2.0  \n2       1        0        0          1          0              2.0  \n3       1        0        0          1          0              1.0  \n4       0        1        0          1          0              1.0  \n\n[5 rows x 25 columns]",
      "text/html": "<div>\n<style scoped>\n    .dataframe tbody tr th:only-of-type {\n        vertical-align: middle;\n    }\n\n    .dataframe tbody tr th {\n        vertical-align: top;\n    }\n\n    .dataframe thead th {\n        text-align: right;\n    }\n</style>\n<table border=\"1\" class=\"dataframe\">\n  <thead>\n    <tr style=\"text-align: right;\">\n      <th></th>\n      <th>id</th>\n      <th>manufacturer</th>\n      <th>company_location</th>\n      <th>year_reviewed</th>\n      <th>bean_origin</th>\n      <th>bar_name</th>\n      <th>cocoa_percent</th>\n      <th>num_ingredients</th>\n      <th>ingredients</th>\n      <th>review</th>\n      <th>...</th>\n      <th>Vanilla</th>\n      <th>Lecithin</th>\n      <th>Salt</th>\n      <th>asia</th>\n      <th>africa</th>\n      <th>america</th>\n      <th>oceania</th>\n      <th>dark_choc</th>\n      <th>milk_choc</th>\n      <th>rating_category</th>\n    </tr>\n  </thead>\n  <tbody>\n    <tr>\n      <th>0</th>\n      <td>2454</td>\n      <td>5150</td>\n      <td>U.S.A.</td>\n      <td>2019</td>\n      <td>Tanzania</td>\n      <td>Kokoa Kamili, batch 1</td>\n      <td>76.0</td>\n      <td>3.0</td>\n      <td>B,S,C</td>\n      <td>rich cocoa, fatty, bready</td>\n      <td>...</td>\n      <td>0</td>\n      <td>0</td>\n      <td>0</td>\n      <td>0</td>\n      <td>1</td>\n      <td>0</td>\n      <td>0</td>\n      <td>1</td>\n      <td>0</td>\n      <td>1.0</td>\n    </tr>\n    <tr>\n      <th>1</th>\n      <td>2458</td>\n      <td>5150</td>\n      <td>U.S.A.</td>\n      <td>2019</td>\n      <td>Dominican Republic</td>\n      <td>Zorzal, batch 1</td>\n      <td>76.0</td>\n      <td>3.0</td>\n      <td>B,S,C</td>\n      <td>cocoa, vegetal, savory</td>\n      <td>...</td>\n      <td>0</td>\n      <td>0</td>\n      <td>0</td>\n      <td>0</td>\n      <td>0</td>\n      <td>1</td>\n      <td>0</td>\n      <td>1</td>\n      <td>0</td>\n      <td>2.0</td>\n    </tr>\n    <tr>\n      <th>2</th>\n      <td>2454</td>\n      <td>5150</td>\n      <td>U.S.A.</td>\n      <td>2019</td>\n      <td>Madagascar</td>\n      <td>Bejofo Estate, batch 1</td>\n      <td>76.0</td>\n      <td>3.0</td>\n      <td>B,S,C</td>\n      <td>cocoa, blackberry, full body</td>\n      <td>...</td>\n      <td>0</td>\n      <td>0</td>\n      <td>0</td>\n      <td>0</td>\n      <td>1</td>\n      <td>0</td>\n      <td>0</td>\n      <td>1</td>\n      <td>0</td>\n      <td>2.0</td>\n    </tr>\n    <tr>\n      <th>3</th>\n      <td>2542</td>\n      <td>5150</td>\n      <td>U.S.A.</td>\n      <td>2021</td>\n      <td>Fiji</td>\n      <td>Matasawalevu, batch 1</td>\n      <td>68.0</td>\n      <td>3.0</td>\n      <td>B,S,C</td>\n      <td>chewy, off, rubbery</td>\n      <td>...</td>\n      <td>0</td>\n      <td>0</td>\n      <td>0</td>\n      <td>0</td>\n      <td>1</td>\n      <td>0</td>\n      <td>0</td>\n      <td>1</td>\n      <td>0</td>\n      <td>1.0</td>\n    </tr>\n    <tr>\n      <th>4</th>\n      <td>2546</td>\n      <td>5150</td>\n      <td>U.S.A.</td>\n      <td>2021</td>\n      <td>Venezuela</td>\n      <td>Sur del Lago, batch 1</td>\n      <td>72.0</td>\n      <td>3.0</td>\n      <td>B,S,C</td>\n      <td>fatty, earthy, moss, nutty,chalky</td>\n      <td>...</td>\n      <td>0</td>\n      <td>0</td>\n      <td>0</td>\n      <td>0</td>\n      <td>0</td>\n      <td>1</td>\n      <td>0</td>\n      <td>1</td>\n      <td>0</td>\n      <td>1.0</td>\n    </tr>\n  </tbody>\n</table>\n<p>5 rows × 25 columns</p>\n</div>"
     },
     "execution_count": 649,
     "metadata": {},
     "output_type": "execute_result"
    }
   ],
   "source": [
    "df.head()"
   ],
   "metadata": {
    "collapsed": false,
    "ExecuteTime": {
     "end_time": "2024-04-16T18:20:57.341689400Z",
     "start_time": "2024-04-16T18:20:57.290675900Z"
    }
   },
   "id": "c37b77bab4185cb2",
   "execution_count": 649
  },
  {
   "cell_type": "markdown",
   "source": [],
   "metadata": {
    "collapsed": false
   },
   "id": "ce038b523ebee096"
  },
  {
   "cell_type": "code",
   "outputs": [],
   "source": [],
   "metadata": {
    "collapsed": false,
    "ExecuteTime": {
     "end_time": "2024-04-16T18:20:57.392518800Z",
     "start_time": "2024-04-16T18:20:57.327517200Z"
    }
   },
   "id": "220e9376ac8e940d",
   "execution_count": 649
  },
  {
   "cell_type": "code",
   "outputs": [],
   "source": [
    "X = df.drop(['rating','rating_category', 'manufacturer', 'id', 'bar_name', 'company_location', 'ingredients', 'bean_origin', 'review', 'year_reviewed'], axis=1)\n",
    "y = df['rating_category']\n",
    "\n",
    "\n",
    "X_train, X_test, y_train, y_test = train_test_split(X, y, test_size=0.2, random_state=42)\n",
    "\n",
    "numerical_features = gen_features(\n",
    "    columns=[[col] for col in df.drop(['rating','rating_category', 'manufacturer', 'id', 'bar_name', 'company_location', 'ingredients', 'bean_origin', 'review', 'year_reviewed'], axis=1)[['cocoa_percent','num_ingredients']].columns],\n",
    "    classes=[\n",
    "        {'class': SimpleImputer, 'strategy': 'most_frequent'},\n",
    "        {'class': StandardScaler}\n",
    "    ]\n",
    ")\n",
    "categorical_features = gen_features(\n",
    "    columns=[[col] for col in df.drop(['rating','rating_category', 'manufacturer', 'id', 'bar_name', 'company_location', 'ingredients', 'bean_origin', 'review', 'year_reviewed'], axis=1).columns if col not in ['cocoa_percent', 'num_ingredients']]\n",
    ")\n",
    "\n",
    "mapper = DataFrameMapper(\n",
    "  numerical_features + categorical_features, df_out= True, default=False)\n",
    "\n",
    "X_train_prepr = mapper.fit_transform(X_train)\n",
    "X_test_prepr = mapper.transform(X_test)"
   ],
   "metadata": {
    "collapsed": false,
    "ExecuteTime": {
     "end_time": "2024-04-16T18:20:57.483040700Z",
     "start_time": "2024-04-16T18:20:57.384121600Z"
    }
   },
   "id": "2acc8801f607a1bf",
   "execution_count": 650
  },
  {
   "cell_type": "code",
   "outputs": [
    {
     "data": {
      "text/plain": "      cocoa_percent  num_ingredients  Beans  Sugar  Sweetener  Cocoa Butter  \\\n1990      -0.305484        -1.150873      1      1          1             0   \n157        0.051399        -0.031523      1      1          1             1   \n1472      -0.305484        -1.150873      1      1          1             0   \n790        0.943607        -0.031523      1      1          1             1   \n2075      -0.305484        -0.031523      1      1          1             1   \n...             ...              ...    ...    ...        ...           ...   \n1638      -0.305484        -1.150873      1      1          1             0   \n1095       3.441788         2.207177      1      1          1             1   \n1130      -1.376133        -0.031523      1      1          1             0   \n1294       0.051399        -1.150873      1      1          1             0   \n860        0.408282        -0.031523      1      1          1             1   \n\n      Vanilla  Lecithin  Salt  asia  africa  america  oceania  dark_choc  \\\n1990        0         0     0     0       0        0        0          1   \n157         0         0     0     0       0        0        0          1   \n1472        0         0     0     0       0        1        0          1   \n790         0         0     0     0       1        0        0          1   \n2075        0         0     0     0       0        1        0          1   \n...       ...       ...   ...   ...     ...      ...      ...        ...   \n1638        0         0     0     0       0        1        0          1   \n1095        1         1     0     0       0        0        0          1   \n1130        0         1     0     0       0        1        0          1   \n1294        0         0     0     0       0        1        0          1   \n860         0         0     0     1       0        0        0          1   \n\n      milk_choc  \n1990          0  \n157           0  \n1472          0  \n790           0  \n2075          0  \n...         ...  \n1638          0  \n1095          0  \n1130          0  \n1294          0  \n860           0  \n\n[2024 rows x 15 columns]",
      "text/html": "<div>\n<style scoped>\n    .dataframe tbody tr th:only-of-type {\n        vertical-align: middle;\n    }\n\n    .dataframe tbody tr th {\n        vertical-align: top;\n    }\n\n    .dataframe thead th {\n        text-align: right;\n    }\n</style>\n<table border=\"1\" class=\"dataframe\">\n  <thead>\n    <tr style=\"text-align: right;\">\n      <th></th>\n      <th>cocoa_percent</th>\n      <th>num_ingredients</th>\n      <th>Beans</th>\n      <th>Sugar</th>\n      <th>Sweetener</th>\n      <th>Cocoa Butter</th>\n      <th>Vanilla</th>\n      <th>Lecithin</th>\n      <th>Salt</th>\n      <th>asia</th>\n      <th>africa</th>\n      <th>america</th>\n      <th>oceania</th>\n      <th>dark_choc</th>\n      <th>milk_choc</th>\n    </tr>\n  </thead>\n  <tbody>\n    <tr>\n      <th>1990</th>\n      <td>-0.305484</td>\n      <td>-1.150873</td>\n      <td>1</td>\n      <td>1</td>\n      <td>1</td>\n      <td>0</td>\n      <td>0</td>\n      <td>0</td>\n      <td>0</td>\n      <td>0</td>\n      <td>0</td>\n      <td>0</td>\n      <td>0</td>\n      <td>1</td>\n      <td>0</td>\n    </tr>\n    <tr>\n      <th>157</th>\n      <td>0.051399</td>\n      <td>-0.031523</td>\n      <td>1</td>\n      <td>1</td>\n      <td>1</td>\n      <td>1</td>\n      <td>0</td>\n      <td>0</td>\n      <td>0</td>\n      <td>0</td>\n      <td>0</td>\n      <td>0</td>\n      <td>0</td>\n      <td>1</td>\n      <td>0</td>\n    </tr>\n    <tr>\n      <th>1472</th>\n      <td>-0.305484</td>\n      <td>-1.150873</td>\n      <td>1</td>\n      <td>1</td>\n      <td>1</td>\n      <td>0</td>\n      <td>0</td>\n      <td>0</td>\n      <td>0</td>\n      <td>0</td>\n      <td>0</td>\n      <td>1</td>\n      <td>0</td>\n      <td>1</td>\n      <td>0</td>\n    </tr>\n    <tr>\n      <th>790</th>\n      <td>0.943607</td>\n      <td>-0.031523</td>\n      <td>1</td>\n      <td>1</td>\n      <td>1</td>\n      <td>1</td>\n      <td>0</td>\n      <td>0</td>\n      <td>0</td>\n      <td>0</td>\n      <td>1</td>\n      <td>0</td>\n      <td>0</td>\n      <td>1</td>\n      <td>0</td>\n    </tr>\n    <tr>\n      <th>2075</th>\n      <td>-0.305484</td>\n      <td>-0.031523</td>\n      <td>1</td>\n      <td>1</td>\n      <td>1</td>\n      <td>1</td>\n      <td>0</td>\n      <td>0</td>\n      <td>0</td>\n      <td>0</td>\n      <td>0</td>\n      <td>1</td>\n      <td>0</td>\n      <td>1</td>\n      <td>0</td>\n    </tr>\n    <tr>\n      <th>...</th>\n      <td>...</td>\n      <td>...</td>\n      <td>...</td>\n      <td>...</td>\n      <td>...</td>\n      <td>...</td>\n      <td>...</td>\n      <td>...</td>\n      <td>...</td>\n      <td>...</td>\n      <td>...</td>\n      <td>...</td>\n      <td>...</td>\n      <td>...</td>\n      <td>...</td>\n    </tr>\n    <tr>\n      <th>1638</th>\n      <td>-0.305484</td>\n      <td>-1.150873</td>\n      <td>1</td>\n      <td>1</td>\n      <td>1</td>\n      <td>0</td>\n      <td>0</td>\n      <td>0</td>\n      <td>0</td>\n      <td>0</td>\n      <td>0</td>\n      <td>1</td>\n      <td>0</td>\n      <td>1</td>\n      <td>0</td>\n    </tr>\n    <tr>\n      <th>1095</th>\n      <td>3.441788</td>\n      <td>2.207177</td>\n      <td>1</td>\n      <td>1</td>\n      <td>1</td>\n      <td>1</td>\n      <td>1</td>\n      <td>1</td>\n      <td>0</td>\n      <td>0</td>\n      <td>0</td>\n      <td>0</td>\n      <td>0</td>\n      <td>1</td>\n      <td>0</td>\n    </tr>\n    <tr>\n      <th>1130</th>\n      <td>-1.376133</td>\n      <td>-0.031523</td>\n      <td>1</td>\n      <td>1</td>\n      <td>1</td>\n      <td>0</td>\n      <td>0</td>\n      <td>1</td>\n      <td>0</td>\n      <td>0</td>\n      <td>0</td>\n      <td>1</td>\n      <td>0</td>\n      <td>1</td>\n      <td>0</td>\n    </tr>\n    <tr>\n      <th>1294</th>\n      <td>0.051399</td>\n      <td>-1.150873</td>\n      <td>1</td>\n      <td>1</td>\n      <td>1</td>\n      <td>0</td>\n      <td>0</td>\n      <td>0</td>\n      <td>0</td>\n      <td>0</td>\n      <td>0</td>\n      <td>1</td>\n      <td>0</td>\n      <td>1</td>\n      <td>0</td>\n    </tr>\n    <tr>\n      <th>860</th>\n      <td>0.408282</td>\n      <td>-0.031523</td>\n      <td>1</td>\n      <td>1</td>\n      <td>1</td>\n      <td>1</td>\n      <td>0</td>\n      <td>0</td>\n      <td>0</td>\n      <td>1</td>\n      <td>0</td>\n      <td>0</td>\n      <td>0</td>\n      <td>1</td>\n      <td>0</td>\n    </tr>\n  </tbody>\n</table>\n<p>2024 rows × 15 columns</p>\n</div>"
     },
     "execution_count": 651,
     "metadata": {},
     "output_type": "execute_result"
    }
   ],
   "source": [
    "X_train_prepr"
   ],
   "metadata": {
    "collapsed": false,
    "ExecuteTime": {
     "end_time": "2024-04-16T18:20:57.499943600Z",
     "start_time": "2024-04-16T18:20:57.414713600Z"
    }
   },
   "id": "4b5af28d89610917",
   "execution_count": 651
  },
  {
   "cell_type": "code",
   "outputs": [
    {
     "data": {
      "text/plain": "1990    1.0\n157     2.0\n1472    2.0\n790     0.0\n2075    1.0\n       ... \n1638    1.0\n1095    1.0\n1130    0.0\n1294    0.0\n860     1.0\nName: rating_category, Length: 2024, dtype: float64"
     },
     "execution_count": 652,
     "metadata": {},
     "output_type": "execute_result"
    }
   ],
   "source": [
    "y_train"
   ],
   "metadata": {
    "collapsed": false,
    "ExecuteTime": {
     "end_time": "2024-04-16T18:20:57.525073800Z",
     "start_time": "2024-04-16T18:20:57.502516300Z"
    }
   },
   "id": "feae181d41db8fcb",
   "execution_count": 652
  },
  {
   "cell_type": "markdown",
   "source": [
    "# SGDClassifier"
   ],
   "metadata": {
    "collapsed": false
   },
   "id": "7bf20aa3abbb827f"
  },
  {
   "cell_type": "code",
   "outputs": [
    {
     "name": "stdout",
     "output_type": "stream",
     "text": [
      "Найкращі параметри: {'alpha': 0.01, 'loss': 'modified_huber', 'penalty': 'l1'}\n"
     ]
    }
   ],
   "source": [
    "sgd = SGDClassifier()\n",
    "\n",
    "params = {\n",
    "    'alpha': [0.0001, 0.001, 0.01],\n",
    "    'penalty': ['l1', 'l2'],\n",
    "    'loss': ['hinge', 'modified_huber']\n",
    "}\n",
    "\n",
    "grid_search_sgd = GridSearchCV(sgd, params, cv=5)\n",
    "grid_search_sgd.fit(X_train_prepr, y_train)\n",
    "\n",
    "print(\"Найкращі параметри:\", grid_search_sgd.best_params_)"
   ],
   "metadata": {
    "collapsed": false,
    "ExecuteTime": {
     "end_time": "2024-04-16T18:20:59.031355100Z",
     "start_time": "2024-04-16T18:20:57.526095200Z"
    }
   },
   "id": "5bbaa3f71aaa381d",
   "execution_count": 653
  },
  {
   "cell_type": "code",
   "outputs": [
    {
     "name": "stdout",
     "output_type": "stream",
     "text": [
      "Accuracy: 0.383399209486166\n",
      "Precision: 0.3649397093969354\n",
      "Recall: 0.383399209486166\n",
      "F1 Score: 0.26456312080659605\n",
      "Classification Report:\n",
      "              precision    recall  f1-score   support\n",
      "\n",
      "         0.0       0.54      0.11      0.19       131\n",
      "         1.0       0.38      0.92      0.54       190\n",
      "         2.0       0.27      0.03      0.05       160\n",
      "         3.0       0.00      0.00      0.00        25\n",
      "\n",
      "    accuracy                           0.38       506\n",
      "   macro avg       0.30      0.27      0.19       506\n",
      "weighted avg       0.36      0.38      0.26       506\n"
     ]
    },
    {
     "name": "stderr",
     "output_type": "stream",
     "text": [
      "G:\\Ilya\\ML\\venv\\Lib\\site-packages\\sklearn\\metrics\\_classification.py:1509: UndefinedMetricWarning: Precision is ill-defined and being set to 0.0 in labels with no predicted samples. Use `zero_division` parameter to control this behavior.\n",
      "  _warn_prf(average, modifier, f\"{metric.capitalize()} is\", len(result))\n",
      "G:\\Ilya\\ML\\venv\\Lib\\site-packages\\sklearn\\metrics\\_classification.py:1509: UndefinedMetricWarning: Precision is ill-defined and being set to 0.0 in labels with no predicted samples. Use `zero_division` parameter to control this behavior.\n",
      "  _warn_prf(average, modifier, f\"{metric.capitalize()} is\", len(result))\n",
      "G:\\Ilya\\ML\\venv\\Lib\\site-packages\\sklearn\\metrics\\_classification.py:1509: UndefinedMetricWarning: Precision is ill-defined and being set to 0.0 in labels with no predicted samples. Use `zero_division` parameter to control this behavior.\n",
      "  _warn_prf(average, modifier, f\"{metric.capitalize()} is\", len(result))\n"
     ]
    }
   ],
   "source": [
    "y_pred_sgd = grid_search_sgd.predict(X_test_prepr)\n",
    "\n",
    "# Обчислення метрик\n",
    "accuracy_sgd = accuracy_score(y_test, y_pred_sgd)\n",
    "precision_sgd = precision_score(y_test, y_pred_sgd, average='weighted', zero_division=0)\n",
    "recall_sgd = recall_score(y_test, y_pred_sgd, average='weighted', zero_division=0)\n",
    "f1_sgd = f1_score(y_test, y_pred_sgd, average='weighted', zero_division=0)\n",
    "\n",
    "print(\"Accuracy:\", accuracy_sgd)\n",
    "print(\"Precision:\", precision_sgd)\n",
    "print(\"Recall:\", recall_sgd)\n",
    "print(\"F1 Score:\", f1_sgd)\n",
    "\n",
    "# Classification report\n",
    "print(\"Classification Report:\")\n",
    "print(classification_report(y_test, y_pred_sgd))\n"
   ],
   "metadata": {
    "collapsed": false,
    "ExecuteTime": {
     "end_time": "2024-04-16T18:20:59.041963200Z",
     "start_time": "2024-04-16T18:20:59.028234400Z"
    }
   },
   "id": "de21abc7f4e87575",
   "execution_count": 654
  },
  {
   "cell_type": "code",
   "outputs": [
    {
     "data": {
      "text/plain": "<Figure size 1500x600 with 6 Axes>",
      "image/png": "[encoded data removed]"
     },
     "metadata": {},
     "output_type": "display_data"
    },
    {
     "name": "stdout",
     "output_type": "stream",
     "text": [
      "Confusion Matrix (KNN):\n",
      " [[ 15 112   4   0]\n",
      " [  8 175   7   0]\n",
      " [  5 151   4   0]\n",
      " [  0  25   0   0]]\n",
      "\n",
      "Confusion Matrix (Normalized - Recall):\n",
      " [[0.11450382 0.85496183 0.03053435 0.        ]\n",
      " [0.04210526 0.92105263 0.03684211 0.        ]\n",
      " [0.03125    0.94375    0.025      0.        ]\n",
      " [0.         1.         0.         0.        ]]\n",
      "\n",
      "Confusion Matrix (Normalized - Precision):\n",
      " [[0.53571429 0.24190065 0.26666667 0.        ]\n",
      " [0.28571429 0.37796976 0.46666667 0.        ]\n",
      " [0.17857143 0.32613391 0.26666667 0.        ]\n",
      " [0.         0.05399568 0.         0.        ]]\n"
     ]
    }
   ],
   "source": [
    "conf_matrix_sgd = confusion_matrix(y_test, y_pred_sgd)\n",
    "\n",
    "conf_matrix_normalized_recall_sgd = confusion_matrix(y_test, y_pred_sgd, normalize='true')\n",
    "conf_matrix_normalized_precision_sgd = confusion_matrix(y_test, y_pred_sgd, normalize='pred')\n",
    "\n",
    "\n",
    "fig, axes = plt.subplots(1, 3, figsize=(15, 6))\n",
    "sns.heatmap(conf_matrix_sgd, annot=True, fmt=\"4.0f\", cmap=\"crest\", ax=axes[0])\n",
    "axes[0].set_title(\"Confusion Matrix\")\n",
    "#по recall\n",
    "sns.heatmap(conf_matrix_normalized_recall_sgd, annot=True, fmt=\".2f\", cmap=\"crest\",ax=axes[1])\n",
    "axes[1].set_title(\"Confusion Matrix NO Recall\")\n",
    "#по precision\n",
    "sns.heatmap(conf_matrix_normalized_precision_sgd, annot=True, fmt=\".2f\", cmap=\"crest\",ax=axes[2])\n",
    "axes[2].set_title(\"Confusion Matrix NO Precision\")\n",
    "plt.tight_layout()\n",
    "plt.show()\n",
    "\n",
    "print(\"Confusion Matrix (KNN):\\n\", conf_matrix_sgd)\n",
    "print(\"\\nConfusion Matrix (Normalized - Recall):\\n\", conf_matrix_normalized_recall_sgd)\n",
    "print(\"\\nConfusion Matrix (Normalized - Precision):\\n\", conf_matrix_normalized_precision_sgd)"
   ],
   "metadata": {
    "collapsed": false,
    "ExecuteTime": {
     "end_time": "2024-04-16T18:20:59.640013300Z",
     "start_time": "2024-04-16T18:20:59.041963200Z"
    }
   },
   "id": "f75bcb1bfa6fcc5c",
   "execution_count": 655
  },
  {
   "cell_type": "markdown",
   "source": [
    "# KNNClassifier"
   ],
   "metadata": {
    "collapsed": false
   },
   "id": "25f496b3dc4e4171"
  },
  {
   "cell_type": "code",
   "outputs": [
    {
     "name": "stdout",
     "output_type": "stream",
     "text": [
      "Найкращі параметри: {'n_neighbors': 9, 'p': 1}\n"
     ]
    }
   ],
   "source": [
    "knn = KNeighborsClassifier()\n",
    "\n",
    "params = {'n_neighbors': [3, 5, 7, 9], 'p': [1, 2]}\n",
    "\n",
    "grid_search = GridSearchCV(knn, params, cv=5)\n",
    "grid_search.fit(X_train_prepr, y_train)\n",
    "\n",
    "# Вивід найкращих параметрів\n",
    "print(\"Найкращі параметри:\", grid_search.best_params_)\n",
    "\n",
    "best_knn = grid_search.best_estimator_\n",
    "y_pred_knn = best_knn.predict(X_test_prepr)\n"
   ],
   "metadata": {
    "collapsed": false,
    "ExecuteTime": {
     "end_time": "2024-04-16T18:21:00.399109300Z",
     "start_time": "2024-04-16T18:20:59.642680700Z"
    }
   },
   "id": "a9b24857be4a2478",
   "execution_count": 656
  },
  {
   "cell_type": "code",
   "outputs": [],
   "source": [],
   "metadata": {
    "collapsed": false,
    "ExecuteTime": {
     "end_time": "2024-04-16T18:21:00.400453100Z",
     "start_time": "2024-04-16T18:21:00.394940400Z"
    }
   },
   "id": "5feee9cde09b18f",
   "execution_count": 656
  },
  {
   "cell_type": "code",
   "outputs": [
    {
     "name": "stdout",
     "output_type": "stream",
     "text": [
      "Accuracy: 0.3458498023715415\n",
      "Precision: 0.3273870382801045\n",
      "Recall: 0.3458498023715415\n",
      "Weighted F1: 0.32876029750022284\n",
      "Classification Report:\n",
      "              precision    recall  f1-score   support\n",
      "\n",
      "         0.0       0.34      0.24      0.28       131\n",
      "         1.0       0.35      0.51      0.41       190\n",
      "         2.0       0.34      0.29      0.32       160\n",
      "         3.0       0.00      0.00      0.00        25\n",
      "\n",
      "    accuracy                           0.35       506\n",
      "   macro avg       0.26      0.26      0.25       506\n",
      "weighted avg       0.33      0.35      0.33       506\n"
     ]
    },
    {
     "name": "stderr",
     "output_type": "stream",
     "text": [
      "G:\\Ilya\\ML\\venv\\Lib\\site-packages\\sklearn\\metrics\\_classification.py:1509: UndefinedMetricWarning: Precision is ill-defined and being set to 0.0 in labels with no predicted samples. Use `zero_division` parameter to control this behavior.\n",
      "  _warn_prf(average, modifier, f\"{metric.capitalize()} is\", len(result))\n",
      "G:\\Ilya\\ML\\venv\\Lib\\site-packages\\sklearn\\metrics\\_classification.py:1509: UndefinedMetricWarning: Precision is ill-defined and being set to 0.0 in labels with no predicted samples. Use `zero_division` parameter to control this behavior.\n",
      "  _warn_prf(average, modifier, f\"{metric.capitalize()} is\", len(result))\n",
      "G:\\Ilya\\ML\\venv\\Lib\\site-packages\\sklearn\\metrics\\_classification.py:1509: UndefinedMetricWarning: Precision is ill-defined and being set to 0.0 in labels with no predicted samples. Use `zero_division` parameter to control this behavior.\n",
      "  _warn_prf(average, modifier, f\"{metric.capitalize()} is\", len(result))\n",
      "G:\\Ilya\\ML\\venv\\Lib\\site-packages\\sklearn\\metrics\\_classification.py:1509: UndefinedMetricWarning: Precision is ill-defined and being set to 0.0 in labels with no predicted samples. Use `zero_division` parameter to control this behavior.\n",
      "  _warn_prf(average, modifier, f\"{metric.capitalize()} is\", len(result))\n"
     ]
    }
   ],
   "source": [
    "accuracy = accuracy_score(y_test, y_pred_knn)\n",
    "print(\"Accuracy:\", accuracy)\n",
    "\n",
    "precision, recall, f1, _ = precision_recall_fscore_support(y_test, y_pred_knn, average='weighted')\n",
    "print(\"Precision:\", precision)\n",
    "print(\"Recall:\", recall)\n",
    "print(\"Weighted F1:\", f1)\n",
    "\n",
    "class_report = classification_report(y_test, y_pred_knn)\n",
    "print(\"Classification Report:\")\n",
    "print(class_report)"
   ],
   "metadata": {
    "collapsed": false,
    "ExecuteTime": {
     "end_time": "2024-04-16T18:21:00.410075200Z",
     "start_time": "2024-04-16T18:21:00.396501Z"
    }
   },
   "id": "d3f1f46d1e286ba3",
   "execution_count": 657
  },
  {
   "cell_type": "markdown",
   "source": [
    "Побудувати матриці невідповідностей (confusion matrix [API: 3]), проаналізувати матриці;"
   ],
   "metadata": {
    "collapsed": false
   },
   "id": "5e9a7459ce15adaf"
  },
  {
   "cell_type": "code",
   "outputs": [
    {
     "data": {
      "text/plain": "<Figure size 1500x600 with 6 Axes>",
      "image/png": "[encoded data removed]"
     },
     "metadata": {},
     "output_type": "display_data"
    },
    {
     "name": "stdout",
     "output_type": "stream",
     "text": [
      "Confusion Matrix (KNN):\n",
      " [[32 73 26  0]\n",
      " [38 96 56  0]\n",
      " [19 94 47  0]\n",
      " [ 5 11  9  0]]\n",
      "\n",
      "Confusion Matrix (Normalized - Recall):\n",
      " [[0.24427481 0.55725191 0.19847328 0.        ]\n",
      " [0.2        0.50526316 0.29473684 0.        ]\n",
      " [0.11875    0.5875     0.29375    0.        ]\n",
      " [0.2        0.44       0.36       0.        ]]\n",
      "\n",
      "Confusion Matrix (Normalized - Precision):\n",
      " [[0.34042553 0.26642336 0.1884058  0.        ]\n",
      " [0.40425532 0.35036496 0.4057971  0.        ]\n",
      " [0.20212766 0.34306569 0.34057971 0.        ]\n",
      " [0.05319149 0.04014599 0.06521739 0.        ]]\n"
     ]
    }
   ],
   "source": [
    "conf_matrix_knn = confusion_matrix(y_test, y_pred_knn)\n",
    "\n",
    "conf_matrix_normalized_recall_knn = confusion_matrix(y_test, y_pred_knn, normalize='true')\n",
    "conf_matrix_normalized_precision_knn = confusion_matrix(y_test, y_pred_knn, normalize='pred')\n",
    "\n",
    "\n",
    "fig, axes = plt.subplots(1, 3, figsize=(15, 6))\n",
    "sns.heatmap(conf_matrix_knn, annot=True, fmt=\"4.0f\", cmap=\"crest\", ax=axes[0])\n",
    "axes[0].set_title(\"Confusion Matrix\")\n",
    "#по recall\n",
    "sns.heatmap(conf_matrix_normalized_recall_knn, annot=True, fmt=\".2f\", cmap=\"crest\",ax=axes[1])\n",
    "axes[1].set_title(\"Confusion Matrix NO Recall\")\n",
    "#по precision\n",
    "sns.heatmap(conf_matrix_normalized_precision_knn, annot=True, fmt=\".2f\", cmap=\"crest\",ax=axes[2])\n",
    "axes[2].set_title(\"Confusion Matrix NO Precision\")\n",
    "plt.tight_layout()\n",
    "plt.show()\n",
    "\n",
    "print(\"Confusion Matrix (KNN):\\n\", conf_matrix_knn)\n",
    "print(\"\\nConfusion Matrix (Normalized - Recall):\\n\", conf_matrix_normalized_recall_knn)\n",
    "print(\"\\nConfusion Matrix (Normalized - Precision):\\n\", conf_matrix_normalized_precision_knn)"
   ],
   "metadata": {
    "collapsed": false,
    "ExecuteTime": {
     "end_time": "2024-04-16T18:21:00.994713700Z",
     "start_time": "2024-04-16T18:21:00.411716900Z"
    }
   },
   "id": "7b0eb9b3070bb8b4",
   "execution_count": 658
  },
  {
   "cell_type": "code",
   "outputs": [],
   "source": [],
   "metadata": {
    "collapsed": false,
    "ExecuteTime": {
     "end_time": "2024-04-16T18:21:01.000445900Z",
     "start_time": "2024-04-16T18:21:00.993821300Z"
    }
   },
   "id": "107f4624d13ac7a2",
   "execution_count": 658
  },
  {
   "cell_type": "markdown",
   "source": [
    "# DecisionTreeClassifier:"
   ],
   "metadata": {
    "collapsed": false
   },
   "id": "1b8d9e9771b56446"
  },
  {
   "cell_type": "code",
   "outputs": [
    {
     "name": "stdout",
     "output_type": "stream",
     "text": [
      "Найкращі параметри: {'criterion': 'gini', 'max_depth': 5, 'min_samples_leaf': 2, 'min_samples_split': 5}\n"
     ]
    }
   ],
   "source": [
    "# Створення моделі DecisionTreeClassifier\n",
    "dtc = DecisionTreeClassifier()\n",
    "\n",
    "# Задання параметрів для тюнінгу\n",
    "params = {\n",
    "    'criterion': ['gini', 'entropy'],\n",
    "    'max_depth': [None, 5, 10, 15],\n",
    "    'min_samples_split': [2, 5, 10],\n",
    "    'min_samples_leaf': [1, 2, 4]\n",
    "}\n",
    "\n",
    "# Використання GridSearchCV для пошуку найкращих параметрів\n",
    "grid_search_dtc = GridSearchCV(dtc, params, cv=5)\n",
    "grid_search_dtc.fit(X_train_prepr, y_train)\n",
    "\n",
    "# Вивід найкращих параметрів\n",
    "print(\"Найкращі параметри:\", grid_search_dtc.best_params_)\n"
   ],
   "metadata": {
    "collapsed": false,
    "ExecuteTime": {
     "end_time": "2024-04-16T18:23:59.275050700Z",
     "start_time": "2024-04-16T18:23:57.640701Z"
    }
   },
   "id": "d67b06f7cb4dcd7d",
   "execution_count": 660
  },
  {
   "cell_type": "code",
   "outputs": [
    {
     "name": "stdout",
     "output_type": "stream",
     "text": [
      "Accuracy: 0.3695652173913043\n",
      "Precision: 0.3703094336493546\n",
      "Recall: 0.3695652173913043\n",
      "F1 Score: 0.32511749300929704\n",
      "Classification Report:\n",
      "              precision    recall  f1-score   support\n",
      "\n",
      "         0.0       0.45      0.07      0.12       131\n",
      "         1.0       0.36      0.54      0.43       190\n",
      "         2.0       0.38      0.47      0.42       160\n",
      "         3.0       0.00      0.00      0.00        25\n",
      "\n",
      "    accuracy                           0.37       506\n",
      "   macro avg       0.30      0.27      0.24       506\n",
      "weighted avg       0.37      0.37      0.33       506\n"
     ]
    },
    {
     "name": "stderr",
     "output_type": "stream",
     "text": [
      "G:\\Ilya\\ML\\venv\\Lib\\site-packages\\sklearn\\metrics\\_classification.py:1509: UndefinedMetricWarning: Precision is ill-defined and being set to 0.0 in labels with no predicted samples. Use `zero_division` parameter to control this behavior.\n",
      "  _warn_prf(average, modifier, f\"{metric.capitalize()} is\", len(result))\n",
      "G:\\Ilya\\ML\\venv\\Lib\\site-packages\\sklearn\\metrics\\_classification.py:1509: UndefinedMetricWarning: Precision is ill-defined and being set to 0.0 in labels with no predicted samples. Use `zero_division` parameter to control this behavior.\n",
      "  _warn_prf(average, modifier, f\"{metric.capitalize()} is\", len(result))\n",
      "G:\\Ilya\\ML\\venv\\Lib\\site-packages\\sklearn\\metrics\\_classification.py:1509: UndefinedMetricWarning: Precision is ill-defined and being set to 0.0 in labels with no predicted samples. Use `zero_division` parameter to control this behavior.\n",
      "  _warn_prf(average, modifier, f\"{metric.capitalize()} is\", len(result))\n"
     ]
    }
   ],
   "source": [
    "# Прогнозування на тестових даних\n",
    "y_pred_dtc = grid_search_dtc.predict(X_test_prepr)\n",
    "\n",
    "# Обчислення метрик\n",
    "accuracy_dtc = accuracy_score(y_test, y_pred_dtc)\n",
    "precision_dtc = precision_score(y_test, y_pred_dtc, average='weighted', zero_division=0)\n",
    "recall_dtc = recall_score(y_test, y_pred_dtc, average='weighted', zero_division=0)\n",
    "f1_dtc = f1_score(y_test, y_pred_dtc, average='weighted', zero_division=0)\n",
    "\n",
    "print(\"Accuracy:\", accuracy_dtc)\n",
    "print(\"Precision:\", precision_dtc)\n",
    "print(\"Recall:\", recall_dtc)\n",
    "print(\"F1 Score:\", f1_dtc)\n",
    "\n",
    "# Classification report\n",
    "print(\"Classification Report:\")\n",
    "print(classification_report(y_test, y_pred_dtc))"
   ],
   "metadata": {
    "collapsed": false,
    "ExecuteTime": {
     "end_time": "2024-04-16T18:24:01.483195900Z",
     "start_time": "2024-04-16T18:24:01.450251700Z"
    }
   },
   "id": "e0cb956e272a0ba1",
   "execution_count": 661
  },
  {
   "cell_type": "code",
   "outputs": [
    {
     "data": {
      "text/plain": "<Figure size 1500x600 with 6 Axes>",
      "image/png": "[encoded data removed]"
     },
     "metadata": {},
     "output_type": "display_data"
    },
    {
     "name": "stdout",
     "output_type": "stream",
     "text": [
      "Confusion Matrix (KNN):\n",
      " [[  9  89  33   0]\n",
      " [  5 103  82   0]\n",
      " [  6  79  75   0]\n",
      " [  0  15  10   0]]\n",
      "\n",
      "Confusion Matrix (Normalized - Recall):\n",
      " [[0.06870229 0.67938931 0.2519084  0.        ]\n",
      " [0.02631579 0.54210526 0.43157895 0.        ]\n",
      " [0.0375     0.49375    0.46875    0.        ]\n",
      " [0.         0.6        0.4        0.        ]]\n",
      "\n",
      "Confusion Matrix (Normalized - Precision):\n",
      " [[0.45       0.31118881 0.165      0.        ]\n",
      " [0.25       0.36013986 0.41       0.        ]\n",
      " [0.3        0.27622378 0.375      0.        ]\n",
      " [0.         0.05244755 0.05       0.        ]]\n"
     ]
    }
   ],
   "source": [
    "conf_matrix_dtc = confusion_matrix(y_test, y_pred_dtc)\n",
    "\n",
    "conf_matrix_normalized_recall_dtc = confusion_matrix(y_test, y_pred_dtc, normalize='true')\n",
    "conf_matrix_normalized_precision_dtc = confusion_matrix(y_test, y_pred_dtc, normalize='pred')\n",
    "\n",
    "\n",
    "fig, axes = plt.subplots(1, 3, figsize=(15, 6))\n",
    "sns.heatmap(conf_matrix_dtc, annot=True, fmt=\"4.0f\", cmap=\"crest\", ax=axes[0])\n",
    "axes[0].set_title(\"Confusion Matrix\")\n",
    "#по recall\n",
    "sns.heatmap(conf_matrix_normalized_recall_dtc, annot=True, fmt=\".2f\", cmap=\"crest\",ax=axes[1])\n",
    "axes[1].set_title(\"Confusion Matrix NO Recall\")\n",
    "#по precision\n",
    "sns.heatmap(conf_matrix_normalized_precision_dtc, annot=True, fmt=\".2f\", cmap=\"crest\",ax=axes[2])\n",
    "axes[2].set_title(\"Confusion Matrix NO Precision\")\n",
    "plt.tight_layout()\n",
    "plt.show()\n",
    "\n",
    "print(\"Confusion Matrix (KNN):\\n\", conf_matrix_dtc)\n",
    "print(\"\\nConfusion Matrix (Normalized - Recall):\\n\", conf_matrix_normalized_recall_dtc)\n",
    "print(\"\\nConfusion Matrix (Normalized - Precision):\\n\", conf_matrix_normalized_precision_dtc)"
   ],
   "metadata": {
    "collapsed": false,
    "ExecuteTime": {
     "end_time": "2024-04-16T18:24:55.715448500Z",
     "start_time": "2024-04-16T18:24:54.927847500Z"
    }
   },
   "id": "d1379a547fd8fa80",
   "execution_count": 662
  },
  {
   "cell_type": "markdown",
   "source": [
    "Для DecisionTreeClassifier відобразити та проаналізувати feature importance [API: ];"
   ],
   "metadata": {
    "collapsed": false
   },
   "id": "fd59e935241a0395"
  },
  {
   "cell_type": "code",
   "outputs": [
    {
     "data": {
      "text/plain": "<Figure size 1000x600 with 1 Axes>",
      "image/png": "[encoded data removed]"
     },
     "metadata": {},
     "output_type": "display_data"
    },
    {
     "name": "stdout",
     "output_type": "stream",
     "text": [
      "Feature Importance:\n",
      "            Feature  Importance\n",
      "0     cocoa_percent    0.510770\n",
      "6           Vanilla    0.181381\n",
      "14        milk_choc    0.067901\n",
      "1   num_ingredients    0.063622\n",
      "7          Lecithin    0.059417\n",
      "11          america    0.047834\n",
      "12          oceania    0.028031\n",
      "10           africa    0.021357\n",
      "9              asia    0.019687\n",
      "2             Beans    0.000000\n",
      "3             Sugar    0.000000\n",
      "4         Sweetener    0.000000\n",
      "5      Cocoa Butter    0.000000\n",
      "8              Salt    0.000000\n",
      "13        dark_choc    0.000000\n"
     ]
    }
   ],
   "source": [
    "# Отримання важливості ознак з навченої моделі\n",
    "feature_importance = grid_search_dtc.best_estimator_.feature_importances_\n",
    "\n",
    "# Створення DataFrame для відображення важливості ознак\n",
    "feature_importance_df = pd.DataFrame({'Feature': X_train.columns, 'Importance': feature_importance})\n",
    "feature_importance_df = feature_importance_df.sort_values(by='Importance', ascending=False)\n",
    "\n",
    "# Відображення важливості ознак\n",
    "plt.figure(figsize=(10, 6))\n",
    "plt.barh(feature_importance_df['Feature'], feature_importance_df['Importance'])\n",
    "plt.xlabel('Importance')\n",
    "plt.title('Feature Importance')\n",
    "plt.show()\n",
    "\n",
    "# Вивід важливості ознак у вигляді DataFrame\n",
    "print(\"Feature Importance:\")\n",
    "print(feature_importance_df)"
   ],
   "metadata": {
    "collapsed": false,
    "ExecuteTime": {
     "end_time": "2024-04-16T18:25:35.533579100Z",
     "start_time": "2024-04-16T18:25:34.990092700Z"
    }
   },
   "id": "dddcc4689750f62",
   "execution_count": 663
  },
  {
   "cell_type": "markdown",
   "source": [
    "Вивести порівняльну таблицю для моделей по всім заданим метрикам, зробити відповідні висновки."
   ],
   "metadata": {
    "collapsed": false
   },
   "id": "2035c57da98d9577"
  },
  {
   "cell_type": "code",
   "outputs": [
    {
     "name": "stdout",
     "output_type": "stream",
     "text": [
      "                        Accuracy  Precision    Recall  F1 Score\n",
      "KNN                     0.345850   0.327387  0.345850  0.328760\n",
      "SGDClassifier           0.383399   0.364940  0.383399  0.264563\n",
      "DecisionTreeClassifier  0.369565   0.370309  0.369565  0.325117\n"
     ]
    }
   ],
   "source": [
    "def calculate_metrics(y_test, y_preds):\n",
    "    metrics = {}\n",
    "    for name, y_pred in y_preds.items():\n",
    "        accuracy = accuracy_score(y_test, y_pred)\n",
    "        precision = precision_score(y_test, y_pred, average='weighted', zero_division=0)\n",
    "        recall = recall_score(y_test, y_pred, average='weighted', zero_division=0)\n",
    "        f1 = f1_score(y_test, y_pred, average='weighted', zero_division=0)\n",
    "\n",
    "        metrics[name] = {\n",
    "            'Accuracy': accuracy,\n",
    "            'Precision': precision,\n",
    "            'Recall': recall,\n",
    "            'F1 Score': f1\n",
    "        }\n",
    "    return pd.DataFrame(metrics).T\n",
    "\n",
    "# Використання функції\n",
    "y_preds = {\n",
    "    'KNN': y_pred_knn,\n",
    "    'SGDClassifier': y_pred_sgd,\n",
    "    'DecisionTreeClassifier': y_pred_dtc\n",
    "}\n",
    "metrics_table = calculate_metrics(y_test, y_preds)\n",
    "print(metrics_table)"
   ],
   "metadata": {
    "collapsed": false,
    "ExecuteTime": {
     "end_time": "2024-04-16T18:28:06.571257300Z",
     "start_time": "2024-04-16T18:28:06.531928500Z"
    }
   },
   "id": "3a7234b766ed9186",
   "execution_count": 664
  },
  {
   "cell_type": "markdown",
   "source": [],
   "metadata": {
    "collapsed": false
   },
   "id": "c5106bf854acd130"
  },
  {
   "cell_type": "code",
   "outputs": [],
   "source": [],
   "metadata": {
    "collapsed": false
   },
   "id": "a581693b71e525a1"
  }
 ],
 "metadata": {
  "kernelspec": {
   "display_name": "Python 3",
   "language": "python",
   "name": "python3"
  },
  "language_info": {
   "codemirror_mode": {
    "name": "ipython",
    "version": 2
   },
   "file_extension": ".py",
   "mimetype": "text/x-python",
   "name": "python",
   "nbconvert_exporter": "python",
   "pygments_lexer": "ipython2",
   "version": "2.7.6"
  }
 },
 "nbformat": 4,
 "nbformat_minor": 5
}
