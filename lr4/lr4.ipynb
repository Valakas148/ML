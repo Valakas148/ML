{
 "cells": [
  {
   "cell_type": "code",
   "execution_count": 3,
   "id": "initial_id",
   "metadata": {
    "collapsed": true,
    "ExecuteTime": {
     "end_time": "2024-04-15T18:42:55.531680200Z",
     "start_time": "2024-04-15T18:42:55.397677600Z"
    }
   },
   "outputs": [],
   "source": [
    "import numpy as np\n",
    "import pandas as pd\n",
    "import matplotlib.pyplot as plt\n",
    "import seaborn as sns\n",
    "\n",
    "from sklearn import preprocessing\n",
    "from sklearn.model_selection import train_test_split\n",
    "from sklearn.preprocessing import StandardScaler, OneHotEncoder\n",
    "from sklearn_pandas import DataFrameMapper\n",
    "from sklearn.compose import ColumnTransformer\n",
    "from sklearn.impute import SimpleImputer\n",
    "from sklearn.pipeline import Pipeline"
   ]
  },
  {
   "cell_type": "code",
   "outputs": [],
   "source": [
    "df = pd.read_csv(\"chocolate_bars.csv\")"
   ],
   "metadata": {
    "collapsed": false,
    "ExecuteTime": {
     "end_time": "2024-04-15T18:42:55.546735300Z",
     "start_time": "2024-04-15T18:42:55.532744300Z"
    }
   },
   "id": "aed1869c82495cc9",
   "execution_count": 4
  },
  {
   "cell_type": "code",
   "outputs": [
    {
     "data": {
      "text/plain": "     id manufacturer company_location  year_reviewed         bean_origin  \\\n0  2454         5150           U.S.A.           2019            Tanzania   \n1  2458         5150           U.S.A.           2019  Dominican Republic   \n2  2454         5150           U.S.A.           2019          Madagascar   \n3  2542         5150           U.S.A.           2021                Fiji   \n4  2546         5150           U.S.A.           2021           Venezuela   \n5  2546         5150           U.S.A.           2021              Uganda   \n6  2542         5150           U.S.A.           2021               India   \n7   797     A. Morin           France           2012             Bolivia   \n8   797     A. Morin           France           2012                Peru   \n9  1011     A. Morin           France           2013              Panama   \n\n                   bar_name  cocoa_percent  num_ingredients ingredients  \\\n0     Kokoa Kamili, batch 1           76.0              3.0       B,S,C   \n1           Zorzal, batch 1           76.0              3.0       B,S,C   \n2    Bejofo Estate, batch 1           76.0              3.0       B,S,C   \n3     Matasawalevu, batch 1           68.0              3.0       B,S,C   \n4     Sur del Lago, batch 1           72.0              3.0       B,S,C   \n5  Semuliki Forest, batch 1           80.0              3.0       B,S,C   \n6         Anamalai, batch 1           68.0              3.0       B,S,C   \n7                   Bolivia           70.0              4.0     B,S,C,L   \n8                      Peru           63.0              4.0     B,S,C,L   \n9                    Panama           70.0              4.0     B,S,C,L   \n\n                              review  rating  \n0          rich cocoa, fatty, bready    3.25  \n1             cocoa, vegetal, savory    3.50  \n2       cocoa, blackberry, full body    3.75  \n3                chewy, off, rubbery    3.00  \n4  fatty, earthy, moss, nutty,chalky    3.00  \n5  mildly bitter, basic cocoa, fatty    3.25  \n6      milk brownie, macadamia,chewy    3.50  \n7                     vegetal, nutty    3.50  \n8              fruity, melon, roasty    3.75  \n9    brief fruit note, earthy, nutty    2.75  ",
      "text/html": "<div>\n<style scoped>\n    .dataframe tbody tr th:only-of-type {\n        vertical-align: middle;\n    }\n\n    .dataframe tbody tr th {\n        vertical-align: top;\n    }\n\n    .dataframe thead th {\n        text-align: right;\n    }\n</style>\n<table border=\"1\" class=\"dataframe\">\n  <thead>\n    <tr style=\"text-align: right;\">\n      <th></th>\n      <th>id</th>\n      <th>manufacturer</th>\n      <th>company_location</th>\n      <th>year_reviewed</th>\n      <th>bean_origin</th>\n      <th>bar_name</th>\n      <th>cocoa_percent</th>\n      <th>num_ingredients</th>\n      <th>ingredients</th>\n      <th>review</th>\n      <th>rating</th>\n    </tr>\n  </thead>\n  <tbody>\n    <tr>\n      <th>0</th>\n      <td>2454</td>\n      <td>5150</td>\n      <td>U.S.A.</td>\n      <td>2019</td>\n      <td>Tanzania</td>\n      <td>Kokoa Kamili, batch 1</td>\n      <td>76.0</td>\n      <td>3.0</td>\n      <td>B,S,C</td>\n      <td>rich cocoa, fatty, bready</td>\n      <td>3.25</td>\n    </tr>\n    <tr>\n      <th>1</th>\n      <td>2458</td>\n      <td>5150</td>\n      <td>U.S.A.</td>\n      <td>2019</td>\n      <td>Dominican Republic</td>\n      <td>Zorzal, batch 1</td>\n      <td>76.0</td>\n      <td>3.0</td>\n      <td>B,S,C</td>\n      <td>cocoa, vegetal, savory</td>\n      <td>3.50</td>\n    </tr>\n    <tr>\n      <th>2</th>\n      <td>2454</td>\n      <td>5150</td>\n      <td>U.S.A.</td>\n      <td>2019</td>\n      <td>Madagascar</td>\n      <td>Bejofo Estate, batch 1</td>\n      <td>76.0</td>\n      <td>3.0</td>\n      <td>B,S,C</td>\n      <td>cocoa, blackberry, full body</td>\n      <td>3.75</td>\n    </tr>\n    <tr>\n      <th>3</th>\n      <td>2542</td>\n      <td>5150</td>\n      <td>U.S.A.</td>\n      <td>2021</td>\n      <td>Fiji</td>\n      <td>Matasawalevu, batch 1</td>\n      <td>68.0</td>\n      <td>3.0</td>\n      <td>B,S,C</td>\n      <td>chewy, off, rubbery</td>\n      <td>3.00</td>\n    </tr>\n    <tr>\n      <th>4</th>\n      <td>2546</td>\n      <td>5150</td>\n      <td>U.S.A.</td>\n      <td>2021</td>\n      <td>Venezuela</td>\n      <td>Sur del Lago, batch 1</td>\n      <td>72.0</td>\n      <td>3.0</td>\n      <td>B,S,C</td>\n      <td>fatty, earthy, moss, nutty,chalky</td>\n      <td>3.00</td>\n    </tr>\n    <tr>\n      <th>5</th>\n      <td>2546</td>\n      <td>5150</td>\n      <td>U.S.A.</td>\n      <td>2021</td>\n      <td>Uganda</td>\n      <td>Semuliki Forest, batch 1</td>\n      <td>80.0</td>\n      <td>3.0</td>\n      <td>B,S,C</td>\n      <td>mildly bitter, basic cocoa, fatty</td>\n      <td>3.25</td>\n    </tr>\n    <tr>\n      <th>6</th>\n      <td>2542</td>\n      <td>5150</td>\n      <td>U.S.A.</td>\n      <td>2021</td>\n      <td>India</td>\n      <td>Anamalai, batch 1</td>\n      <td>68.0</td>\n      <td>3.0</td>\n      <td>B,S,C</td>\n      <td>milk brownie, macadamia,chewy</td>\n      <td>3.50</td>\n    </tr>\n    <tr>\n      <th>7</th>\n      <td>797</td>\n      <td>A. Morin</td>\n      <td>France</td>\n      <td>2012</td>\n      <td>Bolivia</td>\n      <td>Bolivia</td>\n      <td>70.0</td>\n      <td>4.0</td>\n      <td>B,S,C,L</td>\n      <td>vegetal, nutty</td>\n      <td>3.50</td>\n    </tr>\n    <tr>\n      <th>8</th>\n      <td>797</td>\n      <td>A. Morin</td>\n      <td>France</td>\n      <td>2012</td>\n      <td>Peru</td>\n      <td>Peru</td>\n      <td>63.0</td>\n      <td>4.0</td>\n      <td>B,S,C,L</td>\n      <td>fruity, melon, roasty</td>\n      <td>3.75</td>\n    </tr>\n    <tr>\n      <th>9</th>\n      <td>1011</td>\n      <td>A. Morin</td>\n      <td>France</td>\n      <td>2013</td>\n      <td>Panama</td>\n      <td>Panama</td>\n      <td>70.0</td>\n      <td>4.0</td>\n      <td>B,S,C,L</td>\n      <td>brief fruit note, earthy, nutty</td>\n      <td>2.75</td>\n    </tr>\n  </tbody>\n</table>\n</div>"
     },
     "execution_count": 5,
     "metadata": {},
     "output_type": "execute_result"
    }
   ],
   "source": [
    "df.head(10)"
   ],
   "metadata": {
    "collapsed": false,
    "ExecuteTime": {
     "end_time": "2024-04-15T18:42:55.563443200Z",
     "start_time": "2024-04-15T18:42:55.545735300Z"
    }
   },
   "id": "3ae263940981272a",
   "execution_count": 5
  },
  {
   "cell_type": "code",
   "outputs": [
    {
     "name": "stdout",
     "output_type": "stream",
     "text": [
      "<class 'pandas.core.frame.DataFrame'>\n",
      "RangeIndex: 2530 entries, 0 to 2529\n",
      "Data columns (total 11 columns):\n",
      " #   Column            Non-Null Count  Dtype  \n",
      "---  ------            --------------  -----  \n",
      " 0   id                2530 non-null   int64  \n",
      " 1   manufacturer      2530 non-null   object \n",
      " 2   company_location  2530 non-null   object \n",
      " 3   year_reviewed     2530 non-null   int64  \n",
      " 4   bean_origin       2530 non-null   object \n",
      " 5   bar_name          2530 non-null   object \n",
      " 6   cocoa_percent     2530 non-null   float64\n",
      " 7   num_ingredients   2443 non-null   float64\n",
      " 8   ingredients       2443 non-null   object \n",
      " 9   review            2530 non-null   object \n",
      " 10  rating            2530 non-null   float64\n",
      "dtypes: float64(3), int64(2), object(6)\n",
      "memory usage: 217.6+ KB\n"
     ]
    }
   ],
   "source": [
    "df.info()"
   ],
   "metadata": {
    "collapsed": false,
    "ExecuteTime": {
     "end_time": "2024-04-15T18:43:24.715809100Z",
     "start_time": "2024-04-15T18:43:24.677363900Z"
    }
   },
   "id": "95cf19d7f634d462",
   "execution_count": 6
  },
  {
   "cell_type": "code",
   "outputs": [
    {
     "data": {
      "text/plain": "                id  year_reviewed  cocoa_percent  num_ingredients       rating\ncount  2530.000000    2530.000000    2530.000000      2443.000000  2530.000000\nmean   1429.800791    2014.374308      71.639723         3.041343     3.196344\nstd     757.648556       3.968267       5.616724         0.913728     0.445321\nmin       5.000000    2006.000000      42.000000         1.000000     1.000000\n25%     802.000000    2012.000000      70.000000         2.000000     3.000000\n50%    1454.000000    2015.000000      70.000000         3.000000     3.250000\n75%    2079.000000    2018.000000      74.000000         4.000000     3.500000\nmax    2712.000000    2021.000000     100.000000         6.000000     4.000000",
      "text/html": "<div>\n<style scoped>\n    .dataframe tbody tr th:only-of-type {\n        vertical-align: middle;\n    }\n\n    .dataframe tbody tr th {\n        vertical-align: top;\n    }\n\n    .dataframe thead th {\n        text-align: right;\n    }\n</style>\n<table border=\"1\" class=\"dataframe\">\n  <thead>\n    <tr style=\"text-align: right;\">\n      <th></th>\n      <th>id</th>\n      <th>year_reviewed</th>\n      <th>cocoa_percent</th>\n      <th>num_ingredients</th>\n      <th>rating</th>\n    </tr>\n  </thead>\n  <tbody>\n    <tr>\n      <th>count</th>\n      <td>2530.000000</td>\n      <td>2530.000000</td>\n      <td>2530.000000</td>\n      <td>2443.000000</td>\n      <td>2530.000000</td>\n    </tr>\n    <tr>\n      <th>mean</th>\n      <td>1429.800791</td>\n      <td>2014.374308</td>\n      <td>71.639723</td>\n      <td>3.041343</td>\n      <td>3.196344</td>\n    </tr>\n    <tr>\n      <th>std</th>\n      <td>757.648556</td>\n      <td>3.968267</td>\n      <td>5.616724</td>\n      <td>0.913728</td>\n      <td>0.445321</td>\n    </tr>\n    <tr>\n      <th>min</th>\n      <td>5.000000</td>\n      <td>2006.000000</td>\n      <td>42.000000</td>\n      <td>1.000000</td>\n      <td>1.000000</td>\n    </tr>\n    <tr>\n      <th>25%</th>\n      <td>802.000000</td>\n      <td>2012.000000</td>\n      <td>70.000000</td>\n      <td>2.000000</td>\n      <td>3.000000</td>\n    </tr>\n    <tr>\n      <th>50%</th>\n      <td>1454.000000</td>\n      <td>2015.000000</td>\n      <td>70.000000</td>\n      <td>3.000000</td>\n      <td>3.250000</td>\n    </tr>\n    <tr>\n      <th>75%</th>\n      <td>2079.000000</td>\n      <td>2018.000000</td>\n      <td>74.000000</td>\n      <td>4.000000</td>\n      <td>3.500000</td>\n    </tr>\n    <tr>\n      <th>max</th>\n      <td>2712.000000</td>\n      <td>2021.000000</td>\n      <td>100.000000</td>\n      <td>6.000000</td>\n      <td>4.000000</td>\n    </tr>\n  </tbody>\n</table>\n</div>"
     },
     "execution_count": 7,
     "metadata": {},
     "output_type": "execute_result"
    }
   ],
   "source": [
    "df.describe()"
   ],
   "metadata": {
    "collapsed": false,
    "ExecuteTime": {
     "end_time": "2024-04-15T18:44:03.244116300Z",
     "start_time": "2024-04-15T18:44:03.227647900Z"
    }
   },
   "id": "aa1e99006e3f96e8",
   "execution_count": 7
  },
  {
   "cell_type": "code",
   "outputs": [
    {
     "data": {
      "text/plain": "id                   0\nmanufacturer         0\ncompany_location     0\nyear_reviewed        0\nbean_origin          0\nbar_name             0\ncocoa_percent        0\nnum_ingredients     87\ningredients         87\nreview               0\nrating               0\ndtype: int64"
     },
     "execution_count": 8,
     "metadata": {},
     "output_type": "execute_result"
    }
   ],
   "source": [
    "df.isna().sum()"
   ],
   "metadata": {
    "collapsed": false,
    "ExecuteTime": {
     "end_time": "2024-04-15T18:44:13.470021500Z",
     "start_time": "2024-04-15T18:44:13.455220600Z"
    }
   },
   "id": "88a0160276b1b7a5",
   "execution_count": 8
  },
  {
   "cell_type": "code",
   "outputs": [
    {
     "name": "stdout",
     "output_type": "stream",
     "text": [
      "Унікальні значення для стовбця \"id\": [2454 2458 2542 2546  797 1011 1015 1019 1315 1319 1676 1680 1704 1876\n",
      " 2206 2648 1462 1470 2462 2470  705 2438 2442  370  316  502  508  636\n",
      " 1061 1173 1215 1992 1944 1125 1133 1129 1732 1728 2044  147  129  175\n",
      "  304  363  544  470  725  327  464  322 1964 1145 1494 1498   75  123\n",
      "  170  979 2088 2092 2434  572 1065 1259 1852 2586 1379 1375 1602 1534\n",
      " 1598 1904 1928 1724 1900 1908 1924 2020 2028 2024 2068 2254 2450 2330\n",
      " 2166 2162  300  355  486  600  531  745  729  947 1193 1181 2562 2566\n",
      "  141  331  647  661 1780 2056 2672  999  995 1474 2146 1454 2290 2294\n",
      "  983 1295 1554 1980  955 1880 1840 1868 2374 1948 1784 1788  586 1804\n",
      " 1800 1864 2190 1768 2246  773  757 1141 1482 1486 2084  233  256  414\n",
      "  423  431  558  565  478  963 2108 2114 2422 2574 1331 2590 1046  911\n",
      " 1752 1756 1740 1996   81   24   32   48  199  336  395  761  629  672\n",
      " 1042 1038 1418 1339 1912 2250 2554  341 1267 1271 2194 2096 1255 1355\n",
      " 1984 1518 1514 1149 1235 1231 1638 2052 1323 1299 1303 2314 2274 2266\n",
      " 1606 1716 2226 2230 1391 1395 1668 1692 1688 2238 2278 2076 1434 1430\n",
      " 1662 1816 1860  641  991  346  537  523 2510 1684 2610 2614  259  245\n",
      "  237  296  749  765  809 1185 1442 1808 2558  266  269 1263 2626 2630\n",
      "  845  841 1586 1582 1884 1888 2154 2394 2402 1105 1153 1101 1109 1407\n",
      " 1347 1371 1570 1574 1956 2354 2688 1247 1251  404 1426 2676  252 2202\n",
      " 2668 1696 2298 1772 1760 1764 1530  919 1121 2700 2134 1219 2080  682\n",
      " 1832 2594 2598  117  209  439 1522  377 2534 2514 2638 2310 2306  666\n",
      "  445  227 2474 2606  292  579 1630 1916 2684  196  220  451  817  813\n",
      "  959  821 1169  971  975 1283 1335 1736 2466 2502 2656 2526 2522 2622\n",
      "  785 1654 1666 1610 2064  805  915 1026 1085 1387 1446 2178 2386 2602\n",
      " 2550  654  987 1223 1920 2342 1550 1708  907 1093  180  263 2222  166\n",
      "  241  769  895 1034 1634 1952 1972 2016 2258 2270 2406  311   63   87\n",
      "  135  192  111  272  693  863 1672 2040 2696 2390  516  697  623  923\n",
      " 2100 2366 1506 1626 1343 1812 2358  709  206 2382 1137 1450 2118 2198\n",
      " 2350 1209 1205  903 2570 1275 2142 2664  105   56  494 1287 2482 2478\n",
      " 2486 2398 2150 1776 2072 2430 2712 2318 2322 2326 2122 1351 1542 1538\n",
      "  781  887  883 1940  688  642  931  899  927 1030 1081 1117 1383 2174\n",
      " 2708 2642 2644 2704 2000 2126 2130  753 1359 1367 1642 1646 2012 2282\n",
      " 1848 2032 2446  741 2692   15 1896 2060   99   93  276  387  552 1053\n",
      " 1197 1201 1327  701 1700 2378 2302 1748 1243 1239 1744 1458 1546 1712\n",
      " 2426 1466 1872 1113 1097 1307 1311  737  733 2008  943 1279    5 1976\n",
      " 2104 2218 2214 1069 1073 2498 2338 2334  837  248 1968 2286 1422 1363\n",
      "  597  576  891 1892 2138  230 1189  721  713 2186 2182 1438 1590 1594\n",
      "  833  853 2048 2262 1566 1562 1856  855  157 2538 1049 1502 2518 2506\n",
      "  284  288  607 1089  308  184 1007 1003  871  875 1844 1478 2158  849\n",
      " 1650 1836  777 1177 1291 2362 2170 2210 1490 2112  825 2346 1960 2370\n",
      " 2652 1618 1614 2680 1658 2490  867 1399 2418 1403 1526 1022  935 1558\n",
      " 1411 2494 2582  457 2036 1161 1165  859  224 1415 2234 1720 1510 2530\n",
      "  829  789 1820   40  162  280  202  717 2410 2414 1227 1988 1057 1796\n",
      " 2618  967  213  793 2004 2660  615  188 1622 1792 1157  676  951 1077\n",
      " 1828 2242 1932 1936  939 2634  801  153 1211 2578  593 1578 1824  879]\n",
      "Унікальні значення для стовбця \"manufacturer\": ['5150' 'A. Morin' 'Acalli' 'Adi aka Fijiana (Easy In Ltd)' 'Aelan'\n",
      " 'Aequare (Gianduja)' 'Ah Cacao' \"Akesson's (Pralus)\" 'Alain Ducasse'\n",
      " 'Alexandre' 'Altus aka Cao Artisan' 'Amano' 'Amatller (Simon Coll)'\n",
      " 'Amazing Cacao' 'Amazona' 'Ambrosia' 'Amedei' 'AMMA' 'Anahata' 'Animas'\n",
      " 'Ara' 'Arete' 'Argencove' 'Artisan du Chocolat'\n",
      " 'Artisan du Chocolat (Casa Luker)' 'Aruntam' 'Askinosie' 'Atypic' 'Auro'\n",
      " 'Avanaa' 'Bahen & Co.' 'Baiani' 'Bakau' 'Bankston' 'Bar Au Chocolat'\n",
      " \"Baravelli's\" 'Batch' 'Bean' 'Beau Cacao' 'Beehive' 'Belcolade'\n",
      " 'Bellflower' 'Belvie' 'Belyzium' 'Benns' 'Benoit Nihant' 'Bernachon'\n",
      " 'Beschle (Felchlin)' 'Bisou' 'Bitacora' 'Bittersweet Origins' 'Bixby'\n",
      " 'Black Mountain' 'Black River (A. Morin)' 'Black Sheep' 'Blanxart'\n",
      " 'Blue Bandana' 'Boho' 'Bonaterra' 'Bonnat' 'Bouga Cacao (Tulicorp)'\n",
      " 'Bowler Man' 'Brasstown' \"Brasstown aka It's Chocolate\" 'Brazen'\n",
      " 'Breeze Mill' 'Bright' 'Britarev' 'Bronx Grrl Chocolate' 'Bullion'\n",
      " 'Burnt Fork Bend' 'By Cacao' 'Cacai Cacao' 'Cacao 70' 'Cacao Arabuco'\n",
      " 'Cacao Atlanta' 'Cacao Barry' 'Cacao Betulia' 'Cacao de Origen'\n",
      " 'Cacao Gonzales' 'Cacao Hunters' 'Cacao Market' 'Cacao Prieto'\n",
      " 'Cacao Sampaka' 'Cacao Santa Fe (Art of Chocolate)' 'Cacao Store'\n",
      " 'Cacaodada' 'Cacaosuyo' 'Cacaoyere (Ecuatoriana)' 'Callebaut' 'C-Amaro'\n",
      " 'Cao' 'Caofiori' 'Caoni (Tulicorp)' 'Captain Pembleton' 'CAR Artisan'\n",
      " 'Caribeans' 'Carlotta Chocolat' 'Casa' 'Casa Lasevicius' 'Castronovo'\n",
      " 'Cello' 'Cemoi' 'Chaleur B' 'Chapon' 'Charm School'\n",
      " 'Chchukululu (Tulicorp)' 'Chequessett' 'Chloe Chocolat' 'Chocablog'\n",
      " 'Choco Del Sol' 'Choco Dong' 'Chococard (Lapos)' 'Chocolarder'\n",
      " \"Chocola'te\" 'Chocolate Alchemist-Philly' 'Chocolate Con Amor'\n",
      " 'Chocolate Conspiracy' 'Chocolate Makers' 'Chocolate Tree'\n",
      " 'Chocolates by Josh (Box Chocolate)' 'Chocolatoa' 'Chocolats Privilege'\n",
      " 'Chocolibrium' 'ChocoReko' 'Chocosol' 'Chocotenango' 'Chocovic'\n",
      " 'Chocovivo' 'Choklat' 'Chokola' 'Chokolat Elot (Girard)'\n",
      " 'Christophe Toury' 'Christopher Elbow' 'Christopher Morel (Felchlin)'\n",
      " 'Chuao Chocolatier' 'Chuao Chocolatier (Pralus)' 'Claudio Corallo'\n",
      " 'Cleveland Chocolate Company' 'Cloudforest' 'Coco' 'Cocoa Carib'\n",
      " 'Cocoa Forge' 'Compania de Chocolate (Salgado)' 'Condor' 'Confluence'\n",
      " 'Conjure' 'Coppeneur' \"Cote d' Or (Kraft)\" 'Cravve' 'Creo'\n",
      " 'Crow and Moss' 'Cultura' 'Cuna de Piedra' 'Daintree' 'Dalloway' 'Damson'\n",
      " 'Dancing Lion' 'Dandelion' 'Dandelion (aka Brower Ave)'\n",
      " 'Dandelion (Japan)' 'Danta' 'DAR' 'Darcis' 'Dark Forest' 'Davis'\n",
      " 'De Mendes' 'De Villiers' 'Dean and Deluca (Belcolade)'\n",
      " 'Debauve & Gallais (Michel Cluizel)' 'Definite' 'Desbarres' 'DeVries'\n",
      " 'Dick Taylor' 'Diogo Vaz' 'Doble & Bignall' 'Dole (Guittard)'\n",
      " 'Dolfin (Belcolade)' 'Domori' 'Dormouse' 'Double Spiral' \"Duffy's\"\n",
      " 'Dulcinea' 'Durand' 'Durci' 'East Van Roasters' 'Eau de Rose'\n",
      " 'Eclat (Felchlin)' 'Eclat (Fruition)' 'Edelmond' 'El Buen' 'El Ceibo'\n",
      " 'El Rey' 'Eldora' 'Emerald Estate' \"Emily's\" 'Encuentro' 'ENNA'\n",
      " 'Enric Rovira (Claudio Corallo)' 'Erithaj (A. Morin)' 'Escazu'\n",
      " \"Ethel's Artisan (Mars)\" 'Ethereal' 'Exquisito' 'Fearless (AMMA)'\n",
      " 'Feitoria Cacao' 'Felchlin' 'Finca' 'Finnia' 'Firetree' 'Five (5)Mile'\n",
      " 'FJAK' 'Forever Cacao' 'Forteza (Cortes)' 'Fossa' 'Foundry' 'Franceschi'\n",
      " 'Frederic Blondeel' 'French Broad' 'Fresco' 'Fresh Coast'\n",
      " 'Fresh Coast aka Just Good Choc.' 'Friis Holm' 'Friis Holm (Bonnat)'\n",
      " 'Fruition' 'Fu Wan' 'Garden Island' 'Georgia Ramon' 'Glennmade'\n",
      " 'Goodnow Farms' 'Gotham' 'Grand Place' 'Great Lakes'\n",
      " \"Green & Black's (ICAM)\" 'Green Bean to Bar' 'Green Door'\n",
      " 'Grenada Chocolate Co.' 'Guido Castagna' 'Guittard' 'Habitual' 'Hachez'\n",
      " 'Hacienda El Castillo' 'Haigh' 'Harper Macaw' 'Harris & James'\n",
      " 'Hazel Hill' 'Hecho' 'Heilemann' 'Heinde & Verre'\n",
      " 'Heirloom Cacao Preservation (Brasstown)'\n",
      " 'Heirloom Cacao Preservation (Fruition)'\n",
      " 'Heirloom Cacao Preservation (Guittard)'\n",
      " 'Heirloom Cacao Preservation (Manoa)'\n",
      " 'Heirloom Cacao Preservation (Millcreek)'\n",
      " 'Heirloom Cacao Preservation (Mindo)'\n",
      " 'Heirloom Cacao Preservation (Zokoko)' 'hello cocoa (now Markham & Fitz)'\n",
      " 'Hemisphere' 'hexx' 'Hogarth' 'Hoja Verde (Tulicorp)' 'Holy Cacao'\n",
      " 'Honest' 'Hotel Chocolat' 'Hotel Chocolat (Coppeneur)' 'Hummingbird'\n",
      " 'Idilio (Felchlin)' 'Indah' 'Indi' 'iQ Chocolate' 'Isidro'\n",
      " 'Islands Chocolate' 'Izard' 'Jacque Torres' 'Jean Marie Auboine'\n",
      " 'Johnny Iuzzini' 'Jordis' 'Kad Kokoa' 'Kah Kow' 'Kah Kow - USA' 'Kaitxo'\n",
      " 'Kakao' 'Kallari (Ecuatoriana)' 'Kaoka (Cemoi)' 'Kasama' 'Kerchner'\n",
      " \"Ki' Xocolatl\" 'Kin + Pod' 'Kiskadee' 'Krak' 'Kto' \"K'ul\" 'Kyya'\n",
      " 'L.A. Burdick (Felchlin)' 'La Cascade du Chocolat'\n",
      " 'La Chocolaterie Nanairo' 'La Chorena' 'La Feverie (Hasnaa)'\n",
      " 'La Maison du Chocolat (Valrhona)' 'La Oroquidea' 'La Pepa de Oro'\n",
      " 'La Rifa' 'Laia aka Chat-Noir' 'Lajedo do Ouro'\n",
      " 'Lake Champlain (Callebaut)' \"L'Amourette\" 'Land' 'Landmark (Amano)'\n",
      " 'Legast' 'Letterpress' 'Levy' 'Lilla' 'Lillie Belle' 'Lindt & Sprungli'\n",
      " 'Lirio' 'Loiza' 'Lonohana' 'Loon' 'Love Bar' 'Love Brown' 'Luisa Abram'\n",
      " \"Luisa's Vegan\" 'Luker' 'Lumineux' 'Machu Picchu Trading Co.'\n",
      " 'MaDe Atlantic City Chocolate Bar' 'Madecasse (Cinagra)' 'Madhu' 'Madre'\n",
      " 'Maglio' 'Majani' 'Malagasy (Chocolaterie Robert)' 'Malagos' 'Malai'\n",
      " 'Malie Kai (Guittard)' 'Malmo' 'Mana' 'Manifesto Cacao' 'Manoa'\n",
      " 'Manufaktura Czekolady' 'Map Chocolate' 'Marana' 'Maribea'\n",
      " \"Marigold's Finest\" 'Markham & Fitz' 'Marou' 'Mars' 'Marsatta'\n",
      " 'Martin Mayer' 'Mast Brothers' 'Matale' 'Maui Kuia' 'Maverick' 'Mayacama'\n",
      " 'McGuire' 'Meadowlands' 'Mellow' 'Menakao (aka Cinagra)' 'Mesocacao'\n",
      " 'Mestico' 'Metiisto' 'Metropolitan' 'Meybol' 'Michel Cluizel'\n",
      " 'Middlebury' 'Mike & Becky' 'Millcreek Cacao Roasters' 'Millesime'\n",
      " 'Milton' 'Mindo' 'Minimal' 'Mirzam' 'Misina' 'Mission' 'Mita' 'Moho'\n",
      " 'Moka Origins' 'Moku' 'Molucca' 'Momotombo' 'Monarque' 'Monsieur Truffe'\n",
      " 'Monsoon' 'Montecristi' 'MUCHO' 'Muchomas (Mesocacao)'\n",
      " 'Musee du Chocolat Theobroma' 'Mutari' 'Nahua' 'Naive' 'Nanea'\n",
      " 'Nathan Miller' 'Nearynogs' 'Neuhaus (Callebaut)' 'Nibble' 'Night Owl'\n",
      " 'Nikoa' 'Nina' 'Ninth (9th) & Larkin' 'Noble Bean aka Jerjobo'\n",
      " \"Noir d' Ebine\" 'Nova Monda' 'Nuance' 'Nugali' 'Oakland Chocolate Co.'\n",
      " 'Obolo' 'Ocelot' 'Ocho' 'Odyssey' 'Ohiyo' 'Oialla by Bojessen (Malmo)'\n",
      " 'Olive and Sinclair' 'Olivia' 'Omanhene' 'Omnom' 'Or Dubh' 'Orfeve'\n",
      " 'organicfair' 'Original Beans (Felchlin)'\n",
      " 'Original Hawaiin Chocolate Factory' 'Orquidea' 'Pacari' \"Palet D'Or\"\n",
      " 'Palette de Bine' 'Pangea' 'Park 75' 'Parliament' 'Parre Chocolat'\n",
      " 'Pascha' 'Patric' 'Paul Young' 'Peppalo' 'Perrenial' 'Petite Patrie'\n",
      " 'Pierre Marcolini' 'Piety and Desire' 'Pinellas' 'Pitch Dark'\n",
      " 'Pollinator' 'Pomm (aka Dead Dog)' 'Poppy and Peep' 'Potomac' 'Pralus'\n",
      " 'Primo Botanica' 'Public Chocolatory' 'Pump Street Bakery' 'Pura Delizia'\n",
      " 'Q Chocolate' 'Qantu' 'Quetzalli (Wolter)' 'Raaka' 'Rain Republic'\n",
      " 'Rancho San Jacinto' 'Ranger' 'Raoul Boulanger' 'Raphio' 'Raw Cocoa'\n",
      " 'Republica del Cacao (aka Confecta)' 'Ritual' 'River-Sea'\n",
      " 'Roasting Masters' 'Robert (aka Chocolaterie Robert)'\n",
      " 'Rococo (Grenada Chocolate Co.)' 'Rogue' 'Rozsavolgyi' 'Ruket' 'S.A.I.D.'\n",
      " 'Sacred' 'Salgado' 'San Jose' 'Santander (Compania Nacional)' 'Santome'\n",
      " 'Scharffen Berger' 'Seaforth' 'Seahorse' 'Shane Chocolate Works'\n",
      " 'Shark Mountain' \"Shark's\" 'Shattell' 'Sibu' 'Sibu Sura' 'Silvio Bessone'\n",
      " 'Sirene' 'Sjolinds' 'Smooth Chocolator, The' 'Snake & Butterfly' 'Soeka'\n",
      " 'Soklet' 'Sol Cacao' 'Solkiki' 'Solomons Gold' 'Solstice' 'Soma'\n",
      " 'Somerville' 'Soul' 'Spagnvola' 'Spencer' 'Spinnaker'\n",
      " 'Sprungli (Felchlin)' 'SRSLY' 'Starchild' 'Stella (aka Bernrain)'\n",
      " 'Stone Grindz' 'StRita Supreme' 'Sublime Origins' 'Summerbird'\n",
      " 'Suruca Chocolate' 'Svenska Kakaobolaget' 'sweet beans' 'Sweet Escalier'\n",
      " 'Sweetness' 'Szanto Tibor' 'Tabal' 'Tablette (aka Vanillabeans)' 'Tala'\n",
      " 'Tan Ban Skrati' 'Taste Artisan' 'Taste Artisan aka Coleman and Davis'\n",
      " 'Taucherli' 'Taylor Made' 'Taza' 'TCHO' 'Tejas' 'Terroir' 'The Barn'\n",
      " 'Theo' 'Theobroma' 'Thistle & Rose aka Aggie USU' 'Tibito'\n",
      " 'Timo A. Meyer' 'Tiny House' \"To'ak\" \"To'ak (Ecuatoriana)\"\n",
      " 'Tobago Estate (Pralus)' 'Tocoti' 'Tosier' 'Tree to Bar' 'Treehouse'\n",
      " 'Treehouse aka Indaphoria' 'Triangle Roasters' 'Tribar' 'Tribe'\n",
      " 'Tsara (Cinagra)' 'twenty-four blackbirds' 'Two Ravens'\n",
      " 'Un Dimanche A Paris' 'Uncouth' 'Undone' 'Upchurch' 'Urzi' 'Utopick'\n",
      " 'Vaka' 'Valrhona' 'Vanleer (Barry Callebaut)'\n",
      " 'Vao Vao (Chocolaterie Robert)' 'Vicuna' 'Videri' 'Vietcacao (A. Morin)'\n",
      " 'Vintage Plantations' 'Vintage Plantations (Tulicorp)' 'Violet Sky'\n",
      " 'Vivra' 'Wellington Chocolate Factory' 'White Label aka Mutari'\n",
      " 'Whittakers' \"Wilkie's Organic\" \"Willie's Cacao\" 'Wm' 'Woodblock'\n",
      " 'Xocolat' 'Xocolatisimo' 'Xocolatl' 'Xocolla' 'Zac Squared' 'Zacharias'\n",
      " \"Zak's\" 'Zart Pralinen' 'Zokoko' 'Zoto (Chocolatoa)' 'Zotter']\n",
      "Унікальні значення для стовбця \"company_location\": ['U.S.A.' 'France' 'Fiji' 'Vanuatu' 'Ecuador' 'Mexico' 'U.K.'\n",
      " 'Netherlands' 'Spain' 'Russia' 'Peru' 'Canada' 'Italy' 'Brazil'\n",
      " 'Nicaragua' 'Australia' 'Philippines' 'Wales' 'Belgium' 'Vietnam'\n",
      " 'Germany' 'Singapore' 'Switzerland' 'Venezuela' 'Malaysia' 'South Korea'\n",
      " 'Taiwan' 'Puerto Rico' 'Colombia' 'Japan' 'New Zealand' 'Costa Rica'\n",
      " 'Hungary' 'Amsterdam' 'Scotland' 'Martinique' 'Sao Tome' 'St. Lucia'\n",
      " 'Argentina' 'Guatemala' 'South Africa' 'Dominican Republic'\n",
      " 'Sao Tome & Principe' 'Bolivia' 'Portugal' 'Norway' 'Denmark' 'Grenada'\n",
      " 'Israel' 'India' 'St.Vincent-Grenadines' 'Czech Republic' 'Thailand'\n",
      " 'Finland' 'Madagascar' 'Sweden' 'Poland' 'Austria' 'Honduras' 'U.A.E.'\n",
      " 'Lithuania' 'Ireland' 'Chile' 'Ghana' 'Iceland' 'Suriname' 'El Salvador']\n",
      "Унікальні значення для стовбця \"year_reviewed\": [2019 2021 2012 2013 2014 2015 2016 2018 2020 2011 2009 2010 2017 2007\n",
      " 2008 2006]\n",
      "Унікальні значення для стовбця \"bean_origin\": ['Tanzania' 'Dominican Republic' 'Madagascar' 'Fiji' 'Venezuela' 'Uganda'\n",
      " 'India' 'Bolivia' 'Peru' 'Panama' 'Colombia' 'Burma' 'Brazil'\n",
      " 'Papua New Guinea' 'Ecuador' 'Cuba' 'Togo' 'Sao Tome' 'Mexico' 'Vanuatu'\n",
      " 'Indonesia' 'Trinidad' 'Vietnam' 'Nicaragua' 'Ghana' 'Belize' 'Blend'\n",
      " 'Jamaica' 'Grenada' 'Guatemala' 'Honduras' 'Costa Rica' 'Haiti' 'Congo'\n",
      " 'Philippines' 'Solomon Islands' 'Malaysia' 'Sri Lanka' 'Ivory Coast'\n",
      " 'Gabon' 'Taiwan' 'Puerto Rico' 'Martinique' 'St. Lucia' 'Australia'\n",
      " 'Liberia' 'Sierra Leone' 'U.S.A.' 'Nigeria' 'St.Vincent-Grenadines'\n",
      " 'Thailand' 'Tobago' 'Sao Tome & Principe' 'Sumatra' 'El Salvador'\n",
      " 'Cameroon' 'Samoa' 'China' 'Principe' 'Sulawesi' 'Suriname' 'DR Congo']\n",
      "Унікальні значення для стовбця \"bar_name\": ['Kokoa Kamili, batch 1' 'Zorzal, batch 1' 'Bejofo Estate, batch 1' ...\n",
      " 'APROCAFA, Acandi' 'Dry Aged, 30 yr Anniversary bar'\n",
      " 'Mountains of the Moon']\n",
      "Унікальні значення для стовбця \"cocoa_percent\": [ 76.   68.   72.   80.   70.   63.   74.   60.   88.   55.   75.   65.\n",
      "  85.   73.   64.   66.   50.  100.   77.   82.   90.   71.   83.   78.\n",
      "  86.   62.   69.   91.   67.   42.   61.   73.5  79.   58.   71.5  60.5\n",
      "  81.   57.   72.5  56.   46.   89.   99.   84.   53.   87. ]\n",
      "Унікальні значення для стовбця \"num_ingredients\": [ 3.  4.  2.  5.  6. nan  1.]\n",
      "Унікальні значення для стовбця \"ingredients\": ['B,S,C' 'B,S,C,L' 'B,S' 'B,S,C,V' 'B,S,C,V,L' 'B,S,C,V,L,Sa' 'B,S,C,V,Sa'\n",
      " nan 'B,S,V,L' 'B,S*' 'B' 'B,S*,C' 'B,S,L' 'B,S,V' 'B,S*,C,L' 'B,S*,C,Sa'\n",
      " 'B,S*,Sa' 'B,S,C,Sa' 'B,S*,V,L' 'B,C' 'B,S*,C,V' 'B,S,C,L,Sa']\n",
      "Унікальні значення для стовбця \"review\": ['rich cocoa, fatty, bready' 'cocoa, vegetal, savory'\n",
      " 'cocoa, blackberry, full body' ... 'fatty, earthy, cocoa'\n",
      " 'fatty, mild nuts, mild fruit' 'muted, roasty, accessible']\n",
      "Унікальні значення для стовбця \"rating\": [3.25 3.5  3.75 3.   2.75 4.   2.5  1.75 2.25 1.5  2.   1.  ]\n"
     ]
    }
   ],
   "source": [
    "for column in df.columns:\n",
    "    unique_values = df[column].unique()\n",
    "    print(f'Унікальні значення для стовбця \"{column}\": {unique_values}')"
   ],
   "metadata": {
    "collapsed": false,
    "ExecuteTime": {
     "end_time": "2024-04-15T18:44:58.887956200Z",
     "start_time": "2024-04-15T18:44:58.878235400Z"
    }
   },
   "id": "1d2bc9b1347f79f2",
   "execution_count": 10
  },
  {
   "cell_type": "code",
   "outputs": [],
   "source": [],
   "metadata": {
    "collapsed": false
   },
   "id": "bafe5af119d90ad6"
  }
 ],
 "metadata": {
  "kernelspec": {
   "display_name": "Python 3",
   "language": "python",
   "name": "python3"
  },
  "language_info": {
   "codemirror_mode": {
    "name": "ipython",
    "version": 2
   },
   "file_extension": ".py",
   "mimetype": "text/x-python",
   "name": "python",
   "nbconvert_exporter": "python",
   "pygments_lexer": "ipython2",
   "version": "2.7.6"
  }
 },
 "nbformat": 4,
 "nbformat_minor": 5
}
