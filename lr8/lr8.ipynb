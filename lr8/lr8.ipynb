{
 "cells": [
  {
   "cell_type": "code",
   "execution_count": 63,
   "id": "initial_id",
   "metadata": {
    "collapsed": true,
    "ExecuteTime": {
     "end_time": "2024-05-14T14:58:34.576029300Z",
     "start_time": "2024-05-14T14:58:34.430498200Z"
    }
   },
   "outputs": [],
   "source": [
    "import numpy as np\n",
    "import pandas as pd\n",
    "import matplotlib.pyplot as plt\n",
    "import seaborn as sns\n",
    "\n",
    "\n",
    "import re\n",
    "import nltk\n",
    "from nltk.corpus import stopwords\n",
    "from nltk.stem import WordNetLemmatizer\n",
    "from sklearn.model_selection import train_test_split\n",
    "\n",
    "from sklearn.feature_extraction.text import CountVectorizer\n",
    "from sklearn.naive_bayes import MultinomialNB\n",
    "from sklearn.metrics import classification_report\n",
    "from sklearn.feature_extraction.text import TfidfVectorizer\n",
    "from sklearn.linear_model import LogisticRegression\n",
    "from sklearn.model_selection import GridSearchCV\n",
    "from sklearn.pipeline import Pipeline\n",
    "from sklearn.metrics import accuracy_score, precision_score, recall_score, f1_score\n"
   ]
  },
  {
   "cell_type": "code",
   "outputs": [],
   "source": [
    "\n",
    "df = pd.read_csv('dataset.csv')"
   ],
   "metadata": {
    "collapsed": false,
    "ExecuteTime": {
     "end_time": "2024-05-14T14:58:34.706038900Z",
     "start_time": "2024-05-14T14:58:34.468093600Z"
    }
   },
   "id": "fcf39cdd53a6246d",
   "execution_count": 64
  },
  {
   "cell_type": "code",
   "outputs": [
    {
     "data": {
      "text/plain": "                                                text  humor\n0  Joe biden rules out 2020 bid: 'guys, i'm not r...  False\n1  Watch: darvish gave hitter whiplash with slow ...  False\n2  What do you call a turtle without its shell? d...   True\n3      5 reasons the 2016 election feels so personal  False\n4  Pasco police shot mexican migrant from behind,...  False",
      "text/html": "<div>\n<style scoped>\n    .dataframe tbody tr th:only-of-type {\n        vertical-align: middle;\n    }\n\n    .dataframe tbody tr th {\n        vertical-align: top;\n    }\n\n    .dataframe thead th {\n        text-align: right;\n    }\n</style>\n<table border=\"1\" class=\"dataframe\">\n  <thead>\n    <tr style=\"text-align: right;\">\n      <th></th>\n      <th>text</th>\n      <th>humor</th>\n    </tr>\n  </thead>\n  <tbody>\n    <tr>\n      <th>0</th>\n      <td>Joe biden rules out 2020 bid: 'guys, i'm not r...</td>\n      <td>False</td>\n    </tr>\n    <tr>\n      <th>1</th>\n      <td>Watch: darvish gave hitter whiplash with slow ...</td>\n      <td>False</td>\n    </tr>\n    <tr>\n      <th>2</th>\n      <td>What do you call a turtle without its shell? d...</td>\n      <td>True</td>\n    </tr>\n    <tr>\n      <th>3</th>\n      <td>5 reasons the 2016 election feels so personal</td>\n      <td>False</td>\n    </tr>\n    <tr>\n      <th>4</th>\n      <td>Pasco police shot mexican migrant from behind,...</td>\n      <td>False</td>\n    </tr>\n  </tbody>\n</table>\n</div>"
     },
     "execution_count": 65,
     "metadata": {},
     "output_type": "execute_result"
    }
   ],
   "source": [
    "df.head()"
   ],
   "metadata": {
    "collapsed": false,
    "ExecuteTime": {
     "end_time": "2024-05-14T14:58:34.724117300Z",
     "start_time": "2024-05-14T14:58:34.707260200Z"
    }
   },
   "id": "3808059e9b27ecb7",
   "execution_count": 65
  },
  {
   "cell_type": "code",
   "outputs": [
    {
     "data": {
      "text/plain": "text     0\nhumor    0\ndtype: int64"
     },
     "execution_count": 66,
     "metadata": {},
     "output_type": "execute_result"
    }
   ],
   "source": [
    "df.isna().sum()"
   ],
   "metadata": {
    "collapsed": false,
    "ExecuteTime": {
     "end_time": "2024-05-14T14:58:34.757132900Z",
     "start_time": "2024-05-14T14:58:34.712670100Z"
    }
   },
   "id": "7281adad743fa7e5",
   "execution_count": 66
  },
  {
   "cell_type": "code",
   "outputs": [
    {
     "data": {
      "text/plain": "humor\nFalse    100000\nTrue     100000\nName: count, dtype: int64"
     },
     "execution_count": 67,
     "metadata": {},
     "output_type": "execute_result"
    }
   ],
   "source": [
    "df['humor'].value_counts()"
   ],
   "metadata": {
    "collapsed": false,
    "ExecuteTime": {
     "end_time": "2024-05-14T14:58:34.778930600Z",
     "start_time": "2024-05-14T14:58:34.731418900Z"
    }
   },
   "id": "354de3f81cb8f64e",
   "execution_count": 67
  },
  {
   "cell_type": "code",
   "outputs": [],
   "source": [
    "def clean_text(text):\n",
    "    text = re.sub(r'<.*?>', '', text)\n",
    "    text = re.sub(r'[^a-zA-Z\\s]', '', text) \n",
    "    text = text.lower()  \n",
    "    text = text.strip()  # Видалення пробілів на початку та в кінці\n",
    "    return text\n",
    "\n",
    "df['text'] = df['text'].apply(clean_text)"
   ],
   "metadata": {
    "collapsed": false,
    "ExecuteTime": {
     "end_time": "2024-05-14T14:58:35.185600700Z",
     "start_time": "2024-05-14T14:58:34.738639300Z"
    }
   },
   "id": "6fc39c0eb3cb1d65",
   "execution_count": 68
  },
  {
   "cell_type": "code",
   "outputs": [
    {
     "data": {
      "text/plain": "0              joe biden rules out  bid guys im not running\n1         watch darvish gave hitter whiplash with slow p...\n2          what do you call a turtle without its shell dead\n3                   reasons the  election feels so personal\n4         pasco police shot mexican migrant from behind ...\n                                ...                        \n199995    conor maynard seamlessly fits oldschool rb hit...\n199996    how to you make holy water you boil the hell o...\n199997    how many optometrists does it take to screw in...\n199998    mcdonalds will officially kick off allday brea...\n199999    an irish man walks on the street and ignores a...\nName: text, Length: 200000, dtype: object"
     },
     "execution_count": 69,
     "metadata": {},
     "output_type": "execute_result"
    }
   ],
   "source": [
    "df['text']"
   ],
   "metadata": {
    "collapsed": false,
    "ExecuteTime": {
     "end_time": "2024-05-14T14:58:35.200756900Z",
     "start_time": "2024-05-14T14:58:35.186603500Z"
    }
   },
   "id": "aa4c340160981ac9",
   "execution_count": 69
  },
  {
   "cell_type": "code",
   "outputs": [
    {
     "name": "stderr",
     "output_type": "stream",
     "text": [
      "[nltk_data] Downloading package stopwords to\n",
      "[nltk_data]     C:\\Users\\Oleg_PC\\AppData\\Roaming\\nltk_data...\n",
      "[nltk_data]   Package stopwords is already up-to-date!\n"
     ]
    }
   ],
   "source": [
    "nltk.download('stopwords')\n",
    "stop_words = set(stopwords.words('english'))\n",
    "\n",
    "def remove_stopwords(text):\n",
    "    words = text.split()\n",
    "    filtered_words = [word for word in words if word not in stop_words]\n",
    "    return ' '.join(filtered_words)\n",
    "\n",
    "df['text'] = df['text'].apply(remove_stopwords)"
   ],
   "metadata": {
    "collapsed": false,
    "ExecuteTime": {
     "end_time": "2024-05-14T14:58:35.523705400Z",
     "start_time": "2024-05-14T14:58:35.193986100Z"
    }
   },
   "id": "e03f5b5b97e32b91",
   "execution_count": 70
  },
  {
   "cell_type": "code",
   "outputs": [
    {
     "data": {
      "text/plain": "0                       joe biden rules bid guys im running\n1             watch darvish gave hitter whiplash slow pitch\n2                            call turtle without shell dead\n3                           reasons election feels personal\n4         pasco police shot mexican migrant behind new a...\n                                ...                        \n199995    conor maynard seamlessly fits oldschool rb hit...\n199996                            make holy water boil hell\n199997    many optometrists take screw lightbulb one two...\n199998    mcdonalds officially kick allday breakfast oct...\n199999    irish man walks street ignores bar muahahaha l...\nName: text, Length: 200000, dtype: object"
     },
     "execution_count": 71,
     "metadata": {},
     "output_type": "execute_result"
    }
   ],
   "source": [
    "df['text']"
   ],
   "metadata": {
    "collapsed": false,
    "ExecuteTime": {
     "end_time": "2024-05-14T14:58:35.525210600Z",
     "start_time": "2024-05-14T14:58:35.518899200Z"
    }
   },
   "id": "12ff7db8669f07",
   "execution_count": 71
  },
  {
   "cell_type": "code",
   "outputs": [
    {
     "name": "stderr",
     "output_type": "stream",
     "text": [
      "[nltk_data] Downloading package wordnet to\n",
      "[nltk_data]     C:\\Users\\Oleg_PC\\AppData\\Roaming\\nltk_data...\n",
      "[nltk_data]   Package wordnet is already up-to-date!\n"
     ]
    }
   ],
   "source": [
    "nltk.download('wordnet')\n",
    "lemmatizer = WordNetLemmatizer()\n",
    "\n",
    "def lemmatize_text(text):\n",
    "    words = text.split()\n",
    "    lemmatized_words = [lemmatizer.lemmatize(word) for word in words]\n",
    "    return ' '.join(lemmatized_words)\n",
    "\n",
    "df['text'] = df['text'].apply(lemmatize_text)"
   ],
   "metadata": {
    "collapsed": false,
    "ExecuteTime": {
     "end_time": "2024-05-14T14:58:39.662636800Z",
     "start_time": "2024-05-14T14:58:35.523705400Z"
    }
   },
   "id": "78af1cb54e362e24",
   "execution_count": 72
  },
  {
   "cell_type": "code",
   "outputs": [
    {
     "data": {
      "text/plain": "0                         joe biden rule bid guy im running\n1             watch darvish gave hitter whiplash slow pitch\n2                            call turtle without shell dead\n3                             reason election feel personal\n4         pasco police shot mexican migrant behind new a...\n                                ...                        \n199995    conor maynard seamlessly fit oldschool rb hit ...\n199996                            make holy water boil hell\n199997    many optometrist take screw lightbulb one two ...\n199998    mcdonalds officially kick allday breakfast oct...\n199999    irish man walk street ignores bar muahahaha li...\nName: text, Length: 200000, dtype: object"
     },
     "execution_count": 73,
     "metadata": {},
     "output_type": "execute_result"
    }
   ],
   "source": [
    "df['text']"
   ],
   "metadata": {
    "collapsed": false,
    "ExecuteTime": {
     "end_time": "2024-05-14T14:58:39.677735200Z",
     "start_time": "2024-05-14T14:58:39.663642400Z"
    }
   },
   "id": "a06d2490491f8011",
   "execution_count": 73
  },
  {
   "cell_type": "code",
   "outputs": [],
   "source": [
    "X = df['text']\n",
    "y = df['humor']\n",
    "\n",
    "\n",
    "X_train,X_test,y_train,y_test = train_test_split(X,y,test_size=0.5,random_state=42)"
   ],
   "metadata": {
    "collapsed": false,
    "ExecuteTime": {
     "end_time": "2024-05-14T14:58:39.711901100Z",
     "start_time": "2024-05-14T14:58:39.670540300Z"
    }
   },
   "id": "b741d3c6732dceb5",
   "execution_count": 74
  },
  {
   "cell_type": "markdown",
   "source": [
    "# CountVectorizer"
   ],
   "metadata": {
    "collapsed": false
   },
   "id": "32c7d266365156b2"
  },
  {
   "cell_type": "code",
   "outputs": [],
   "source": [
    "# Кодування тексту методом \"мішка слів\"\n",
    "vectorizer = CountVectorizer()\n",
    "X_train_bow = vectorizer.fit_transform(X_train)\n",
    "X_test_bow = vectorizer.transform(X_test)\n",
    "\n",
    "# Навчання класифікатора\n",
    "nb_classifier = MultinomialNB()\n",
    "nb_classifier.fit(X_train_bow, y_train)\n",
    "\n",
    "# Прогнозування на тестовій вибірці\n",
    "y_pred_bow_st = nb_classifier.predict(X_test_bow)"
   ],
   "metadata": {
    "collapsed": false,
    "ExecuteTime": {
     "end_time": "2024-05-14T14:58:40.982767400Z",
     "start_time": "2024-05-14T14:58:39.693882Z"
    }
   },
   "id": "25690ebc8cbaf86d",
   "execution_count": 75
  },
  {
   "cell_type": "code",
   "outputs": [
    {
     "name": "stdout",
     "output_type": "stream",
     "text": [
      "Accuracy: 0.89831\n",
      "Precision: 0.8879811713446538\n",
      "Recall: 0.9119092325516359\n",
      "F1 Score: 0.8997861500103476\n",
      "\n",
      "\n",
      "Classification Report:\n",
      "              precision    recall  f1-score   support\n",
      "\n",
      "       False       0.91      0.88      0.90     49938\n",
      "        True       0.89      0.91      0.90     50062\n",
      "\n",
      "    accuracy                           0.90    100000\n",
      "   macro avg       0.90      0.90      0.90    100000\n",
      "weighted avg       0.90      0.90      0.90    100000\n"
     ]
    }
   ],
   "source": [
    "def print_metrics_log_for_y_pred(y_test, y_pred):  \n",
    "    print(f\"Accuracy: {accuracy_score(y_test, y_pred)}\")\n",
    "    print(f\"Precision: {precision_score(y_test, y_pred)}\")\n",
    "    print(f\"Recall: {recall_score(y_test, y_pred)}\")\n",
    "    print(f\"F1 Score: {f1_score(y_test, y_pred)}\")\n",
    "    print(\"\\n\\nClassification Report:\")\n",
    "    print(classification_report(y_test, y_pred))\n",
    "    \n",
    "print_metrics_log_for_y_pred(y_test,y_pred_bow_st)"
   ],
   "metadata": {
    "collapsed": false,
    "ExecuteTime": {
     "end_time": "2024-05-14T14:58:41.183327200Z",
     "start_time": "2024-05-14T14:58:40.983773500Z"
    }
   },
   "id": "15f5f316875939c3",
   "execution_count": 76
  },
  {
   "cell_type": "code",
   "outputs": [],
   "source": [],
   "metadata": {
    "collapsed": false,
    "ExecuteTime": {
     "end_time": "2024-05-14T14:58:41.183327200Z",
     "start_time": "2024-05-14T14:58:41.173600500Z"
    }
   },
   "id": "e14675cf6bf501e4",
   "execution_count": 76
  },
  {
   "cell_type": "markdown",
   "source": [
    "# TF-IDF"
   ],
   "metadata": {
    "collapsed": false
   },
   "id": "7520a6e52c5c663a"
  },
  {
   "cell_type": "code",
   "outputs": [],
   "source": [
    "# Кодування тексту методом TF-IDF\n",
    "tfidf_vectorizer = TfidfVectorizer()\n",
    "X_train_tfidf = tfidf_vectorizer.fit_transform(X_train)\n",
    "X_test_tfidf = tfidf_vectorizer.transform(X_test)\n",
    "\n",
    "# Навчання класифікатора\n",
    "logreg_classifier = LogisticRegression()\n",
    "logreg_classifier.fit(X_train_tfidf, y_train)\n",
    "\n",
    "# Прогнозування на тестовій вибірці\n",
    "y_pred_tfidf_st = logreg_classifier.predict(X_test_tfidf)\n"
   ],
   "metadata": {
    "collapsed": false,
    "ExecuteTime": {
     "end_time": "2024-05-14T14:58:42.893765700Z",
     "start_time": "2024-05-14T14:58:41.177002200Z"
    }
   },
   "id": "d4bb588c557415a7",
   "execution_count": 77
  },
  {
   "cell_type": "code",
   "outputs": [
    {
     "name": "stdout",
     "output_type": "stream",
     "text": [
      "Accuracy: 0.89748\n",
      "Precision: 0.9001005025125628\n",
      "Recall: 0.8944908313691023\n",
      "F1 Score: 0.8972868993708172\n",
      "\n",
      "\n",
      "Classification Report:\n",
      "              precision    recall  f1-score   support\n",
      "\n",
      "       False       0.89      0.90      0.90     49938\n",
      "        True       0.90      0.89      0.90     50062\n",
      "\n",
      "    accuracy                           0.90    100000\n",
      "   macro avg       0.90      0.90      0.90    100000\n",
      "weighted avg       0.90      0.90      0.90    100000\n"
     ]
    }
   ],
   "source": [
    "print_metrics_log_for_y_pred(y_test,y_pred_tfidf_st)"
   ],
   "metadata": {
    "collapsed": false,
    "ExecuteTime": {
     "end_time": "2024-05-14T14:58:43.090467800Z",
     "start_time": "2024-05-14T14:58:42.893765700Z"
    }
   },
   "id": "24ed073518b5b7e5",
   "execution_count": 78
  },
  {
   "cell_type": "markdown",
   "source": [
    "Для кожного типу екодування тексту навчити векторизатор на навчальній вибірці, перетворити навчальні та тестові тексти, навчити моделі з тюнінгом гіперпараметрів;"
   ],
   "metadata": {
    "collapsed": false
   },
   "id": "d547e10cdcf28ba8"
  },
  {
   "cell_type": "markdown",
   "source": [
    "# CountVectorizer 2"
   ],
   "metadata": {
    "collapsed": false
   },
   "id": "e6c83b29ba11f8de"
  },
  {
   "cell_type": "code",
   "outputs": [
    {
     "name": "stdout",
     "output_type": "stream",
     "text": [
      "Fitting 5 folds for each of 24 candidates, totalling 120 fits\n"
     ]
    }
   ],
   "source": [
    "\n",
    "# Пайплайн для векторизатора і класифікатора\n",
    "pipeline_bow = Pipeline([\n",
    "    ('vect', CountVectorizer()),\n",
    "    ('clf', MultinomialNB())\n",
    "])\n",
    "\n",
    "# Параметри для тюнінгу\n",
    "parameters_bow = {\n",
    "    'vect__ngram_range': [(1, 1), (1, 2)],\n",
    "    'vect__max_df': [0.75, 1.0],\n",
    "    'vect__min_df': [1, 2],\n",
    "    'clf__alpha': [0.1, 1.0, 10.0]\n",
    "}\n",
    "\n",
    "grid_search_bow = GridSearchCV(pipeline_bow, parameters_bow, cv=5, n_jobs=-1, verbose=1)\n",
    "grid_search_bow.fit(X_train, y_train)\n",
    "\n",
    "print(\"Best parameters for Bag of Words:\")\n",
    "print(grid_search_bow.best_params_)\n"
   ],
   "metadata": {
    "collapsed": false,
    "is_executing": true,
    "ExecuteTime": {
     "start_time": "2024-05-14T14:58:43.082015500Z"
    }
   },
   "id": "5efb4c0d8fb3eb53",
   "execution_count": null
  },
  {
   "cell_type": "code",
   "outputs": [],
   "source": [
    "y_pred_bow = grid_search_bow.predict(X_test)\n",
    "\n",
    "print_metrics_log_for_y_pred(y_test, y_pred_bow)"
   ],
   "metadata": {
    "collapsed": false,
    "is_executing": true
   },
   "id": "b0da74789a119cbf"
  },
  {
   "cell_type": "markdown",
   "source": [
    "#  TF-ID з тюнінгом гіперпараметрів"
   ],
   "metadata": {
    "collapsed": false
   },
   "id": "85ce7e4233d1786d"
  },
  {
   "cell_type": "code",
   "outputs": [],
   "source": [
    "pipeline_tfidf = Pipeline([\n",
    "    ('vect', TfidfVectorizer()),\n",
    "    ('clf', LogisticRegression())\n",
    "])\n",
    "\n",
    "parameters_tfidf = {\n",
    "    'vect__ngram_range': [(1, 1), (1, 2)],\n",
    "    'vect__max_df': [0.75, 1.0],\n",
    "    'vect__min_df': [1, 2],\n",
    "    'clf__C': [0.1, 1.0, 10.0]\n",
    "}\n",
    "\n",
    "grid_search_tfidf = GridSearchCV(pipeline_tfidf, parameters_tfidf, cv=5, n_jobs=-1, verbose=1)\n",
    "grid_search_tfidf.fit(X_train, y_train)\n",
    "\n",
    "print(\"Best parameters for TF-IDF:\")\n",
    "print(grid_search_tfidf.best_params_)"
   ],
   "metadata": {
    "collapsed": false,
    "is_executing": true
   },
   "id": "dc910beea4b441f0",
   "execution_count": null
  },
  {
   "cell_type": "code",
   "outputs": [],
   "source": [
    "y_pred_tfidf = grid_search_tfidf.predict(X_test)\n",
    "\n",
    "print_metrics_log_for_y_pred(y_test, y_pred_tfidf)"
   ],
   "metadata": {
    "collapsed": false,
    "is_executing": true
   },
   "id": "8b339b2a4cbe0381",
   "execution_count": null
  },
  {
   "cell_type": "code",
   "outputs": [],
   "source": [
    "# Обчислення метрик для моделі з \"мішком слів\"\n",
    "accuracy_bow = accuracy_score(y_test, y_pred_bow)\n",
    "precision_bow = precision_score(y_test, y_pred_bow)\n",
    "recall_bow = recall_score(y_test, y_pred_bow)\n",
    "f1_bow = f1_score(y_test, y_pred_bow)\n",
    "\n",
    "# Обчислення метрик для моделі з TF-IDF\n",
    "accuracy_tfidf = accuracy_score(y_test, y_pred_tfidf)\n",
    "precision_tfidf = precision_score(y_test, y_pred_tfidf)\n",
    "recall_tfidf = recall_score(y_test, y_pred_tfidf)\n",
    "f1_tfidf = f1_score(y_test, y_pred_tfidf)\n",
    "\n",
    "# Створення порівняльної таблиці\n",
    "comparison_table = pd.DataFrame({\n",
    "    'Metric': ['Accuracy', 'Precision', 'Recall', 'F1-score'],\n",
    "    'Bag of Words': [accuracy_bow, precision_bow, recall_bow, f1_bow],\n",
    "    'TF-IDF': [accuracy_tfidf, precision_tfidf, recall_tfidf, f1_tfidf]\n",
    "})\n",
    "\n",
    "print(comparison_table)"
   ],
   "metadata": {
    "collapsed": false,
    "is_executing": true
   },
   "id": "a96eaf300cfc21c5",
   "execution_count": null
  },
  {
   "cell_type": "code",
   "outputs": [],
   "source": [],
   "metadata": {
    "collapsed": false,
    "is_executing": true
   },
   "id": "ac210352f5813724",
   "execution_count": null
  }
 ],
 "metadata": {
  "kernelspec": {
   "display_name": "Python 3",
   "language": "python",
   "name": "python3"
  },
  "language_info": {
   "codemirror_mode": {
    "name": "ipython",
    "version": 2
   },
   "file_extension": ".py",
   "mimetype": "text/x-python",
   "name": "python",
   "nbconvert_exporter": "python",
   "pygments_lexer": "ipython2",
   "version": "2.7.6"
  }
 },
 "nbformat": 4,
 "nbformat_minor": 5
}
