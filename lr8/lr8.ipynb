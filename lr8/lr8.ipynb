{
 "cells": [
  {
   "cell_type": "code",
   "execution_count": 106,
   "id": "initial_id",
   "metadata": {
    "collapsed": true,
    "ExecuteTime": {
     "end_time": "2024-05-14T15:14:42.136065Z",
     "start_time": "2024-05-14T15:14:41.975757900Z"
    }
   },
   "outputs": [],
   "source": [
    "import numpy as np\n",
    "import pandas as pd\n",
    "import matplotlib.pyplot as plt\n",
    "import seaborn as sns\n",
    "\n",
    "\n",
    "import re\n",
    "import nltk\n",
    "from nltk.corpus import stopwords\n",
    "from nltk.stem import WordNetLemmatizer\n",
    "from sklearn.model_selection import train_test_split\n",
    "\n",
    "from sklearn.feature_extraction.text import CountVectorizer\n",
    "from sklearn.naive_bayes import MultinomialNB\n",
    "from sklearn.metrics import classification_report\n",
    "from sklearn.feature_extraction.text import TfidfVectorizer\n",
    "from sklearn.linear_model import LogisticRegression\n",
    "from sklearn.model_selection import GridSearchCV\n",
    "from sklearn.pipeline import Pipeline\n",
    "from sklearn.metrics import accuracy_score, precision_score, recall_score, f1_score\n"
   ]
  },
  {
   "cell_type": "code",
   "outputs": [],
   "source": [
    "\n",
    "df = pd.read_csv('dataset.csv')"
   ],
   "metadata": {
    "collapsed": false,
    "ExecuteTime": {
     "end_time": "2024-05-14T15:14:42.433921800Z",
     "start_time": "2024-05-14T15:14:42.139979800Z"
    }
   },
   "id": "fcf39cdd53a6246d",
   "execution_count": 107
  },
  {
   "cell_type": "code",
   "outputs": [
    {
     "data": {
      "text/plain": "                                                text  humor\n0  Joe biden rules out 2020 bid: 'guys, i'm not r...  False\n1  Watch: darvish gave hitter whiplash with slow ...  False\n2  What do you call a turtle without its shell? d...   True\n3      5 reasons the 2016 election feels so personal  False\n4  Pasco police shot mexican migrant from behind,...  False",
      "text/html": "<div>\n<style scoped>\n    .dataframe tbody tr th:only-of-type {\n        vertical-align: middle;\n    }\n\n    .dataframe tbody tr th {\n        vertical-align: top;\n    }\n\n    .dataframe thead th {\n        text-align: right;\n    }\n</style>\n<table border=\"1\" class=\"dataframe\">\n  <thead>\n    <tr style=\"text-align: right;\">\n      <th></th>\n      <th>text</th>\n      <th>humor</th>\n    </tr>\n  </thead>\n  <tbody>\n    <tr>\n      <th>0</th>\n      <td>Joe biden rules out 2020 bid: 'guys, i'm not r...</td>\n      <td>False</td>\n    </tr>\n    <tr>\n      <th>1</th>\n      <td>Watch: darvish gave hitter whiplash with slow ...</td>\n      <td>False</td>\n    </tr>\n    <tr>\n      <th>2</th>\n      <td>What do you call a turtle without its shell? d...</td>\n      <td>True</td>\n    </tr>\n    <tr>\n      <th>3</th>\n      <td>5 reasons the 2016 election feels so personal</td>\n      <td>False</td>\n    </tr>\n    <tr>\n      <th>4</th>\n      <td>Pasco police shot mexican migrant from behind,...</td>\n      <td>False</td>\n    </tr>\n  </tbody>\n</table>\n</div>"
     },
     "execution_count": 108,
     "metadata": {},
     "output_type": "execute_result"
    }
   ],
   "source": [
    "df.head()"
   ],
   "metadata": {
    "collapsed": false,
    "ExecuteTime": {
     "end_time": "2024-05-14T15:14:42.436111300Z",
     "start_time": "2024-05-14T15:14:42.403706500Z"
    }
   },
   "id": "3808059e9b27ecb7",
   "execution_count": 108
  },
  {
   "cell_type": "code",
   "outputs": [
    {
     "data": {
      "text/plain": "text     0\nhumor    0\ndtype: int64"
     },
     "execution_count": 109,
     "metadata": {},
     "output_type": "execute_result"
    }
   ],
   "source": [
    "df.isna().sum()"
   ],
   "metadata": {
    "collapsed": false,
    "ExecuteTime": {
     "end_time": "2024-05-14T15:14:42.455610600Z",
     "start_time": "2024-05-14T15:14:42.411615600Z"
    }
   },
   "id": "7281adad743fa7e5",
   "execution_count": 109
  },
  {
   "cell_type": "code",
   "outputs": [
    {
     "data": {
      "text/plain": "humor\nFalse    100000\nTrue     100000\nName: count, dtype: int64"
     },
     "execution_count": 110,
     "metadata": {},
     "output_type": "execute_result"
    }
   ],
   "source": [
    "df['humor'].value_counts()"
   ],
   "metadata": {
    "collapsed": false,
    "ExecuteTime": {
     "end_time": "2024-05-14T15:14:42.456948600Z",
     "start_time": "2024-05-14T15:14:42.427425800Z"
    }
   },
   "id": "354de3f81cb8f64e",
   "execution_count": 110
  },
  {
   "cell_type": "code",
   "outputs": [],
   "source": [
    "def clean_text(text):\n",
    "    text = re.sub(r'<.*?>', '', text)\n",
    "    text = re.sub(r'[^a-zA-Z\\s]', '', text) \n",
    "    text = text.lower()  \n",
    "    text = text.strip()  # Видалення пробілів на початку та в кінці\n",
    "    return text\n",
    "\n",
    "df['text'] = df['text'].apply(clean_text)"
   ],
   "metadata": {
    "collapsed": false,
    "ExecuteTime": {
     "end_time": "2024-05-14T15:14:42.935721300Z",
     "start_time": "2024-05-14T15:14:42.434923500Z"
    }
   },
   "id": "6fc39c0eb3cb1d65",
   "execution_count": 111
  },
  {
   "cell_type": "code",
   "outputs": [
    {
     "data": {
      "text/plain": "0              joe biden rules out  bid guys im not running\n1         watch darvish gave hitter whiplash with slow p...\n2          what do you call a turtle without its shell dead\n3                   reasons the  election feels so personal\n4         pasco police shot mexican migrant from behind ...\n                                ...                        \n199995    conor maynard seamlessly fits oldschool rb hit...\n199996    how to you make holy water you boil the hell o...\n199997    how many optometrists does it take to screw in...\n199998    mcdonalds will officially kick off allday brea...\n199999    an irish man walks on the street and ignores a...\nName: text, Length: 200000, dtype: object"
     },
     "execution_count": 112,
     "metadata": {},
     "output_type": "execute_result"
    }
   ],
   "source": [
    "df['text']"
   ],
   "metadata": {
    "collapsed": false,
    "ExecuteTime": {
     "end_time": "2024-05-14T15:14:42.936968800Z",
     "start_time": "2024-05-14T15:14:42.923084400Z"
    }
   },
   "id": "aa4c340160981ac9",
   "execution_count": 112
  },
  {
   "cell_type": "code",
   "outputs": [
    {
     "name": "stderr",
     "output_type": "stream",
     "text": [
      "[nltk_data] Downloading package stopwords to\n",
      "[nltk_data]     C:\\Users\\Oleg_PC\\AppData\\Roaming\\nltk_data...\n",
      "[nltk_data]   Package stopwords is already up-to-date!\n"
     ]
    }
   ],
   "source": [
    "nltk.download('stopwords')\n",
    "stop_words = set(stopwords.words('english'))\n",
    "\n",
    "def remove_stopwords(text):\n",
    "    words = text.split()\n",
    "    filtered_words = [word for word in words if word not in stop_words]\n",
    "    return ' '.join(filtered_words)\n",
    "\n",
    "df['text'] = df['text'].apply(remove_stopwords)"
   ],
   "metadata": {
    "collapsed": false,
    "ExecuteTime": {
     "end_time": "2024-05-14T15:14:43.322970200Z",
     "start_time": "2024-05-14T15:14:42.935721300Z"
    }
   },
   "id": "e03f5b5b97e32b91",
   "execution_count": 113
  },
  {
   "cell_type": "code",
   "outputs": [
    {
     "data": {
      "text/plain": "0                       joe biden rules bid guys im running\n1             watch darvish gave hitter whiplash slow pitch\n2                            call turtle without shell dead\n3                           reasons election feels personal\n4         pasco police shot mexican migrant behind new a...\n                                ...                        \n199995    conor maynard seamlessly fits oldschool rb hit...\n199996                            make holy water boil hell\n199997    many optometrists take screw lightbulb one two...\n199998    mcdonalds officially kick allday breakfast oct...\n199999    irish man walks street ignores bar muahahaha l...\nName: text, Length: 200000, dtype: object"
     },
     "execution_count": 114,
     "metadata": {},
     "output_type": "execute_result"
    }
   ],
   "source": [
    "df['text']"
   ],
   "metadata": {
    "collapsed": false,
    "ExecuteTime": {
     "end_time": "2024-05-14T15:14:43.322970200Z",
     "start_time": "2024-05-14T15:14:43.315953300Z"
    }
   },
   "id": "12ff7db8669f07",
   "execution_count": 114
  },
  {
   "cell_type": "code",
   "outputs": [
    {
     "name": "stderr",
     "output_type": "stream",
     "text": [
      "[nltk_data] Downloading package wordnet to\n",
      "[nltk_data]     C:\\Users\\Oleg_PC\\AppData\\Roaming\\nltk_data...\n",
      "[nltk_data]   Package wordnet is already up-to-date!\n"
     ]
    }
   ],
   "source": [
    "nltk.download('wordnet')\n",
    "lemmatizer = WordNetLemmatizer()\n",
    "\n",
    "def lemmatize_text(text):\n",
    "    words = text.split()\n",
    "    lemmatized_words = [lemmatizer.lemmatize(word) for word in words]\n",
    "    return ' '.join(lemmatized_words)\n",
    "\n",
    "df['text'] = df['text'].apply(lemmatize_text)"
   ],
   "metadata": {
    "collapsed": false,
    "ExecuteTime": {
     "end_time": "2024-05-14T15:14:47.312598200Z",
     "start_time": "2024-05-14T15:14:43.320778300Z"
    }
   },
   "id": "78af1cb54e362e24",
   "execution_count": 115
  },
  {
   "cell_type": "code",
   "outputs": [
    {
     "data": {
      "text/plain": "0                         joe biden rule bid guy im running\n1             watch darvish gave hitter whiplash slow pitch\n2                            call turtle without shell dead\n3                             reason election feel personal\n4         pasco police shot mexican migrant behind new a...\n                                ...                        \n199995    conor maynard seamlessly fit oldschool rb hit ...\n199996                            make holy water boil hell\n199997    many optometrist take screw lightbulb one two ...\n199998    mcdonalds officially kick allday breakfast oct...\n199999    irish man walk street ignores bar muahahaha li...\nName: text, Length: 200000, dtype: object"
     },
     "execution_count": 116,
     "metadata": {},
     "output_type": "execute_result"
    }
   ],
   "source": [
    "df['text']"
   ],
   "metadata": {
    "collapsed": false,
    "ExecuteTime": {
     "end_time": "2024-05-14T15:14:47.327047400Z",
     "start_time": "2024-05-14T15:14:47.314499200Z"
    }
   },
   "id": "a06d2490491f8011",
   "execution_count": 116
  },
  {
   "cell_type": "code",
   "outputs": [],
   "source": [
    "X = df['text']\n",
    "y = df['humor']\n",
    "\n",
    "\n",
    "X_train,X_test,y_train,y_test = train_test_split(X,y,test_size=0.5,random_state=42)"
   ],
   "metadata": {
    "collapsed": false,
    "ExecuteTime": {
     "end_time": "2024-05-14T15:14:47.345105500Z",
     "start_time": "2024-05-14T15:14:47.319749200Z"
    }
   },
   "id": "b741d3c6732dceb5",
   "execution_count": 117
  },
  {
   "cell_type": "markdown",
   "source": [
    "# CountVectorizer"
   ],
   "metadata": {
    "collapsed": false
   },
   "id": "32c7d266365156b2"
  },
  {
   "cell_type": "code",
   "outputs": [],
   "source": [
    "# Кодування тексту методом \"мішка слів\"\n",
    "vectorizer = CountVectorizer()\n",
    "X_train_bow = vectorizer.fit_transform(X_train)\n",
    "X_test_bow = vectorizer.transform(X_test)\n",
    "\n",
    "# Навчання класифікатора\n",
    "nb_classifier = MultinomialNB()\n",
    "nb_classifier.fit(X_train_bow, y_train)\n",
    "\n",
    "# Прогнозування на тестовій вибірці\n",
    "y_pred_bow_st = nb_classifier.predict(X_test_bow)"
   ],
   "metadata": {
    "collapsed": false,
    "ExecuteTime": {
     "end_time": "2024-05-14T15:14:48.718626100Z",
     "start_time": "2024-05-14T15:14:47.346118800Z"
    }
   },
   "id": "25690ebc8cbaf86d",
   "execution_count": 118
  },
  {
   "cell_type": "code",
   "outputs": [
    {
     "name": "stdout",
     "output_type": "stream",
     "text": [
      "Accuracy: 0.89831\n",
      "Precision: 0.8879811713446538\n",
      "Recall: 0.9119092325516359\n",
      "F1 Score: 0.8997861500103476\n",
      "\n",
      "\n",
      "Classification Report:\n",
      "              precision    recall  f1-score   support\n",
      "\n",
      "       False       0.91      0.88      0.90     49938\n",
      "        True       0.89      0.91      0.90     50062\n",
      "\n",
      "    accuracy                           0.90    100000\n",
      "   macro avg       0.90      0.90      0.90    100000\n",
      "weighted avg       0.90      0.90      0.90    100000\n"
     ]
    }
   ],
   "source": [
    "def print_metrics_log_for_y_pred(y_test, y_pred):  \n",
    "    print(f\"Accuracy: {accuracy_score(y_test, y_pred)}\")\n",
    "    print(f\"Precision: {precision_score(y_test, y_pred)}\")\n",
    "    print(f\"Recall: {recall_score(y_test, y_pred)}\")\n",
    "    print(f\"F1 Score: {f1_score(y_test, y_pred)}\")\n",
    "    print(\"\\n\\nClassification Report:\")\n",
    "    print(classification_report(y_test, y_pred))\n",
    "    \n",
    "print_metrics_log_for_y_pred(y_test,y_pred_bow_st)"
   ],
   "metadata": {
    "collapsed": false,
    "ExecuteTime": {
     "end_time": "2024-05-14T15:14:48.940381200Z",
     "start_time": "2024-05-14T15:14:48.720935700Z"
    }
   },
   "id": "15f5f316875939c3",
   "execution_count": 119
  },
  {
   "cell_type": "code",
   "outputs": [],
   "source": [],
   "metadata": {
    "collapsed": false,
    "ExecuteTime": {
     "end_time": "2024-05-14T15:14:48.941884300Z",
     "start_time": "2024-05-14T15:14:48.926660400Z"
    }
   },
   "id": "e14675cf6bf501e4",
   "execution_count": 119
  },
  {
   "cell_type": "markdown",
   "source": [
    "# TF-IDF"
   ],
   "metadata": {
    "collapsed": false
   },
   "id": "7520a6e52c5c663a"
  },
  {
   "cell_type": "code",
   "outputs": [],
   "source": [
    "# Кодування тексту методом TF-IDF\n",
    "tfidf_vectorizer = TfidfVectorizer()\n",
    "X_train_tfidf = tfidf_vectorizer.fit_transform(X_train)\n",
    "X_test_tfidf = tfidf_vectorizer.transform(X_test)\n",
    "\n",
    "# Навчання класифікатора\n",
    "logreg_classifier = LogisticRegression()\n",
    "logreg_classifier.fit(X_train_tfidf, y_train)\n",
    "\n",
    "# Прогнозування на тестовій вибірці\n",
    "y_pred_tfidf_st = logreg_classifier.predict(X_test_tfidf)\n"
   ],
   "metadata": {
    "collapsed": false,
    "ExecuteTime": {
     "end_time": "2024-05-14T15:14:50.813158500Z",
     "start_time": "2024-05-14T15:14:48.927664900Z"
    }
   },
   "id": "d4bb588c557415a7",
   "execution_count": 120
  },
  {
   "cell_type": "code",
   "outputs": [
    {
     "name": "stdout",
     "output_type": "stream",
     "text": [
      "Accuracy: 0.89748\n",
      "Precision: 0.9001005025125628\n",
      "Recall: 0.8944908313691023\n",
      "F1 Score: 0.8972868993708172\n",
      "\n",
      "\n",
      "Classification Report:\n",
      "              precision    recall  f1-score   support\n",
      "\n",
      "       False       0.89      0.90      0.90     49938\n",
      "        True       0.90      0.89      0.90     50062\n",
      "\n",
      "    accuracy                           0.90    100000\n",
      "   macro avg       0.90      0.90      0.90    100000\n",
      "weighted avg       0.90      0.90      0.90    100000\n"
     ]
    }
   ],
   "source": [
    "print_metrics_log_for_y_pred(y_test,y_pred_tfidf_st)"
   ],
   "metadata": {
    "collapsed": false,
    "ExecuteTime": {
     "end_time": "2024-05-14T15:14:51.031997300Z",
     "start_time": "2024-05-14T15:14:50.813158500Z"
    }
   },
   "id": "24ed073518b5b7e5",
   "execution_count": 121
  },
  {
   "cell_type": "markdown",
   "source": [
    "Для кожного типу екодування тексту навчити векторизатор на навчальній вибірці, перетворити навчальні та тестові тексти, навчити моделі з тюнінгом гіперпараметрів;"
   ],
   "metadata": {
    "collapsed": false
   },
   "id": "d547e10cdcf28ba8"
  },
  {
   "cell_type": "markdown",
   "source": [
    "# CountVectorizer 2"
   ],
   "metadata": {
    "collapsed": false
   },
   "id": "e6c83b29ba11f8de"
  },
  {
   "cell_type": "code",
   "outputs": [
    {
     "name": "stdout",
     "output_type": "stream",
     "text": [
      "Fitting 5 folds for each of 24 candidates, totalling 120 fits\n",
      "Best parameters for Bag of Words:\n",
      "{'clf__alpha': 1.0, 'vect__max_df': 0.75, 'vect__min_df': 1, 'vect__ngram_range': (1, 2)}\n"
     ]
    }
   ],
   "source": [
    "\n",
    "# Пайплайн для векторизатора і класифікатора\n",
    "pipeline_bow = Pipeline([\n",
    "    ('vect', CountVectorizer()),\n",
    "    ('clf', MultinomialNB())\n",
    "])\n",
    "\n",
    "# Параметри для тюнінгу\n",
    "parameters_bow = {\n",
    "    'vect__ngram_range': [(1, 1), (1, 2)],\n",
    "    'vect__max_df': [0.75, 1.0],\n",
    "    'vect__min_df': [1, 2],\n",
    "    'clf__alpha': [0.1, 1.0, 10.0]\n",
    "}\n",
    "\n",
    "grid_search_bow = GridSearchCV(pipeline_bow, parameters_bow, cv=5, n_jobs=-1, verbose=1)\n",
    "grid_search_bow.fit(X_train, y_train)\n",
    "\n",
    "print(\"Best parameters for Bag of Words:\")\n",
    "print(grid_search_bow.best_params_)\n"
   ],
   "metadata": {
    "collapsed": false,
    "ExecuteTime": {
     "end_time": "2024-05-14T15:15:23.281209600Z",
     "start_time": "2024-05-14T15:14:51.013562Z"
    }
   },
   "id": "5efb4c0d8fb3eb53",
   "execution_count": 122
  },
  {
   "cell_type": "code",
   "outputs": [
    {
     "name": "stdout",
     "output_type": "stream",
     "text": [
      "Accuracy: 0.91122\n",
      "Precision: 0.9019833678210284\n",
      "Recall: 0.9229555351364308\n",
      "F1 Score: 0.9123489455809177\n",
      "\n",
      "\n",
      "Classification Report:\n",
      "              precision    recall  f1-score   support\n",
      "\n",
      "       False       0.92      0.90      0.91     49938\n",
      "        True       0.90      0.92      0.91     50062\n",
      "\n",
      "    accuracy                           0.91    100000\n",
      "   macro avg       0.91      0.91      0.91    100000\n",
      "weighted avg       0.91      0.91      0.91    100000\n"
     ]
    }
   ],
   "source": [
    "y_pred_bow = grid_search_bow.predict(X_test)\n",
    "\n",
    "print_metrics_log_for_y_pred(y_test, y_pred_bow)"
   ],
   "metadata": {
    "collapsed": false,
    "ExecuteTime": {
     "end_time": "2024-05-14T15:15:24.641236900Z",
     "start_time": "2024-05-14T15:15:23.272180300Z"
    }
   },
   "id": "b0da74789a119cbf",
   "execution_count": 123
  },
  {
   "cell_type": "markdown",
   "source": [
    "#  TF-ID з тюнінгом гіперпараметрів"
   ],
   "metadata": {
    "collapsed": false
   },
   "id": "85ce7e4233d1786d"
  },
  {
   "cell_type": "code",
   "outputs": [
    {
     "name": "stdout",
     "output_type": "stream",
     "text": [
      "Fitting 5 folds for each of 24 candidates, totalling 120 fits\n",
      "Best parameters for TF-IDF:\n",
      "{'clf__C': 10.0, 'vect__max_df': 0.75, 'vect__min_df': 2, 'vect__ngram_range': (1, 2)}\n"
     ]
    }
   ],
   "source": [
    "pipeline_tfidf = Pipeline([\n",
    "    ('vect', TfidfVectorizer()),\n",
    "    ('clf', LogisticRegression())\n",
    "])\n",
    "\n",
    "parameters_tfidf = {\n",
    "    'vect__ngram_range': [(1, 1), (1, 2)],\n",
    "    'vect__max_df': [0.75, 1.0],\n",
    "    'vect__min_df': [1, 2],\n",
    "    'clf__C': [0.1, 1.0, 10.0]\n",
    "}\n",
    "\n",
    "grid_search_tfidf = GridSearchCV(pipeline_tfidf, parameters_tfidf, cv=5, n_jobs=-1, verbose=1)\n",
    "grid_search_tfidf.fit(X_train, y_train)\n",
    "\n",
    "print(\"Best parameters for TF-IDF:\")\n",
    "print(grid_search_tfidf.best_params_)"
   ],
   "metadata": {
    "collapsed": false,
    "ExecuteTime": {
     "end_time": "2024-05-14T15:16:25.177620500Z",
     "start_time": "2024-05-14T15:15:24.629747Z"
    }
   },
   "id": "dc910beea4b441f0",
   "execution_count": 124
  },
  {
   "cell_type": "code",
   "outputs": [
    {
     "name": "stdout",
     "output_type": "stream",
     "text": [
      "Accuracy: 0.91201\n",
      "Precision: 0.9093470367651435\n",
      "Recall: 0.9155047740801406\n",
      "F1 Score: 0.9124155161601784\n",
      "\n",
      "\n",
      "Classification Report:\n",
      "              precision    recall  f1-score   support\n",
      "\n",
      "       False       0.91      0.91      0.91     49938\n",
      "        True       0.91      0.92      0.91     50062\n",
      "\n",
      "    accuracy                           0.91    100000\n",
      "   macro avg       0.91      0.91      0.91    100000\n",
      "weighted avg       0.91      0.91      0.91    100000\n"
     ]
    }
   ],
   "source": [
    "y_pred_tfidf = grid_search_tfidf.predict(X_test)\n",
    "\n",
    "print_metrics_log_for_y_pred(y_test, y_pred_tfidf)"
   ],
   "metadata": {
    "collapsed": false,
    "ExecuteTime": {
     "end_time": "2024-05-14T15:16:26.482307400Z",
     "start_time": "2024-05-14T15:16:25.169082400Z"
    }
   },
   "id": "8b339b2a4cbe0381",
   "execution_count": 125
  },
  {
   "cell_type": "code",
   "outputs": [
    {
     "name": "stdout",
     "output_type": "stream",
     "text": [
      "      Metric  Bag of Words    TF-IDF\n",
      "0   Accuracy      0.911220  0.912010\n",
      "1  Precision      0.901983  0.909347\n",
      "2     Recall      0.922956  0.915505\n",
      "3   F1-score      0.912349  0.912416\n"
     ]
    }
   ],
   "source": [
    "# Обчислення метрик для моделі з \"мішком слів\"\n",
    "accuracy_bow = accuracy_score(y_test, y_pred_bow)\n",
    "precision_bow = precision_score(y_test, y_pred_bow)\n",
    "recall_bow = recall_score(y_test, y_pred_bow)\n",
    "f1_bow = f1_score(y_test, y_pred_bow)\n",
    "\n",
    "# Обчислення метрик для моделі з TF-IDF\n",
    "accuracy_tfidf = accuracy_score(y_test, y_pred_tfidf)\n",
    "precision_tfidf = precision_score(y_test, y_pred_tfidf)\n",
    "recall_tfidf = recall_score(y_test, y_pred_tfidf)\n",
    "f1_tfidf = f1_score(y_test, y_pred_tfidf)\n",
    "\n",
    "# Створення порівняльної таблиці\n",
    "comparison_table = pd.DataFrame({\n",
    "    'Metric': ['Accuracy', 'Precision', 'Recall', 'F1-score'],\n",
    "    'Bag of Words': [accuracy_bow, precision_bow, recall_bow, f1_bow],\n",
    "    'TF-IDF': [accuracy_tfidf, precision_tfidf, recall_tfidf, f1_tfidf]\n",
    "})\n",
    "\n",
    "print(comparison_table)"
   ],
   "metadata": {
    "collapsed": false,
    "ExecuteTime": {
     "end_time": "2024-05-14T15:16:26.646254900Z",
     "start_time": "2024-05-14T15:16:26.473442700Z"
    }
   },
   "id": "a96eaf300cfc21c5",
   "execution_count": 126
  },
  {
   "cell_type": "code",
   "outputs": [],
   "source": [],
   "metadata": {
    "collapsed": false,
    "ExecuteTime": {
     "end_time": "2024-05-14T15:16:26.646254900Z",
     "start_time": "2024-05-14T15:16:26.638389900Z"
    }
   },
   "id": "ac210352f5813724",
   "execution_count": 126
  }
 ],
 "metadata": {
  "kernelspec": {
   "display_name": "Python 3",
   "language": "python",
   "name": "python3"
  },
  "language_info": {
   "codemirror_mode": {
    "name": "ipython",
    "version": 2
   },
   "file_extension": ".py",
   "mimetype": "text/x-python",
   "name": "python",
   "nbconvert_exporter": "python",
   "pygments_lexer": "ipython2",
   "version": "2.7.6"
  }
 },
 "nbformat": 4,
 "nbformat_minor": 5
}
